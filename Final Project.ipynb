{
 "cells": [
  {
   "cell_type": "markdown",
   "metadata": {},
   "source": [
    "## Cleaning"
   ]
  },
  {
   "cell_type": "code",
   "execution_count": 238,
   "metadata": {},
   "outputs": [],
   "source": [
    "# Import modules\n",
    "import pandas as pd\n",
    "import numpy as np\n",
    "import matplotlib.pyplot as plt\n",
    "import matplotlib.ticker as ticker\n",
    "import datetime"
   ]
  },
  {
   "cell_type": "code",
   "execution_count": 219,
   "metadata": {},
   "outputs": [],
   "source": [
    "# Load dataset\n",
    "districts = pd.read_csv('DistrictCorrespondingZips.csv')\n",
    "# Rename columns\n",
    "districts = districts.rename(columns={'ZipCode': 'ZipCode'})\n",
    "# Drop duplicate rows\n",
    "districts.drop_duplicates(inplace=True)"
   ]
  },
  {
   "cell_type": "code",
   "execution_count": 88,
   "metadata": {},
   "outputs": [],
   "source": [
    "# Load dataset\n",
    "incomes = pd.read_csv('IncomeLevels.csv')\n",
    "# Rename columns\n",
    "incomes = incomes.rename(columns={'Zip Code': 'ZipCode'})"
   ]
  },
  {
   "cell_type": "code",
   "execution_count": 74,
   "metadata": {},
   "outputs": [
    {
     "data": {
      "text/html": [
       "<div>\n",
       "<style scoped>\n",
       "    .dataframe tbody tr th:only-of-type {\n",
       "        vertical-align: middle;\n",
       "    }\n",
       "\n",
       "    .dataframe tbody tr th {\n",
       "        vertical-align: top;\n",
       "    }\n",
       "\n",
       "    .dataframe thead th {\n",
       "        text-align: right;\n",
       "    }\n",
       "</style>\n",
       "<table border=\"1\" class=\"dataframe\">\n",
       "  <thead>\n",
       "    <tr style=\"text-align: right;\">\n",
       "      <th></th>\n",
       "      <th>ZIPCODE</th>\n",
       "      <th>POPULATION</th>\n",
       "      <th>AVG. INCOME</th>\n",
       "      <th>DISTRICT</th>\n",
       "    </tr>\n",
       "  </thead>\n",
       "  <tbody>\n",
       "    <tr>\n",
       "      <td>0</td>\n",
       "      <td>2116</td>\n",
       "      <td>19,682</td>\n",
       "      <td>$60,467.00</td>\n",
       "      <td>D4</td>\n",
       "    </tr>\n",
       "    <tr>\n",
       "      <td>1</td>\n",
       "      <td>2114</td>\n",
       "      <td>10,868</td>\n",
       "      <td>$55,678.00</td>\n",
       "      <td>A1</td>\n",
       "    </tr>\n",
       "    <tr>\n",
       "      <td>2</td>\n",
       "      <td>2114</td>\n",
       "      <td>10,868</td>\n",
       "      <td>$55,678.00</td>\n",
       "      <td>A15</td>\n",
       "    </tr>\n",
       "    <tr>\n",
       "      <td>3</td>\n",
       "      <td>2122</td>\n",
       "      <td>24,548</td>\n",
       "      <td>$40,021.00</td>\n",
       "      <td>C11</td>\n",
       "    </tr>\n",
       "    <tr>\n",
       "      <td>4</td>\n",
       "      <td>2127</td>\n",
       "      <td>29,456</td>\n",
       "      <td>$39,625.00</td>\n",
       "      <td>C6</td>\n",
       "    </tr>\n",
       "    <tr>\n",
       "      <td>5</td>\n",
       "      <td>2124</td>\n",
       "      <td>50,781</td>\n",
       "      <td>$36,025.00</td>\n",
       "      <td>B3</td>\n",
       "    </tr>\n",
       "    <tr>\n",
       "      <td>6</td>\n",
       "      <td>2128</td>\n",
       "      <td>38,413</td>\n",
       "      <td>$31,013.00</td>\n",
       "      <td>A7</td>\n",
       "    </tr>\n",
       "    <tr>\n",
       "      <td>7</td>\n",
       "      <td>2119</td>\n",
       "      <td>23,823</td>\n",
       "      <td>$26,120.00</td>\n",
       "      <td>B2</td>\n",
       "    </tr>\n",
       "  </tbody>\n",
       "</table>\n",
       "</div>"
      ],
      "text/plain": [
       "   ZIPCODE POPULATION  AVG. INCOME DISTRICT\n",
       "0     2116     19,682  $60,467.00        D4\n",
       "1     2114     10,868  $55,678.00        A1\n",
       "2     2114     10,868  $55,678.00       A15\n",
       "3     2122     24,548  $40,021.00       C11\n",
       "4     2127     29,456  $39,625.00        C6\n",
       "5     2124     50,781  $36,025.00        B3\n",
       "6     2128     38,413  $31,013.00        A7\n",
       "7     2119     23,823  $26,120.00        B2"
      ]
     },
     "execution_count": 74,
     "metadata": {},
     "output_type": "execute_result"
    }
   ],
   "source": [
    "# Merge datasets\n",
    "income_dst = incomes.merge(districts, on='ZipCode', how='inner')\n",
    "income_dst.columns = ['ZIPCODE', 'POPULATION', 'AVG. INCOME', 'DISTRICT']\n",
    "\n",
    "income_dst"
   ]
  },
  {
   "cell_type": "code",
   "execution_count": 10,
   "metadata": {
    "scrolled": true
   },
   "outputs": [
    {
     "data": {
      "text/html": [
       "<div>\n",
       "<style scoped>\n",
       "    .dataframe tbody tr th:only-of-type {\n",
       "        vertical-align: middle;\n",
       "    }\n",
       "\n",
       "    .dataframe tbody tr th {\n",
       "        vertical-align: top;\n",
       "    }\n",
       "\n",
       "    .dataframe thead th {\n",
       "        text-align: right;\n",
       "    }\n",
       "</style>\n",
       "<table border=\"1\" class=\"dataframe\">\n",
       "  <thead>\n",
       "    <tr style=\"text-align: right;\">\n",
       "      <th></th>\n",
       "      <th>DATE</th>\n",
       "      <th>PRCP</th>\n",
       "      <th>SNOW</th>\n",
       "      <th>TAVG</th>\n",
       "      <th>TMAX</th>\n",
       "      <th>TMIN</th>\n",
       "    </tr>\n",
       "  </thead>\n",
       "  <tbody>\n",
       "    <tr>\n",
       "      <td>0</td>\n",
       "      <td>2015-01-01</td>\n",
       "      <td>0.00</td>\n",
       "      <td>0.0</td>\n",
       "      <td>26</td>\n",
       "      <td>33</td>\n",
       "      <td>22</td>\n",
       "    </tr>\n",
       "    <tr>\n",
       "      <td>1</td>\n",
       "      <td>2015-01-02</td>\n",
       "      <td>0.00</td>\n",
       "      <td>0.0</td>\n",
       "      <td>34</td>\n",
       "      <td>41</td>\n",
       "      <td>31</td>\n",
       "    </tr>\n",
       "    <tr>\n",
       "      <td>2</td>\n",
       "      <td>2015-01-03</td>\n",
       "      <td>0.62</td>\n",
       "      <td>1.4</td>\n",
       "      <td>28</td>\n",
       "      <td>37</td>\n",
       "      <td>22</td>\n",
       "    </tr>\n",
       "    <tr>\n",
       "      <td>3</td>\n",
       "      <td>2015-01-04</td>\n",
       "      <td>0.57</td>\n",
       "      <td>0.0</td>\n",
       "      <td>38</td>\n",
       "      <td>52</td>\n",
       "      <td>35</td>\n",
       "    </tr>\n",
       "    <tr>\n",
       "      <td>4</td>\n",
       "      <td>2015-01-05</td>\n",
       "      <td>0.00</td>\n",
       "      <td>0.0</td>\n",
       "      <td>40</td>\n",
       "      <td>50</td>\n",
       "      <td>17</td>\n",
       "    </tr>\n",
       "  </tbody>\n",
       "</table>\n",
       "</div>"
      ],
      "text/plain": [
       "         DATE  PRCP  SNOW  TAVG  TMAX  TMIN\n",
       "0  2015-01-01  0.00   0.0    26    33    22\n",
       "1  2015-01-02  0.00   0.0    34    41    31\n",
       "2  2015-01-03  0.62   1.4    28    37    22\n",
       "3  2015-01-04  0.57   0.0    38    52    35\n",
       "4  2015-01-05  0.00   0.0    40    50    17"
      ]
     },
     "execution_count": 10,
     "metadata": {},
     "output_type": "execute_result"
    }
   ],
   "source": [
    "# Load dataset\n",
    "weather = pd.read_csv('weather.csv')\n",
    "\n",
    "weather_cln = weather.loc[:,['DATE', 'PRCP', 'SNOW', 'TAVG', 'TMAX', 'TMIN']]\n",
    "\n",
    "# Convert to datetime\n",
    "weather_cln['DATE'] = pd.to_datetime(weather_cln['DATE'], format='%Y-%m-%d').dt.date\n",
    "weather_cln.head()"
   ]
  },
  {
   "cell_type": "code",
   "execution_count": 229,
   "metadata": {},
   "outputs": [
    {
     "data": {
      "text/html": [
       "<div>\n",
       "<style scoped>\n",
       "    .dataframe tbody tr th:only-of-type {\n",
       "        vertical-align: middle;\n",
       "    }\n",
       "\n",
       "    .dataframe tbody tr th {\n",
       "        vertical-align: top;\n",
       "    }\n",
       "\n",
       "    .dataframe thead th {\n",
       "        text-align: right;\n",
       "    }\n",
       "</style>\n",
       "<table border=\"1\" class=\"dataframe\">\n",
       "  <thead>\n",
       "    <tr style=\"text-align: right;\">\n",
       "      <th></th>\n",
       "      <th>INCIDENT_NUMBER</th>\n",
       "      <th>OFFENSE_CODE_GROUP</th>\n",
       "      <th>DISTRICT</th>\n",
       "      <th>SHOOTING</th>\n",
       "      <th>OCCURRED_ON_DATE</th>\n",
       "      <th>DAY_OF_WEEK</th>\n",
       "      <th>HOUR</th>\n",
       "      <th>UCR_PART</th>\n",
       "    </tr>\n",
       "  </thead>\n",
       "  <tbody>\n",
       "    <tr>\n",
       "      <td>0</td>\n",
       "      <td>I182080058</td>\n",
       "      <td>Disorderly Conduct</td>\n",
       "      <td>E18</td>\n",
       "      <td>N</td>\n",
       "      <td>2018-10-03 20:13:00</td>\n",
       "      <td>Wednesday</td>\n",
       "      <td>20</td>\n",
       "      <td>Part Two</td>\n",
       "    </tr>\n",
       "    <tr>\n",
       "      <td>1</td>\n",
       "      <td>I182080053</td>\n",
       "      <td>Property Lost</td>\n",
       "      <td>D14</td>\n",
       "      <td>N</td>\n",
       "      <td>2018-08-30 20:00:00</td>\n",
       "      <td>Thursday</td>\n",
       "      <td>20</td>\n",
       "      <td>Part Three</td>\n",
       "    </tr>\n",
       "    <tr>\n",
       "      <td>2</td>\n",
       "      <td>I182080052</td>\n",
       "      <td>Other</td>\n",
       "      <td>B2</td>\n",
       "      <td>N</td>\n",
       "      <td>2018-10-03 19:20:00</td>\n",
       "      <td>Wednesday</td>\n",
       "      <td>19</td>\n",
       "      <td>Part Two</td>\n",
       "    </tr>\n",
       "    <tr>\n",
       "      <td>3</td>\n",
       "      <td>I182080051</td>\n",
       "      <td>Aggravated Assault</td>\n",
       "      <td>A1</td>\n",
       "      <td>N</td>\n",
       "      <td>2018-10-03 20:00:00</td>\n",
       "      <td>Wednesday</td>\n",
       "      <td>20</td>\n",
       "      <td>Part One</td>\n",
       "    </tr>\n",
       "    <tr>\n",
       "      <td>4</td>\n",
       "      <td>I182080050</td>\n",
       "      <td>Aircraft</td>\n",
       "      <td>A7</td>\n",
       "      <td>N</td>\n",
       "      <td>2018-10-03 20:49:00</td>\n",
       "      <td>Wednesday</td>\n",
       "      <td>20</td>\n",
       "      <td>Part Three</td>\n",
       "    </tr>\n",
       "    <tr>\n",
       "      <td>...</td>\n",
       "      <td>...</td>\n",
       "      <td>...</td>\n",
       "      <td>...</td>\n",
       "      <td>...</td>\n",
       "      <td>...</td>\n",
       "      <td>...</td>\n",
       "      <td>...</td>\n",
       "      <td>...</td>\n",
       "    </tr>\n",
       "    <tr>\n",
       "      <td>327815</td>\n",
       "      <td>I050310906-00</td>\n",
       "      <td>Warrant Arrests</td>\n",
       "      <td>D4</td>\n",
       "      <td>N</td>\n",
       "      <td>2016-06-05 17:25:00</td>\n",
       "      <td>Sunday</td>\n",
       "      <td>17</td>\n",
       "      <td>Part Three</td>\n",
       "    </tr>\n",
       "    <tr>\n",
       "      <td>327816</td>\n",
       "      <td>I030217815-08</td>\n",
       "      <td>Homicide</td>\n",
       "      <td>E18</td>\n",
       "      <td>N</td>\n",
       "      <td>2015-07-09 13:38:00</td>\n",
       "      <td>Thursday</td>\n",
       "      <td>13</td>\n",
       "      <td>Part One</td>\n",
       "    </tr>\n",
       "    <tr>\n",
       "      <td>327817</td>\n",
       "      <td>I030217815-08</td>\n",
       "      <td>Warrant Arrests</td>\n",
       "      <td>E18</td>\n",
       "      <td>N</td>\n",
       "      <td>2015-07-09 13:38:00</td>\n",
       "      <td>Thursday</td>\n",
       "      <td>13</td>\n",
       "      <td>Part Three</td>\n",
       "    </tr>\n",
       "    <tr>\n",
       "      <td>327818</td>\n",
       "      <td>I010370257-00</td>\n",
       "      <td>Warrant Arrests</td>\n",
       "      <td>E13</td>\n",
       "      <td>N</td>\n",
       "      <td>2016-05-31 19:35:00</td>\n",
       "      <td>Tuesday</td>\n",
       "      <td>19</td>\n",
       "      <td>Part Three</td>\n",
       "    </tr>\n",
       "    <tr>\n",
       "      <td>327819</td>\n",
       "      <td>142052550</td>\n",
       "      <td>Warrant Arrests</td>\n",
       "      <td>D4</td>\n",
       "      <td>N</td>\n",
       "      <td>2015-06-22 00:12:00</td>\n",
       "      <td>Monday</td>\n",
       "      <td>0</td>\n",
       "      <td>Part Three</td>\n",
       "    </tr>\n",
       "  </tbody>\n",
       "</table>\n",
       "<p>327820 rows × 8 columns</p>\n",
       "</div>"
      ],
      "text/plain": [
       "       INCIDENT_NUMBER  OFFENSE_CODE_GROUP DISTRICT SHOOTING  \\\n",
       "0           I182080058  Disorderly Conduct      E18        N   \n",
       "1           I182080053       Property Lost      D14        N   \n",
       "2           I182080052               Other       B2        N   \n",
       "3           I182080051  Aggravated Assault       A1        N   \n",
       "4           I182080050            Aircraft       A7        N   \n",
       "...                ...                 ...      ...      ...   \n",
       "327815   I050310906-00     Warrant Arrests       D4        N   \n",
       "327816   I030217815-08            Homicide      E18        N   \n",
       "327817   I030217815-08     Warrant Arrests      E18        N   \n",
       "327818   I010370257-00     Warrant Arrests      E13        N   \n",
       "327819       142052550     Warrant Arrests       D4        N   \n",
       "\n",
       "           OCCURRED_ON_DATE DAY_OF_WEEK  HOUR    UCR_PART  \n",
       "0       2018-10-03 20:13:00   Wednesday    20    Part Two  \n",
       "1       2018-08-30 20:00:00    Thursday    20  Part Three  \n",
       "2       2018-10-03 19:20:00   Wednesday    19    Part Two  \n",
       "3       2018-10-03 20:00:00   Wednesday    20    Part One  \n",
       "4       2018-10-03 20:49:00   Wednesday    20  Part Three  \n",
       "...                     ...         ...   ...         ...  \n",
       "327815  2016-06-05 17:25:00      Sunday    17  Part Three  \n",
       "327816  2015-07-09 13:38:00    Thursday    13    Part One  \n",
       "327817  2015-07-09 13:38:00    Thursday    13  Part Three  \n",
       "327818  2016-05-31 19:35:00     Tuesday    19  Part Three  \n",
       "327819  2015-06-22 00:12:00      Monday     0  Part Three  \n",
       "\n",
       "[327820 rows x 8 columns]"
      ]
     },
     "execution_count": 229,
     "metadata": {},
     "output_type": "execute_result"
    }
   ],
   "source": [
    "# Load dataset\n",
    "crime = pd.read_csv('crime.csv',encoding='latin1', low_memory=False)\n",
    "# Change NaN values to N\n",
    "crime['SHOOTING'] = crime['SHOOTING'].replace(np.nan, 'N')\n",
    "\n",
    "crime_cln = crime.loc[:,['INCIDENT_NUMBER', 'OFFENSE_CODE_GROUP', 'DISTRICT', 'SHOOTING', 'OCCURRED_ON_DATE', 'DAY_OF_WEEK', 'HOUR', 'UCR_PART', ]]\n",
    "crime_cln"
   ]
  },
  {
   "cell_type": "code",
   "execution_count": 230,
   "metadata": {
    "scrolled": true
   },
   "outputs": [
    {
     "data": {
      "text/html": [
       "<div>\n",
       "<style scoped>\n",
       "    .dataframe tbody tr th:only-of-type {\n",
       "        vertical-align: middle;\n",
       "    }\n",
       "\n",
       "    .dataframe tbody tr th {\n",
       "        vertical-align: top;\n",
       "    }\n",
       "\n",
       "    .dataframe thead th {\n",
       "        text-align: right;\n",
       "    }\n",
       "</style>\n",
       "<table border=\"1\" class=\"dataframe\">\n",
       "  <thead>\n",
       "    <tr style=\"text-align: right;\">\n",
       "      <th></th>\n",
       "      <th>INCIDENT_NUMBER</th>\n",
       "      <th>OFFENSE_CODE_GROUP</th>\n",
       "      <th>DISTRICT</th>\n",
       "      <th>SHOOTING</th>\n",
       "      <th>DATE</th>\n",
       "      <th>DAY_OF_WEEK</th>\n",
       "      <th>HOUR</th>\n",
       "      <th>UCR_PART</th>\n",
       "    </tr>\n",
       "  </thead>\n",
       "  <tbody>\n",
       "    <tr>\n",
       "      <td>0</td>\n",
       "      <td>I182080058</td>\n",
       "      <td>Disorderly Conduct</td>\n",
       "      <td>E18</td>\n",
       "      <td>N</td>\n",
       "      <td>2018-10-03</td>\n",
       "      <td>Wednesday</td>\n",
       "      <td>20</td>\n",
       "      <td>Part Two</td>\n",
       "    </tr>\n",
       "    <tr>\n",
       "      <td>1</td>\n",
       "      <td>I182080053</td>\n",
       "      <td>Property Lost</td>\n",
       "      <td>D14</td>\n",
       "      <td>N</td>\n",
       "      <td>2018-08-30</td>\n",
       "      <td>Thursday</td>\n",
       "      <td>20</td>\n",
       "      <td>Part Three</td>\n",
       "    </tr>\n",
       "    <tr>\n",
       "      <td>2</td>\n",
       "      <td>I182080052</td>\n",
       "      <td>Other</td>\n",
       "      <td>B2</td>\n",
       "      <td>N</td>\n",
       "      <td>2018-10-03</td>\n",
       "      <td>Wednesday</td>\n",
       "      <td>19</td>\n",
       "      <td>Part Two</td>\n",
       "    </tr>\n",
       "    <tr>\n",
       "      <td>3</td>\n",
       "      <td>I182080051</td>\n",
       "      <td>Aggravated Assault</td>\n",
       "      <td>A1</td>\n",
       "      <td>N</td>\n",
       "      <td>2018-10-03</td>\n",
       "      <td>Wednesday</td>\n",
       "      <td>20</td>\n",
       "      <td>Part One</td>\n",
       "    </tr>\n",
       "    <tr>\n",
       "      <td>4</td>\n",
       "      <td>I182080050</td>\n",
       "      <td>Aircraft</td>\n",
       "      <td>A7</td>\n",
       "      <td>N</td>\n",
       "      <td>2018-10-03</td>\n",
       "      <td>Wednesday</td>\n",
       "      <td>20</td>\n",
       "      <td>Part Three</td>\n",
       "    </tr>\n",
       "  </tbody>\n",
       "</table>\n",
       "</div>"
      ],
      "text/plain": [
       "  INCIDENT_NUMBER  OFFENSE_CODE_GROUP DISTRICT SHOOTING        DATE  \\\n",
       "0      I182080058  Disorderly Conduct      E18        N  2018-10-03   \n",
       "1      I182080053       Property Lost      D14        N  2018-08-30   \n",
       "2      I182080052               Other       B2        N  2018-10-03   \n",
       "3      I182080051  Aggravated Assault       A1        N  2018-10-03   \n",
       "4      I182080050            Aircraft       A7        N  2018-10-03   \n",
       "\n",
       "  DAY_OF_WEEK  HOUR    UCR_PART  \n",
       "0   Wednesday    20    Part Two  \n",
       "1    Thursday    20  Part Three  \n",
       "2   Wednesday    19    Part Two  \n",
       "3   Wednesday    20    Part One  \n",
       "4   Wednesday    20  Part Three  "
      ]
     },
     "execution_count": 230,
     "metadata": {},
     "output_type": "execute_result"
    }
   ],
   "source": [
    "# crime_cln['OCCURRED_ON_DATE'].apply(lambda x: datetime.datetime.date(datetime.datetime.strptime(x, \"%Y-%m-%d\")))\n",
    "crime_cln.loc[:,'OCCURRED_ON_DATE'] = pd.to_datetime(crime_cln['OCCURRED_ON_DATE'], format='%Y-%m-%d').dt.date\n",
    "crime_cln = crime_cln.rename(columns={'OCCURRED_ON_DATE': 'DATE'})\n",
    "crime_cln.head()"
   ]
  },
  {
   "cell_type": "code",
   "execution_count": 13,
   "metadata": {},
   "outputs": [
    {
     "name": "stdout",
     "output_type": "stream",
     "text": [
      "(327820, 13)\n"
     ]
    }
   ],
   "source": [
    "# Merge datasets\n",
    "weatherCrime = pd.merge(crime_cln, weather_cln, on='DATE', how='inner')\n",
    "print(weatherCrime.shape)"
   ]
  },
  {
   "cell_type": "code",
   "execution_count": 14,
   "metadata": {},
   "outputs": [
    {
     "name": "stdout",
     "output_type": "stream",
     "text": [
      "True\n",
      "False\n",
      "(325953, 13)\n"
     ]
    }
   ],
   "source": [
    "# Drop NaN values \n",
    "print(weatherCrime.isnull().values.any())\n",
    "# null_columns=df.columns[df.isnull().any()]\n",
    "# print(null_columns)\n",
    "weatherCrime = weatherCrime.dropna()\n",
    "print(weatherCrime.isnull().values.any())\n",
    "print(weatherCrime.shape)"
   ]
  },
  {
   "cell_type": "code",
   "execution_count": 225,
   "metadata": {},
   "outputs": [
    {
     "data": {
      "text/html": [
       "<div>\n",
       "<style scoped>\n",
       "    .dataframe tbody tr th:only-of-type {\n",
       "        vertical-align: middle;\n",
       "    }\n",
       "\n",
       "    .dataframe tbody tr th {\n",
       "        vertical-align: top;\n",
       "    }\n",
       "\n",
       "    .dataframe thead th {\n",
       "        text-align: right;\n",
       "    }\n",
       "</style>\n",
       "<table border=\"1\" class=\"dataframe\">\n",
       "  <thead>\n",
       "    <tr style=\"text-align: right;\">\n",
       "      <th></th>\n",
       "      <th>INCIDENT_NUMBER</th>\n",
       "      <th>OFFENSE_CODE_GROUP</th>\n",
       "      <th>DISTRICT</th>\n",
       "      <th>SHOOTING</th>\n",
       "      <th>DATE</th>\n",
       "      <th>DAY_OF_WEEK</th>\n",
       "      <th>HOUR</th>\n",
       "      <th>UCR_PART</th>\n",
       "      <th>PRCP</th>\n",
       "      <th>SNOW</th>\n",
       "      <th>TAVG</th>\n",
       "      <th>TMAX</th>\n",
       "      <th>TMIN</th>\n",
       "      <th>ZIPCODE</th>\n",
       "      <th>POPULATION</th>\n",
       "      <th>AVG. INCOME</th>\n",
       "      <th>AVG. INCOME NUMERIC</th>\n",
       "    </tr>\n",
       "  </thead>\n",
       "  <tbody>\n",
       "    <tr>\n",
       "      <td>0</td>\n",
       "      <td>I182080052</td>\n",
       "      <td>Other</td>\n",
       "      <td>B2</td>\n",
       "      <td>N</td>\n",
       "      <td>2018-10-03</td>\n",
       "      <td>Wednesday</td>\n",
       "      <td>19</td>\n",
       "      <td>Part Two</td>\n",
       "      <td>0.21</td>\n",
       "      <td>0.0</td>\n",
       "      <td>59</td>\n",
       "      <td>64</td>\n",
       "      <td>54</td>\n",
       "      <td>2119</td>\n",
       "      <td>23,823</td>\n",
       "      <td>$26,120.00</td>\n",
       "      <td>26120.0</td>\n",
       "    </tr>\n",
       "    <tr>\n",
       "      <td>1</td>\n",
       "      <td>I182080047</td>\n",
       "      <td>Verbal Disputes</td>\n",
       "      <td>B2</td>\n",
       "      <td>N</td>\n",
       "      <td>2018-10-03</td>\n",
       "      <td>Wednesday</td>\n",
       "      <td>19</td>\n",
       "      <td>Part Three</td>\n",
       "      <td>0.21</td>\n",
       "      <td>0.0</td>\n",
       "      <td>59</td>\n",
       "      <td>64</td>\n",
       "      <td>54</td>\n",
       "      <td>2119</td>\n",
       "      <td>23,823</td>\n",
       "      <td>$26,120.00</td>\n",
       "      <td>26120.0</td>\n",
       "    </tr>\n",
       "    <tr>\n",
       "      <td>2</td>\n",
       "      <td>I182080035</td>\n",
       "      <td>Other</td>\n",
       "      <td>B2</td>\n",
       "      <td>N</td>\n",
       "      <td>2018-10-03</td>\n",
       "      <td>Wednesday</td>\n",
       "      <td>19</td>\n",
       "      <td>Part Two</td>\n",
       "      <td>0.21</td>\n",
       "      <td>0.0</td>\n",
       "      <td>59</td>\n",
       "      <td>64</td>\n",
       "      <td>54</td>\n",
       "      <td>2119</td>\n",
       "      <td>23,823</td>\n",
       "      <td>$26,120.00</td>\n",
       "      <td>26120.0</td>\n",
       "    </tr>\n",
       "    <tr>\n",
       "      <td>3</td>\n",
       "      <td>I182080028</td>\n",
       "      <td>Investigate Property</td>\n",
       "      <td>B2</td>\n",
       "      <td>N</td>\n",
       "      <td>2018-10-03</td>\n",
       "      <td>Wednesday</td>\n",
       "      <td>18</td>\n",
       "      <td>Part Three</td>\n",
       "      <td>0.21</td>\n",
       "      <td>0.0</td>\n",
       "      <td>59</td>\n",
       "      <td>64</td>\n",
       "      <td>54</td>\n",
       "      <td>2119</td>\n",
       "      <td>23,823</td>\n",
       "      <td>$26,120.00</td>\n",
       "      <td>26120.0</td>\n",
       "    </tr>\n",
       "    <tr>\n",
       "      <td>4</td>\n",
       "      <td>I182080027</td>\n",
       "      <td>Verbal Disputes</td>\n",
       "      <td>B2</td>\n",
       "      <td>N</td>\n",
       "      <td>2018-10-03</td>\n",
       "      <td>Wednesday</td>\n",
       "      <td>18</td>\n",
       "      <td>Part Three</td>\n",
       "      <td>0.21</td>\n",
       "      <td>0.0</td>\n",
       "      <td>59</td>\n",
       "      <td>64</td>\n",
       "      <td>54</td>\n",
       "      <td>2119</td>\n",
       "      <td>23,823</td>\n",
       "      <td>$26,120.00</td>\n",
       "      <td>26120.0</td>\n",
       "    </tr>\n",
       "  </tbody>\n",
       "</table>\n",
       "</div>"
      ],
      "text/plain": [
       "  INCIDENT_NUMBER    OFFENSE_CODE_GROUP DISTRICT SHOOTING        DATE  \\\n",
       "0      I182080052                 Other       B2        N  2018-10-03   \n",
       "1      I182080047       Verbal Disputes       B2        N  2018-10-03   \n",
       "2      I182080035                 Other       B2        N  2018-10-03   \n",
       "3      I182080028  Investigate Property       B2        N  2018-10-03   \n",
       "4      I182080027       Verbal Disputes       B2        N  2018-10-03   \n",
       "\n",
       "  DAY_OF_WEEK  HOUR    UCR_PART  PRCP  SNOW  TAVG  TMAX  TMIN  ZIPCODE  \\\n",
       "0   Wednesday    19    Part Two  0.21   0.0    59    64    54     2119   \n",
       "1   Wednesday    19  Part Three  0.21   0.0    59    64    54     2119   \n",
       "2   Wednesday    19    Part Two  0.21   0.0    59    64    54     2119   \n",
       "3   Wednesday    18  Part Three  0.21   0.0    59    64    54     2119   \n",
       "4   Wednesday    18  Part Three  0.21   0.0    59    64    54     2119   \n",
       "\n",
       "  POPULATION  AVG. INCOME  AVG. INCOME NUMERIC  \n",
       "0     23,823  $26,120.00               26120.0  \n",
       "1     23,823  $26,120.00               26120.0  \n",
       "2     23,823  $26,120.00               26120.0  \n",
       "3     23,823  $26,120.00               26120.0  \n",
       "4     23,823  $26,120.00               26120.0  "
      ]
     },
     "execution_count": 225,
     "metadata": {},
     "output_type": "execute_result"
    }
   ],
   "source": [
    "# Merge datasets into a big dataframe \n",
    "df = pd.merge(weatherCrime, income_dst, on='DISTRICT', how='inner')\n",
    "df.head()"
   ]
  },
  {
   "cell_type": "markdown",
   "metadata": {},
   "source": [
    "<br>"
   ]
  },
  {
   "cell_type": "markdown",
   "metadata": {},
   "source": [
    "<br>\n"
   ]
  },
  {
   "cell_type": "markdown",
   "metadata": {},
   "source": [
    "# Data Exploration and Analysis"
   ]
  },
  {
   "cell_type": "markdown",
   "metadata": {},
   "source": [
    "### Incidents and Average Income per District"
   ]
  },
  {
   "cell_type": "markdown",
   "metadata": {},
   "source": [
    "<font size=\"3.5\">The first exploration that we will try to find is the relationships between the average income  and the incident counts per district. In other words, we will see if there is any kind of connections between those two attributes (districts will only play as a location attribute) such as low average income will lead to high crime incidents. Data visualization is obviously needed, and our first figure will be a column chart of average income per Boston district.</font>"
   ]
  },
  {
   "cell_type": "code",
   "execution_count": 81,
   "metadata": {},
   "outputs": [
    {
     "data": {
      "text/plain": [
       "<Figure size 432x288 with 0 Axes>"
      ]
     },
     "metadata": {},
     "output_type": "display_data"
    },
    {
     "data": {
      "image/png": "[encoded data removed]",
      "text/plain": [
       "<Figure size 864x504 with 1 Axes>"
      ]
     },
     "metadata": {
      "needs_background": "light"
     },
     "output_type": "display_data"
    }
   ],
   "source": [
    "# Drop the comma in the income values and turn them into float\n",
    "income_list = [i.replace(\",\",\"\") for i in income_dst[\"AVG. INCOME\"].values]\n",
    "avg_income_num = [float(i[1:10]) for i in income_list]\n",
    "income_dst[\"AVG. INCOME NUMERIC\"] = avg_income_num\n",
    "# Sort values by district name\n",
    "income_dst = income_dst.sort_values(by=['DISTRICT'])\n",
    "\n",
    "# Plotting\n",
    "fig = plt.figure()\n",
    "ax = income_dst.plot.bar(x=\"DISTRICT\", y=\"AVG. INCOME NUMERIC\", figsize=(12,7), label=\"Average Income\") \n",
    "ax.set_xticklabels(income_dst[\"DISTRICT\"], rotation=360)\n",
    "\n",
    "# Set ytick labels with the dollar sign \n",
    "formatter = ticker.FormatStrFormatter('$%1.0f') \n",
    "ax.yaxis.set_major_formatter(formatter)\n",
    "\n",
    "# Setting labels \n",
    "ax.set_title(\"Average Income per District\", size=14)\n",
    "ax.set_xlabel(\"District\", size=12)\n",
    "ax.set_ylabel(\"Average Income\", size=12)\n",
    "ax.legend()\n",
    "ax.autoscale(tight=False)\n",
    "plt.show()\n",
    "\n"
   ]
  },
  {
   "cell_type": "markdown",
   "metadata": {},
   "source": [
    "<br>"
   ]
  },
  {
   "cell_type": "markdown",
   "metadata": {},
   "source": [
    "<font size=\"3.5\">The second figure will also be a column chart but of incident count per Boston district. Before jumping into plotting the data out with matplotlib, a new dataframe will be created using .groupby() method to catch the total number of incidents in each district.</font>"
   ]
  },
  {
   "cell_type": "code",
   "execution_count": 127,
   "metadata": {},
   "outputs": [
    {
     "data": {
      "text/plain": [
       "<Figure size 432x288 with 0 Axes>"
      ]
     },
     "metadata": {},
     "output_type": "display_data"
    },
    {
     "data": {
      "image/png": "[encoded data removed]",
      "text/plain": [
       "<Figure size 864x504 with 1 Axes>"
      ]
     },
     "metadata": {
      "needs_background": "light"
     },
     "output_type": "display_data"
    },
    {
     "data": {
      "text/plain": [
       "array([36735,  6663, 13634, 51288, 36400, 43817, 24190, 20632, 43338,\n",
       "       17981, 17825, 13543])"
      ]
     },
     "execution_count": 127,
     "metadata": {},
     "output_type": "execute_result"
    }
   ],
   "source": [
    "# Create a new dataframe with incident counts per district\n",
    "incident_count = crime_cln.groupby(['DISTRICT']).size().reset_index(name=\"Incident Count\")\n",
    "\n",
    "# Plotting\n",
    "fig = plt.figure()\n",
    "ax = incident_count.plot.bar(x=\"DISTRICT\", y=\"Incident Count\", color=\"orange\",figsize=(12,7))\n",
    "ax.set_title(\"Incident Count per District\", size=14)\n",
    "ax.set_xticklabels(incident_count[\"DISTRICT\"], rotation=360)\n",
    "ax.set_xlabel(\"District\", size=12)\n",
    "ax.set_ylabel(\"Incident Count\", size=12)\n",
    "ax.autoscale(tight=False)\n",
    "plt.show()"
   ]
  },
  {
   "cell_type": "markdown",
   "metadata": {},
   "source": [
    "<br>"
   ]
  },
  {
   "cell_type": "markdown",
   "metadata": {},
   "source": [
    "<font size=\"3.5\">After having two seperate charts, what we notice is that the second chart has more districts, or more attributes than the first chart. This difference is resulted from the lack of measurements for more zipcodes in the original income dataset. Therefore, the third figure will be a combination of the first two, and the set of districts will be similar to that of the first figure. A double column chart will be plotted in order to efficiently visualize the difference between two graphs. The color of the graphs will be kept the same. We will also have a double y-axis.</font>"
   ]
  },
  {
   "cell_type": "code",
   "execution_count": 192,
   "metadata": {},
   "outputs": [
    {
     "data": {
      "image/png": "[encoded data removed]",
      "text/plain": [
       "<Figure size 864x504 with 2 Axes>"
      ]
     },
     "metadata": {
      "needs_background": "light"
     },
     "output_type": "display_data"
    }
   ],
   "source": [
    "# Create a new dataframe that contains only incident counts of the districts in income_dst\n",
    "incident_count_cut = incident_count[\"Incident Count\"].values[:7]\n",
    "incident_count_cut = np.append(incident_count_cut, incident_count[\"Incident Count\"].values[8])\n",
    "incident_count_cut = pd.DataFrame(incident_count_cut, columns=['Incident Count'])\n",
    "incident_count_cut = pd.concat([income_dst[\"DISTRICT\"].reset_index(), incident_count_cut], axis=1)\n",
    "\n",
    "fig, ax1 = plt.subplots(1,1, figsize=(12,7)) # Create matplotlib figure\n",
    "\n",
    "ax2 = ax1.twinx()  # Instantiate a second axes that shares the same x-axis\n",
    "\n",
    "width = 0.18 # Set the bar width\n",
    "\n",
    "# Plotting for each axes\n",
    "income_dst.plot.bar(x=\"DISTRICT\", y=\"AVG. INCOME NUMERIC\", color=\"blue\", ax=ax1,\n",
    "                    width=width, position=1)\n",
    "ax1.set_xticks([i for i in range(0,8)])\n",
    "ax1.set_xticklabels(income_dst[\"DISTRICT\"], rotation=360)\n",
    "formatter = ticker.FormatStrFormatter('$%1.0f') \n",
    "ax1.yaxis.set_major_formatter(formatter)\n",
    "ax1.set_xlabel(\"District\", size=12)\n",
    "ax1.set_ylabel(\"Average Income\", size=12)\n",
    "ax1.set_title(\"Average Income and Incident Count per District\", size=14)\n",
    "\n",
    "incident_count_cut.plot.bar(x=\"DISTRICT\", y=\"Incident Count\", color=\"orange\", ax=ax2,\n",
    "                       width=width, position=0)\n",
    "ax2.set_ylabel(\"Incident Count\", size=12)\n",
    "\n",
    "fig.tight_layout()\n",
    "\n",
    "plt.show()\n"
   ]
  },
  {
   "cell_type": "markdown",
   "metadata": {},
   "source": [
    "<font size=\"3.5\">This graph gives us insight into whether high rates of crime is co-related to income in any dimension(s). According to this graph, there appears to be some correlation between the two, but not a very strong one. District B2, which has the lowest average income in the city, also has the highest number of criminal incidents out of all the districts. Then, if one looks at district A15 and the number of incidents there, one could think that high crime rate is strongly correlated to low incomes. But districts D4 and A1 put an exception to that rule. The average incomes in those two districts are two of the highest in the City, yet the incidents there are higher than most of the districts. Our group is aware that there may be more variables that could predict crime in certain districts based off income but based off our datasets there is no strong correlation.</font>"
   ]
  },
  {
   "cell_type": "markdown",
   "metadata": {},
   "source": [
    "<br>"
   ]
  },
  {
   "cell_type": "markdown",
   "metadata": {},
   "source": [
    "### Crime Rate"
   ]
  },
  {
   "cell_type": "markdown",
   "metadata": {},
   "source": [
    "<font size=\"3.5\">The second exploration will be crime rate in Boston. In this exploration, we will continue to use data visualization with matplotlib and graph analysis just like what we did in the first exploration. This time, we only need one column chart. For the sake of plotting, we will create a new dataframe called \"crime_pop\" from our \"incident_count_cut\" dataframe and the population values from \"income_dst\" dataframe. \"crime_pop\" will contain the incident counts and the population of each district. We then add a \"Crime Rate\" column to this dataframe with the formula:</font>\n",
    "\\begin{align}\n",
    "Crime\\ Rate\\ & =\\ Incident\\ Counts\\ /\\ Population \n",
    "\\end{align}"
   ]
  },
  {
   "cell_type": "code",
   "execution_count": 210,
   "metadata": {},
   "outputs": [
    {
     "data": {
      "text/plain": [
       "<Figure size 432x288 with 0 Axes>"
      ]
     },
     "metadata": {},
     "output_type": "display_data"
    },
    {
     "data": {
      "image/png": "[encoded data removed]",
      "text/plain": [
       "<Figure size 864x504 with 1 Axes>"
      ]
     },
     "metadata": {
      "needs_background": "light"
     },
     "output_type": "display_data"
    }
   ],
   "source": [
    "# Population list\n",
    "pop_list = [i.replace(\",\",\"\") for i in income_dst[\"POPULATION\"].values]\n",
    "\n",
    "crime_pop = incident_count_cut\n",
    "crime_pop[\"Population\"] = pop_list\n",
    "crime_pop[\"Crime Rate\"] = crime_pop[\"Incident Count\"]/crime_pop[\"Population\"].astype('int')\n",
    "\n",
    "# Plotting\n",
    "fig = plt.figure()\n",
    "ax = crime_pop.plot.bar(x=\"DISTRICT\", y=\"Crime Rate\", color='blue', figsize=(12,7))\n",
    "ax.set_title(\"Crime Rate per District\", size=14)\n",
    "ax.set_xticklabels(crime_pop[\"DISTRICT\"], rotation=360)\n",
    "ax.set_xlabel(\"District\", size=12)\n",
    "ax.set_ylabel(\"Crime Rate\", size=12)\n",
    "ax.autoscale(tight=False)\n",
    "plt.show()"
   ]
  },
  {
   "cell_type": "markdown",
   "metadata": {},
   "source": [
    "<font size=\"3.5\">The reason why we chose this graph is because it tells us about the crime rate in each district, which we tried to associate with the high population or the median income in that district. This way, we could also figure out how much of a factor income is in the crime. But, as seen in the previous graph, the rule that high income is associated to low crimes was put to rest.\n",
    "Drawing conclusion from the graph, clearly district A1 has the crime rate out of all the districts with nearly 3.5 crime incidents/person. That is an astonishing rate compared to the lowest rate of just below 0.5 incidents/person in A7 district. Beside A7, B3 and A15 also have one of the lowest crime rates in Boston.\n",
    "</font>"
   ]
  },
  {
   "cell_type": "markdown",
   "metadata": {},
   "source": [
    "<br>"
   ]
  },
  {
   "cell_type": "markdown",
   "metadata": {},
   "source": [
    "### Incidents vs Month"
   ]
  },
  {
   "cell_type": "markdown",
   "metadata": {},
   "source": [
    "<font size=\"3.5\">Next exploration will be to understand if there is any occurrence betwwen the incident counts and the time of the year. The finding from this data could be related to the season, temperature, or in some extreme and unlikely cases even the local culture. This time, we use a line graph.</font>"
   ]
  },
  {
   "cell_type": "code",
   "execution_count": 239,
   "metadata": {},
   "outputs": [
    {
     "ename": "AttributeError",
     "evalue": "module 'pandas' has no attribute 'TimeGrouper'",
     "output_type": "error",
     "traceback": [
      "\u001b[0;31m---------------------------------------------------------------------------\u001b[0m",
      "\u001b[0;31mAttributeError\u001b[0m                            Traceback (most recent call last)",
      "\u001b[0;32m<ipython-input-239-31397caaea82>\u001b[0m in \u001b[0;36m<module>\u001b[0;34m\u001b[0m\n\u001b[1;32m      1\u001b[0m \u001b[0mcrime_cln\u001b[0m\u001b[0;34m.\u001b[0m\u001b[0mindex\u001b[0m \u001b[0;34m=\u001b[0m \u001b[0mcrime_cln\u001b[0m\u001b[0;34m.\u001b[0m\u001b[0mDATE\u001b[0m\u001b[0;34m\u001b[0m\u001b[0;34m\u001b[0m\u001b[0m\n\u001b[0;32m----> 2\u001b[0;31m \u001b[0mcrime_cln\u001b[0m\u001b[0;34m.\u001b[0m\u001b[0mgroupby\u001b[0m\u001b[0;34m(\u001b[0m\u001b[0mpd\u001b[0m\u001b[0;34m.\u001b[0m\u001b[0mTimeGrouper\u001b[0m\u001b[0;34m(\u001b[0m\u001b[0mfreq\u001b[0m\u001b[0;34m=\u001b[0m\u001b[0;34m'M'\u001b[0m\u001b[0;34m)\u001b[0m\u001b[0;34m)\u001b[0m\u001b[0;34m\u001b[0m\u001b[0;34m\u001b[0m\u001b[0m\n\u001b[0m",
      "\u001b[0;32m~/opt/anaconda3/lib/python3.7/site-packages/pandas/__init__.py\u001b[0m in \u001b[0;36m__getattr__\u001b[0;34m(name)\u001b[0m\n\u001b[1;32m    212\u001b[0m \u001b[0;34m\u001b[0m\u001b[0m\n\u001b[1;32m    213\u001b[0m             \u001b[0;32mreturn\u001b[0m \u001b[0mPanel\u001b[0m\u001b[0;34m\u001b[0m\u001b[0;34m\u001b[0m\u001b[0m\n\u001b[0;32m--> 214\u001b[0;31m         \u001b[0;32mraise\u001b[0m \u001b[0mAttributeError\u001b[0m\u001b[0;34m(\u001b[0m\u001b[0;34m\"module 'pandas' has no attribute '{}'\"\u001b[0m\u001b[0;34m.\u001b[0m\u001b[0mformat\u001b[0m\u001b[0;34m(\u001b[0m\u001b[0mname\u001b[0m\u001b[0;34m)\u001b[0m\u001b[0;34m)\u001b[0m\u001b[0;34m\u001b[0m\u001b[0;34m\u001b[0m\u001b[0m\n\u001b[0m\u001b[1;32m    215\u001b[0m \u001b[0;34m\u001b[0m\u001b[0m\n\u001b[1;32m    216\u001b[0m \u001b[0;34m\u001b[0m\u001b[0m\n",
      "\u001b[0;31mAttributeError\u001b[0m: module 'pandas' has no attribute 'TimeGrouper'"
     ]
    }
   ],
   "source": [
    "crime_cln.index = crime_cln.DATE\n",
    "crime_cln.groupby(pd.TimeGrouper(freq='M'))"
   ]
  },
  {
   "cell_type": "code",
   "execution_count": null,
   "metadata": {},
   "outputs": [],
   "source": []
  }
 ],
 "metadata": {
  "kernelspec": {
   "display_name": "Python 3",
   "language": "python",
   "name": "python3"
  },
  "language_info": {
   "codemirror_mode": {
    "name": "ipython",
    "version": 3
   },
   "file_extension": ".py",
   "mimetype": "text/x-python",
   "name": "python",
   "nbconvert_exporter": "python",
   "pygments_lexer": "ipython3",
   "version": "3.7.4"
  }
 },
 "nbformat": 4,
 "nbformat_minor": 4
}
