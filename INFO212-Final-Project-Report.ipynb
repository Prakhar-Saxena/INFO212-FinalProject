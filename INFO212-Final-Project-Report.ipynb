{
 "cells": [
  {
   "cell_type": "markdown",
   "metadata": {},
   "source": [
    "### College of Computing and Informatics, Drexel University\n",
    "### INFO 212: Data Science Programming I, Spring 2020\n",
    "### Due: Wednesday, June 10, 2020\n",
    "---\n",
    "\n",
    "## Final Project Report\n",
    "\n",
    "## Project Title: Crime in Boston\n",
    "\n",
    "## Student(s): Prakhar Saxena, Khanh Tran\n",
    "\n",
    "#### Date: May 26, 2020\n",
    "---"
   ]
  },
  {
   "cell_type": "markdown",
   "metadata": {},
   "source": [
    "#### Abstract\n",
    "---\n",
    "*(Briefly summarize the project including the problem, data sets, and final findings.)* "
   ]
  },
  {
   "cell_type": "markdown",
   "metadata": {
    "pycharm": {
     "name": "#%%\n"
    }
   },
   "source": [
    "Analytically exploring the Crime incidents in Boston and its possible correlations with various attributes such as Date, Weather and Income. "
   ]
  },
  {
   "cell_type": "markdown",
   "metadata": {},
   "source": [
    "### 1. Introduction\n",
    "---\n",
    "*(Introduce the project, describe the objectives, and present the results. This section will provide an overview of the entire project including the description of the data sets and the specific data analytics methods and techniques the team used for analyzing the data to address the problem. Highlight the key findings.)* "
   ]
  },
  {
   "cell_type": "markdown",
   "metadata": {},
   "source": [
    "Our project will serve as an analytical research on the relationships between weather and income levels, weather and crime rates, and income levels and crime rates in different districts of Boston City, U.S.. The project will also investigate the changes in these relationships with respect to date. The main goal of this project is to find whether there exists any connections among these attributes. In order to achieve this goal, the project has taken in consideration these datasets: \n",
    "* District_Corresponding Zips.csv which contains the zipcodes of districts in Boston. This dataset has 15 rows and 2 columns.\n",
    "* Income Levels.csv which contains the information of average income per household in each area based on zipcodes and the population in each area. This dataset has 23 rows and 3 columns.\n",
    "* ProjectWeather.csv which contains the weather information such as min, max, and average temperature sorted by date from 2015 to 2018. This dataset has 1463 rows and 6 columns.\n",
    "* WeatherCrime.csv which contains information about types and descriptions of crimes, their corresponding weather features as well as income levels in each district of Boston. In other words, this dataset is a combination of the above three in conjunction with crime data. This dataset has 320988 rows and 20 columns.\n",
    "\n",
    "Our approach will start with data cleaning, followed by plotting the relationships of specific attributes in different datasets, and lastly we will perform graph analytics to figure out the correlations among the attributes. The scope of the project is to analyzing these groups of attributes:\n",
    "* Different Crime Incidents vs Income Levels throughout Districts\n",
    "* Crime Rate\n",
    "* Monthly Incident Count\n",
    "* Monthly Temperature Change vs Incident Count\n",
    "* Top 20 Offenses by Types\n",
    "* Shooting vs Offense Code\n",
    "* Number of Incidents vs Day of the Week and Hour of the Day\n",
    "\n",
    "Graphs used in this project are line graphs, bar graphs, and column charts. "
   ]
  },
  {
   "cell_type": "markdown",
   "metadata": {},
   "source": [
    "### 2. Problem Definition\n",
    "---\n",
    "*(Define the problem that will be solved in this data analytics project. Where does the problem come from? Who would be benefited from the solutions presented in this project? Use formal languages and notations to define the problem as much as possible.)*"
   ]
  },
  {
   "cell_type": "markdown",
   "metadata": {},
   "source": [
    "The first problem that we can solve in this data analytics project is to identify the Boston areas that in the past had witnessed the most crime incidents, and what types. With such discovery, the authorities of Boston City can know where to focus on stopping the crime the most. One of the solutions is to improve the economy or the financial status of the areas, and this project also provides helpful assistance with that via analytical results. Identifying the relationships between income levels and incident counts per district, which is among the main goals of the project, can provide evidence for such case. In other words, this project attempts to find out if weath and poverty is in any ways among the causes of crime in Boston districts. This makes the second problem that our project will try to solve.\n",
    "Additionally, if we do find even a weak correlation between weather and crime, that could be of big help to the authorities. They can prioritise patrolling around based on the weather.\n",
    "\n",
    "The third problem is to keep track of the crime incidents count throught twelve months of the year via plotting and analyzing monthly incidents. We try to know if there is a pattern here. And this leads to the next problem that we want to shed the lights on which is how weather (of particular periods of months) may influence the ups and downs of the incidents count. If the pattern is figured out, people in Boston can take precautions and raise their awareness of encountering a crime case based on the weather of the day or the time of the year or the destination they are going to travel to. \n",
    "\n"
   ]
  },
  {
   "cell_type": "markdown",
   "metadata": {},
   "source": [
    "### 3. Data Sources\n",
    "---\n",
    "*(Describe the origin of the data sources. What is the format of the original data? How to access the data?)*"
   ]
  },
  {
   "cell_type": "markdown",
   "metadata": {},
   "source": [
    "* We acquired this data from a variety of sources. The data pertaining to Crimes in Boston is available to all on Kaggle: https://www.kaggle.com/ankkur13/boston-crime-dataNational \n",
    "* To link the city zipcodes with the police districts, we acquired data from the Boston Police Department itself:  https://bpdnews.com/districts\n",
    "* We acquired the household income data by zipcode/district from a website called zipatlas: http://www.zipatlas.com/us/ma/boston/zip-code-comparison/median-household-income.htm\n",
    "* For weather we acquired our data from the National Oceanic and Atmospheric Administration's National Centers for Environmental Information. They have an API set up for this: https://www.ncdc.noaa.gov/data-access\n",
    "\n",
    "###### It must be noted that all the data here was availabel in a .csv format."
   ]
  },
  {
   "cell_type": "markdown",
   "metadata": {},
   "source": [
    "### 4. Acquiring and Loading Data\n",
    "---\n",
    "*(Present the code and methods for acquiring the data. Load the data into appropriate format for analysis. Explain the process and results.)*\n",
    "\n",
    "### 6. Wrangling and Cleansing Data\n",
    "---\n",
    "*(Explore the data by analyzing its statistics and visualizing the values of features and correlations between different features. Explain the process and the results.)*"
   ]
  },
  {
   "cell_type": "markdown",
   "metadata": {
    "pycharm": {
     "name": "#%%\n"
    }
   },
   "source": [
    "###### We did 6 before 5, because cleaning data seemed important for data visualisations.\n",
    "###### Also we put loading and cleaning together, since they're so close and related."
   ]
  },
  {
   "cell_type": "markdown",
   "metadata": {},
   "source": [
    "Data cleaning is a preprocessing step needed before we get our hands dirty with plotting and analyzing data. The datasets that we have introduced in the Project Proposal will be loaded into the notebook and cleaned."
   ]
  },
  {
   "cell_type": "markdown",
   "metadata": {},
   "source": [
    "Let's import the packages first. We will need pandas, numpy, matplotlib (for visualizing), datetime, and calendar."
   ]
  },
  {
   "cell_type": "code",
   "execution_count": 3,
   "metadata": {
    "pycharm": {
     "name": "#%%\n"
    }
   },
   "outputs": [],
   "source": [
    "# Import modules\n",
    "import pandas as pd\n",
    "import numpy as np\n",
    "import matplotlib.pyplot as plt\n",
    "import matplotlib.ticker as ticker\n",
    "import datetime\n",
    "import calendar"
   ]
  },
  {
   "cell_type": "markdown",
   "metadata": {},
   "source": [
    "Start with the districts dataset"
   ]
  },
  {
   "cell_type": "code",
   "execution_count": 4,
   "metadata": {
    "pycharm": {
     "name": "#%%\n"
    }
   },
   "outputs": [],
   "source": [
    "# Load dataset\n",
    "districts = pd.read_csv('DistrictCorrespondingZips.csv')\n",
    "# Rename columns\n",
    "districts = districts.rename(columns={'ZipCode': 'ZipCode'})\n",
    "# Drop duplicate rows\n",
    "districts.drop_duplicates(inplace=True)"
   ]
  },
  {
   "cell_type": "markdown",
   "metadata": {},
   "source": [
    "Income dataset"
   ]
  },
  {
   "cell_type": "code",
   "execution_count": 5,
   "metadata": {
    "pycharm": {
     "name": "#%%\n"
    }
   },
   "outputs": [],
   "source": [
    "# Load dataset\n",
    "incomes = pd.read_csv('IncomeLevels.csv')\n",
    "# Rename columns\n",
    "incomes = incomes.rename(columns={'Zip Code': 'ZipCode'})"
   ]
  },
  {
   "cell_type": "markdown",
   "metadata": {},
   "source": [
    "Merge them two together"
   ]
  },
  {
   "cell_type": "code",
   "execution_count": 6,
   "metadata": {
    "pycharm": {
     "name": "#%%\n"
    }
   },
   "outputs": [
    {
     "data": {
      "text/html": [
       "<div>\n",
       "<style scoped>\n",
       "    .dataframe tbody tr th:only-of-type {\n",
       "        vertical-align: middle;\n",
       "    }\n",
       "\n",
       "    .dataframe tbody tr th {\n",
       "        vertical-align: top;\n",
       "    }\n",
       "\n",
       "    .dataframe thead th {\n",
       "        text-align: right;\n",
       "    }\n",
       "</style>\n",
       "<table border=\"1\" class=\"dataframe\">\n",
       "  <thead>\n",
       "    <tr style=\"text-align: right;\">\n",
       "      <th></th>\n",
       "      <th>ZIPCODE</th>\n",
       "      <th>POPULATION</th>\n",
       "      <th>AVG. INCOME</th>\n",
       "      <th>DISTRICT</th>\n",
       "    </tr>\n",
       "  </thead>\n",
       "  <tbody>\n",
       "    <tr>\n",
       "      <th>0</th>\n",
       "      <td>2116</td>\n",
       "      <td>19,682</td>\n",
       "      <td>$60,467.00</td>\n",
       "      <td>D4</td>\n",
       "    </tr>\n",
       "    <tr>\n",
       "      <th>1</th>\n",
       "      <td>2114</td>\n",
       "      <td>10,868</td>\n",
       "      <td>$55,678.00</td>\n",
       "      <td>A1</td>\n",
       "    </tr>\n",
       "    <tr>\n",
       "      <th>2</th>\n",
       "      <td>2114</td>\n",
       "      <td>10,868</td>\n",
       "      <td>$55,678.00</td>\n",
       "      <td>A15</td>\n",
       "    </tr>\n",
       "    <tr>\n",
       "      <th>3</th>\n",
       "      <td>2122</td>\n",
       "      <td>24,548</td>\n",
       "      <td>$40,021.00</td>\n",
       "      <td>C11</td>\n",
       "    </tr>\n",
       "    <tr>\n",
       "      <th>4</th>\n",
       "      <td>2127</td>\n",
       "      <td>29,456</td>\n",
       "      <td>$39,625.00</td>\n",
       "      <td>C6</td>\n",
       "    </tr>\n",
       "    <tr>\n",
       "      <th>5</th>\n",
       "      <td>2124</td>\n",
       "      <td>50,781</td>\n",
       "      <td>$36,025.00</td>\n",
       "      <td>B3</td>\n",
       "    </tr>\n",
       "    <tr>\n",
       "      <th>6</th>\n",
       "      <td>2128</td>\n",
       "      <td>38,413</td>\n",
       "      <td>$31,013.00</td>\n",
       "      <td>A7</td>\n",
       "    </tr>\n",
       "    <tr>\n",
       "      <th>7</th>\n",
       "      <td>2119</td>\n",
       "      <td>23,823</td>\n",
       "      <td>$26,120.00</td>\n",
       "      <td>B2</td>\n",
       "    </tr>\n",
       "  </tbody>\n",
       "</table>\n",
       "</div>"
      ],
      "text/plain": [
       "   ZIPCODE POPULATION  AVG. INCOME DISTRICT\n",
       "0     2116     19,682  $60,467.00        D4\n",
       "1     2114     10,868  $55,678.00        A1\n",
       "2     2114     10,868  $55,678.00       A15\n",
       "3     2122     24,548  $40,021.00       C11\n",
       "4     2127     29,456  $39,625.00        C6\n",
       "5     2124     50,781  $36,025.00        B3\n",
       "6     2128     38,413  $31,013.00        A7\n",
       "7     2119     23,823  $26,120.00        B2"
      ]
     },
     "execution_count": 6,
     "metadata": {},
     "output_type": "execute_result"
    }
   ],
   "source": [
    "# Merge datasets\n",
    "income_dst = incomes.merge(districts, on='ZipCode', how='inner')\n",
    "income_dst.columns = ['ZIPCODE', 'POPULATION', 'AVG. INCOME', 'DISTRICT']\n",
    "\n",
    "income_dst"
   ]
  },
  {
   "cell_type": "markdown",
   "metadata": {},
   "source": [
    "Weather dataset"
   ]
  },
  {
   "cell_type": "code",
   "execution_count": 7,
   "metadata": {
    "pycharm": {
     "name": "#%%\n"
    }
   },
   "outputs": [
    {
     "data": {
      "text/html": [
       "<div>\n",
       "<style scoped>\n",
       "    .dataframe tbody tr th:only-of-type {\n",
       "        vertical-align: middle;\n",
       "    }\n",
       "\n",
       "    .dataframe tbody tr th {\n",
       "        vertical-align: top;\n",
       "    }\n",
       "\n",
       "    .dataframe thead th {\n",
       "        text-align: right;\n",
       "    }\n",
       "</style>\n",
       "<table border=\"1\" class=\"dataframe\">\n",
       "  <thead>\n",
       "    <tr style=\"text-align: right;\">\n",
       "      <th></th>\n",
       "      <th>DATE</th>\n",
       "      <th>PRCP</th>\n",
       "      <th>SNOW</th>\n",
       "      <th>TAVG</th>\n",
       "      <th>TMAX</th>\n",
       "      <th>TMIN</th>\n",
       "    </tr>\n",
       "  </thead>\n",
       "  <tbody>\n",
       "    <tr>\n",
       "      <th>0</th>\n",
       "      <td>2015-01-01</td>\n",
       "      <td>0.00</td>\n",
       "      <td>0.0</td>\n",
       "      <td>26</td>\n",
       "      <td>33</td>\n",
       "      <td>22</td>\n",
       "    </tr>\n",
       "    <tr>\n",
       "      <th>1</th>\n",
       "      <td>2015-01-02</td>\n",
       "      <td>0.00</td>\n",
       "      <td>0.0</td>\n",
       "      <td>34</td>\n",
       "      <td>41</td>\n",
       "      <td>31</td>\n",
       "    </tr>\n",
       "    <tr>\n",
       "      <th>2</th>\n",
       "      <td>2015-01-03</td>\n",
       "      <td>0.62</td>\n",
       "      <td>1.4</td>\n",
       "      <td>28</td>\n",
       "      <td>37</td>\n",
       "      <td>22</td>\n",
       "    </tr>\n",
       "    <tr>\n",
       "      <th>3</th>\n",
       "      <td>2015-01-04</td>\n",
       "      <td>0.57</td>\n",
       "      <td>0.0</td>\n",
       "      <td>38</td>\n",
       "      <td>52</td>\n",
       "      <td>35</td>\n",
       "    </tr>\n",
       "    <tr>\n",
       "      <th>4</th>\n",
       "      <td>2015-01-05</td>\n",
       "      <td>0.00</td>\n",
       "      <td>0.0</td>\n",
       "      <td>40</td>\n",
       "      <td>50</td>\n",
       "      <td>17</td>\n",
       "    </tr>\n",
       "  </tbody>\n",
       "</table>\n",
       "</div>"
      ],
      "text/plain": [
       "         DATE  PRCP  SNOW  TAVG  TMAX  TMIN\n",
       "0  2015-01-01  0.00   0.0    26    33    22\n",
       "1  2015-01-02  0.00   0.0    34    41    31\n",
       "2  2015-01-03  0.62   1.4    28    37    22\n",
       "3  2015-01-04  0.57   0.0    38    52    35\n",
       "4  2015-01-05  0.00   0.0    40    50    17"
      ]
     },
     "execution_count": 7,
     "metadata": {},
     "output_type": "execute_result"
    }
   ],
   "source": [
    "# Load dataset\n",
    "weather = pd.read_csv('weather.csv')\n",
    "\n",
    "weather_cln = weather.loc[:,['DATE', 'PRCP', 'SNOW', 'TAVG', 'TMAX', 'TMIN']]\n",
    "\n",
    "# Convert to datetime\n",
    "weather_cln['DATE'] = pd.to_datetime(weather_cln['DATE'], format='%Y-%m-%d').dt.date\n",
    "weather_cln.head()\n"
   ]
  },
  {
   "cell_type": "markdown",
   "metadata": {},
   "source": [
    "Crime dataset"
   ]
  },
  {
   "cell_type": "code",
   "execution_count": 8,
   "metadata": {
    "pycharm": {
     "name": "#%%\n"
    }
   },
   "outputs": [
    {
     "data": {
      "text/html": [
       "<div>\n",
       "<style scoped>\n",
       "    .dataframe tbody tr th:only-of-type {\n",
       "        vertical-align: middle;\n",
       "    }\n",
       "\n",
       "    .dataframe tbody tr th {\n",
       "        vertical-align: top;\n",
       "    }\n",
       "\n",
       "    .dataframe thead th {\n",
       "        text-align: right;\n",
       "    }\n",
       "</style>\n",
       "<table border=\"1\" class=\"dataframe\">\n",
       "  <thead>\n",
       "    <tr style=\"text-align: right;\">\n",
       "      <th></th>\n",
       "      <th>INCIDENT_NUMBER</th>\n",
       "      <th>OFFENSE_CODE_GROUP</th>\n",
       "      <th>DISTRICT</th>\n",
       "      <th>SHOOTING</th>\n",
       "      <th>OCCURRED_ON_DATE</th>\n",
       "      <th>DAY_OF_WEEK</th>\n",
       "      <th>HOUR</th>\n",
       "      <th>UCR_PART</th>\n",
       "    </tr>\n",
       "  </thead>\n",
       "  <tbody>\n",
       "    <tr>\n",
       "      <th>0</th>\n",
       "      <td>I182080058</td>\n",
       "      <td>Disorderly Conduct</td>\n",
       "      <td>E18</td>\n",
       "      <td>N</td>\n",
       "      <td>2018-10-03 20:13:00</td>\n",
       "      <td>Wednesday</td>\n",
       "      <td>20</td>\n",
       "      <td>Part Two</td>\n",
       "    </tr>\n",
       "    <tr>\n",
       "      <th>1</th>\n",
       "      <td>I182080053</td>\n",
       "      <td>Property Lost</td>\n",
       "      <td>D14</td>\n",
       "      <td>N</td>\n",
       "      <td>2018-08-30 20:00:00</td>\n",
       "      <td>Thursday</td>\n",
       "      <td>20</td>\n",
       "      <td>Part Three</td>\n",
       "    </tr>\n",
       "    <tr>\n",
       "      <th>2</th>\n",
       "      <td>I182080052</td>\n",
       "      <td>Other</td>\n",
       "      <td>B2</td>\n",
       "      <td>N</td>\n",
       "      <td>2018-10-03 19:20:00</td>\n",
       "      <td>Wednesday</td>\n",
       "      <td>19</td>\n",
       "      <td>Part Two</td>\n",
       "    </tr>\n",
       "    <tr>\n",
       "      <th>3</th>\n",
       "      <td>I182080051</td>\n",
       "      <td>Aggravated Assault</td>\n",
       "      <td>A1</td>\n",
       "      <td>N</td>\n",
       "      <td>2018-10-03 20:00:00</td>\n",
       "      <td>Wednesday</td>\n",
       "      <td>20</td>\n",
       "      <td>Part One</td>\n",
       "    </tr>\n",
       "    <tr>\n",
       "      <th>4</th>\n",
       "      <td>I182080050</td>\n",
       "      <td>Aircraft</td>\n",
       "      <td>A7</td>\n",
       "      <td>N</td>\n",
       "      <td>2018-10-03 20:49:00</td>\n",
       "      <td>Wednesday</td>\n",
       "      <td>20</td>\n",
       "      <td>Part Three</td>\n",
       "    </tr>\n",
       "    <tr>\n",
       "      <th>...</th>\n",
       "      <td>...</td>\n",
       "      <td>...</td>\n",
       "      <td>...</td>\n",
       "      <td>...</td>\n",
       "      <td>...</td>\n",
       "      <td>...</td>\n",
       "      <td>...</td>\n",
       "      <td>...</td>\n",
       "    </tr>\n",
       "    <tr>\n",
       "      <th>327815</th>\n",
       "      <td>I050310906-00</td>\n",
       "      <td>Warrant Arrests</td>\n",
       "      <td>D4</td>\n",
       "      <td>N</td>\n",
       "      <td>2016-06-05 17:25:00</td>\n",
       "      <td>Sunday</td>\n",
       "      <td>17</td>\n",
       "      <td>Part Three</td>\n",
       "    </tr>\n",
       "    <tr>\n",
       "      <th>327816</th>\n",
       "      <td>I030217815-08</td>\n",
       "      <td>Homicide</td>\n",
       "      <td>E18</td>\n",
       "      <td>N</td>\n",
       "      <td>2015-07-09 13:38:00</td>\n",
       "      <td>Thursday</td>\n",
       "      <td>13</td>\n",
       "      <td>Part One</td>\n",
       "    </tr>\n",
       "    <tr>\n",
       "      <th>327817</th>\n",
       "      <td>I030217815-08</td>\n",
       "      <td>Warrant Arrests</td>\n",
       "      <td>E18</td>\n",
       "      <td>N</td>\n",
       "      <td>2015-07-09 13:38:00</td>\n",
       "      <td>Thursday</td>\n",
       "      <td>13</td>\n",
       "      <td>Part Three</td>\n",
       "    </tr>\n",
       "    <tr>\n",
       "      <th>327818</th>\n",
       "      <td>I010370257-00</td>\n",
       "      <td>Warrant Arrests</td>\n",
       "      <td>E13</td>\n",
       "      <td>N</td>\n",
       "      <td>2016-05-31 19:35:00</td>\n",
       "      <td>Tuesday</td>\n",
       "      <td>19</td>\n",
       "      <td>Part Three</td>\n",
       "    </tr>\n",
       "    <tr>\n",
       "      <th>327819</th>\n",
       "      <td>142052550</td>\n",
       "      <td>Warrant Arrests</td>\n",
       "      <td>D4</td>\n",
       "      <td>N</td>\n",
       "      <td>2015-06-22 00:12:00</td>\n",
       "      <td>Monday</td>\n",
       "      <td>0</td>\n",
       "      <td>Part Three</td>\n",
       "    </tr>\n",
       "  </tbody>\n",
       "</table>\n",
       "<p>327820 rows × 8 columns</p>\n",
       "</div>"
      ],
      "text/plain": [
       "       INCIDENT_NUMBER  OFFENSE_CODE_GROUP DISTRICT SHOOTING  \\\n",
       "0           I182080058  Disorderly Conduct      E18        N   \n",
       "1           I182080053       Property Lost      D14        N   \n",
       "2           I182080052               Other       B2        N   \n",
       "3           I182080051  Aggravated Assault       A1        N   \n",
       "4           I182080050            Aircraft       A7        N   \n",
       "...                ...                 ...      ...      ...   \n",
       "327815   I050310906-00     Warrant Arrests       D4        N   \n",
       "327816   I030217815-08            Homicide      E18        N   \n",
       "327817   I030217815-08     Warrant Arrests      E18        N   \n",
       "327818   I010370257-00     Warrant Arrests      E13        N   \n",
       "327819       142052550     Warrant Arrests       D4        N   \n",
       "\n",
       "           OCCURRED_ON_DATE DAY_OF_WEEK  HOUR    UCR_PART  \n",
       "0       2018-10-03 20:13:00   Wednesday    20    Part Two  \n",
       "1       2018-08-30 20:00:00    Thursday    20  Part Three  \n",
       "2       2018-10-03 19:20:00   Wednesday    19    Part Two  \n",
       "3       2018-10-03 20:00:00   Wednesday    20    Part One  \n",
       "4       2018-10-03 20:49:00   Wednesday    20  Part Three  \n",
       "...                     ...         ...   ...         ...  \n",
       "327815  2016-06-05 17:25:00      Sunday    17  Part Three  \n",
       "327816  2015-07-09 13:38:00    Thursday    13    Part One  \n",
       "327817  2015-07-09 13:38:00    Thursday    13  Part Three  \n",
       "327818  2016-05-31 19:35:00     Tuesday    19  Part Three  \n",
       "327819  2015-06-22 00:12:00      Monday     0  Part Three  \n",
       "\n",
       "[327820 rows x 8 columns]"
      ]
     },
     "execution_count": 8,
     "metadata": {},
     "output_type": "execute_result"
    }
   ],
   "source": [
    "# Load dataset\n",
    "crime = pd.read_csv('crime.csv',encoding='latin1', low_memory=False)\n",
    "# Change NaN values to N\n",
    "crime['SHOOTING'] = crime['SHOOTING'].replace(np.nan, 'N')\n",
    "\n",
    "crime_cln = crime.loc[:,['INCIDENT_NUMBER', 'OFFENSE_CODE_GROUP', 'DISTRICT', 'SHOOTING', 'OCCURRED_ON_DATE', 'DAY_OF_WEEK', 'HOUR', 'UCR_PART', ]]\n",
    "crime_cln"
   ]
  },
  {
   "cell_type": "code",
   "execution_count": 9,
   "metadata": {
    "pycharm": {
     "name": "#%%\n"
    }
   },
   "outputs": [
    {
     "data": {
      "text/html": [
       "<div>\n",
       "<style scoped>\n",
       "    .dataframe tbody tr th:only-of-type {\n",
       "        vertical-align: middle;\n",
       "    }\n",
       "\n",
       "    .dataframe tbody tr th {\n",
       "        vertical-align: top;\n",
       "    }\n",
       "\n",
       "    .dataframe thead th {\n",
       "        text-align: right;\n",
       "    }\n",
       "</style>\n",
       "<table border=\"1\" class=\"dataframe\">\n",
       "  <thead>\n",
       "    <tr style=\"text-align: right;\">\n",
       "      <th></th>\n",
       "      <th>INCIDENT_NUMBER</th>\n",
       "      <th>OFFENSE_CODE_GROUP</th>\n",
       "      <th>DISTRICT</th>\n",
       "      <th>SHOOTING</th>\n",
       "      <th>DATE</th>\n",
       "      <th>DAY_OF_WEEK</th>\n",
       "      <th>HOUR</th>\n",
       "      <th>UCR_PART</th>\n",
       "    </tr>\n",
       "  </thead>\n",
       "  <tbody>\n",
       "    <tr>\n",
       "      <th>0</th>\n",
       "      <td>I182080058</td>\n",
       "      <td>Disorderly Conduct</td>\n",
       "      <td>E18</td>\n",
       "      <td>N</td>\n",
       "      <td>2018-10-03</td>\n",
       "      <td>Wednesday</td>\n",
       "      <td>20</td>\n",
       "      <td>Part Two</td>\n",
       "    </tr>\n",
       "    <tr>\n",
       "      <th>1</th>\n",
       "      <td>I182080053</td>\n",
       "      <td>Property Lost</td>\n",
       "      <td>D14</td>\n",
       "      <td>N</td>\n",
       "      <td>2018-08-30</td>\n",
       "      <td>Thursday</td>\n",
       "      <td>20</td>\n",
       "      <td>Part Three</td>\n",
       "    </tr>\n",
       "    <tr>\n",
       "      <th>2</th>\n",
       "      <td>I182080052</td>\n",
       "      <td>Other</td>\n",
       "      <td>B2</td>\n",
       "      <td>N</td>\n",
       "      <td>2018-10-03</td>\n",
       "      <td>Wednesday</td>\n",
       "      <td>19</td>\n",
       "      <td>Part Two</td>\n",
       "    </tr>\n",
       "    <tr>\n",
       "      <th>3</th>\n",
       "      <td>I182080051</td>\n",
       "      <td>Aggravated Assault</td>\n",
       "      <td>A1</td>\n",
       "      <td>N</td>\n",
       "      <td>2018-10-03</td>\n",
       "      <td>Wednesday</td>\n",
       "      <td>20</td>\n",
       "      <td>Part One</td>\n",
       "    </tr>\n",
       "    <tr>\n",
       "      <th>4</th>\n",
       "      <td>I182080050</td>\n",
       "      <td>Aircraft</td>\n",
       "      <td>A7</td>\n",
       "      <td>N</td>\n",
       "      <td>2018-10-03</td>\n",
       "      <td>Wednesday</td>\n",
       "      <td>20</td>\n",
       "      <td>Part Three</td>\n",
       "    </tr>\n",
       "  </tbody>\n",
       "</table>\n",
       "</div>"
      ],
      "text/plain": [
       "  INCIDENT_NUMBER  OFFENSE_CODE_GROUP DISTRICT SHOOTING        DATE  \\\n",
       "0      I182080058  Disorderly Conduct      E18        N  2018-10-03   \n",
       "1      I182080053       Property Lost      D14        N  2018-08-30   \n",
       "2      I182080052               Other       B2        N  2018-10-03   \n",
       "3      I182080051  Aggravated Assault       A1        N  2018-10-03   \n",
       "4      I182080050            Aircraft       A7        N  2018-10-03   \n",
       "\n",
       "  DAY_OF_WEEK  HOUR    UCR_PART  \n",
       "0   Wednesday    20    Part Two  \n",
       "1    Thursday    20  Part Three  \n",
       "2   Wednesday    19    Part Two  \n",
       "3   Wednesday    20    Part One  \n",
       "4   Wednesday    20  Part Three  "
      ]
     },
     "execution_count": 9,
     "metadata": {},
     "output_type": "execute_result"
    }
   ],
   "source": [
    "# crime_cln['OCCURRED_ON_DATE'].apply(lambda x: datetime.datetime.date(datetime.datetime.strptime(x, \"%Y-%m-%d\")))\n",
    "crime_cln.loc[:,'OCCURRED_ON_DATE'] = pd.to_datetime(crime_cln['OCCURRED_ON_DATE'], format='%Y-%m-%d').dt.date\n",
    "crime_cln = crime_cln.rename(columns={'OCCURRED_ON_DATE': 'DATE'})\n",
    "crime_cln.head()"
   ]
  },
  {
   "cell_type": "markdown",
   "metadata": {},
   "source": [
    "Merge them two together"
   ]
  },
  {
   "cell_type": "code",
   "execution_count": 10,
   "metadata": {
    "pycharm": {
     "name": "#%%\n"
    }
   },
   "outputs": [
    {
     "name": "stdout",
     "output_type": "stream",
     "text": [
      "(327820, 13)\n"
     ]
    }
   ],
   "source": [
    "# Merge datasets\n",
    "weatherCrime = pd.merge(crime_cln, weather_cln, on='DATE', how='inner')\n",
    "print(weatherCrime.shape)"
   ]
  },
  {
   "cell_type": "code",
   "execution_count": 11,
   "metadata": {
    "pycharm": {
     "name": "#%%\n"
    }
   },
   "outputs": [
    {
     "name": "stdout",
     "output_type": "stream",
     "text": [
      "True\n",
      "False\n",
      "(325953, 13)\n"
     ]
    }
   ],
   "source": [
    "# Drop NaN values\n",
    "print(weatherCrime.isnull().values.any())\n",
    "# null_columns=df.columns[df.isnull().any()]\n",
    "# print(null_columns)\n",
    "weatherCrime = weatherCrime.dropna()\n",
    "print(weatherCrime.isnull().values.any())\n",
    "print(weatherCrime.shape)"
   ]
  },
  {
   "cell_type": "markdown",
   "metadata": {},
   "source": [
    "Merge the two merged dataframes above into one bigger dataframe"
   ]
  },
  {
   "cell_type": "code",
   "execution_count": 12,
   "metadata": {
    "pycharm": {
     "name": "#%%\n"
    }
   },
   "outputs": [
    {
     "data": {
      "text/html": [
       "<div>\n",
       "<style scoped>\n",
       "    .dataframe tbody tr th:only-of-type {\n",
       "        vertical-align: middle;\n",
       "    }\n",
       "\n",
       "    .dataframe tbody tr th {\n",
       "        vertical-align: top;\n",
       "    }\n",
       "\n",
       "    .dataframe thead th {\n",
       "        text-align: right;\n",
       "    }\n",
       "</style>\n",
       "<table border=\"1\" class=\"dataframe\">\n",
       "  <thead>\n",
       "    <tr style=\"text-align: right;\">\n",
       "      <th></th>\n",
       "      <th>INCIDENT_NUMBER</th>\n",
       "      <th>OFFENSE_CODE_GROUP</th>\n",
       "      <th>DISTRICT</th>\n",
       "      <th>SHOOTING</th>\n",
       "      <th>DATE</th>\n",
       "      <th>DAY_OF_WEEK</th>\n",
       "      <th>HOUR</th>\n",
       "      <th>UCR_PART</th>\n",
       "      <th>PRCP</th>\n",
       "      <th>SNOW</th>\n",
       "      <th>TAVG</th>\n",
       "      <th>TMAX</th>\n",
       "      <th>TMIN</th>\n",
       "      <th>ZIPCODE</th>\n",
       "      <th>POPULATION</th>\n",
       "      <th>AVG. INCOME</th>\n",
       "    </tr>\n",
       "  </thead>\n",
       "  <tbody>\n",
       "    <tr>\n",
       "      <th>0</th>\n",
       "      <td>I182080052</td>\n",
       "      <td>Other</td>\n",
       "      <td>B2</td>\n",
       "      <td>N</td>\n",
       "      <td>2018-10-03</td>\n",
       "      <td>Wednesday</td>\n",
       "      <td>19</td>\n",
       "      <td>Part Two</td>\n",
       "      <td>0.21</td>\n",
       "      <td>0.0</td>\n",
       "      <td>59</td>\n",
       "      <td>64</td>\n",
       "      <td>54</td>\n",
       "      <td>2119</td>\n",
       "      <td>23,823</td>\n",
       "      <td>$26,120.00</td>\n",
       "    </tr>\n",
       "    <tr>\n",
       "      <th>1</th>\n",
       "      <td>I182080047</td>\n",
       "      <td>Verbal Disputes</td>\n",
       "      <td>B2</td>\n",
       "      <td>N</td>\n",
       "      <td>2018-10-03</td>\n",
       "      <td>Wednesday</td>\n",
       "      <td>19</td>\n",
       "      <td>Part Three</td>\n",
       "      <td>0.21</td>\n",
       "      <td>0.0</td>\n",
       "      <td>59</td>\n",
       "      <td>64</td>\n",
       "      <td>54</td>\n",
       "      <td>2119</td>\n",
       "      <td>23,823</td>\n",
       "      <td>$26,120.00</td>\n",
       "    </tr>\n",
       "    <tr>\n",
       "      <th>2</th>\n",
       "      <td>I182080035</td>\n",
       "      <td>Other</td>\n",
       "      <td>B2</td>\n",
       "      <td>N</td>\n",
       "      <td>2018-10-03</td>\n",
       "      <td>Wednesday</td>\n",
       "      <td>19</td>\n",
       "      <td>Part Two</td>\n",
       "      <td>0.21</td>\n",
       "      <td>0.0</td>\n",
       "      <td>59</td>\n",
       "      <td>64</td>\n",
       "      <td>54</td>\n",
       "      <td>2119</td>\n",
       "      <td>23,823</td>\n",
       "      <td>$26,120.00</td>\n",
       "    </tr>\n",
       "    <tr>\n",
       "      <th>3</th>\n",
       "      <td>I182080028</td>\n",
       "      <td>Investigate Property</td>\n",
       "      <td>B2</td>\n",
       "      <td>N</td>\n",
       "      <td>2018-10-03</td>\n",
       "      <td>Wednesday</td>\n",
       "      <td>18</td>\n",
       "      <td>Part Three</td>\n",
       "      <td>0.21</td>\n",
       "      <td>0.0</td>\n",
       "      <td>59</td>\n",
       "      <td>64</td>\n",
       "      <td>54</td>\n",
       "      <td>2119</td>\n",
       "      <td>23,823</td>\n",
       "      <td>$26,120.00</td>\n",
       "    </tr>\n",
       "    <tr>\n",
       "      <th>4</th>\n",
       "      <td>I182080027</td>\n",
       "      <td>Verbal Disputes</td>\n",
       "      <td>B2</td>\n",
       "      <td>N</td>\n",
       "      <td>2018-10-03</td>\n",
       "      <td>Wednesday</td>\n",
       "      <td>18</td>\n",
       "      <td>Part Three</td>\n",
       "      <td>0.21</td>\n",
       "      <td>0.0</td>\n",
       "      <td>59</td>\n",
       "      <td>64</td>\n",
       "      <td>54</td>\n",
       "      <td>2119</td>\n",
       "      <td>23,823</td>\n",
       "      <td>$26,120.00</td>\n",
       "    </tr>\n",
       "  </tbody>\n",
       "</table>\n",
       "</div>"
      ],
      "text/plain": [
       "  INCIDENT_NUMBER    OFFENSE_CODE_GROUP DISTRICT SHOOTING        DATE  \\\n",
       "0      I182080052                 Other       B2        N  2018-10-03   \n",
       "1      I182080047       Verbal Disputes       B2        N  2018-10-03   \n",
       "2      I182080035                 Other       B2        N  2018-10-03   \n",
       "3      I182080028  Investigate Property       B2        N  2018-10-03   \n",
       "4      I182080027       Verbal Disputes       B2        N  2018-10-03   \n",
       "\n",
       "  DAY_OF_WEEK  HOUR    UCR_PART  PRCP  SNOW  TAVG  TMAX  TMIN  ZIPCODE  \\\n",
       "0   Wednesday    19    Part Two  0.21   0.0    59    64    54     2119   \n",
       "1   Wednesday    19  Part Three  0.21   0.0    59    64    54     2119   \n",
       "2   Wednesday    19    Part Two  0.21   0.0    59    64    54     2119   \n",
       "3   Wednesday    18  Part Three  0.21   0.0    59    64    54     2119   \n",
       "4   Wednesday    18  Part Three  0.21   0.0    59    64    54     2119   \n",
       "\n",
       "  POPULATION  AVG. INCOME  \n",
       "0     23,823  $26,120.00   \n",
       "1     23,823  $26,120.00   \n",
       "2     23,823  $26,120.00   \n",
       "3     23,823  $26,120.00   \n",
       "4     23,823  $26,120.00   "
      ]
     },
     "execution_count": 12,
     "metadata": {},
     "output_type": "execute_result"
    }
   ],
   "source": [
    "# Merge datasets into a big dataframe\n",
    "df = pd.merge(weatherCrime, income_dst, on='DISTRICT', how='inner')\n",
    "df.head()"
   ]
  },
  {
   "cell_type": "markdown",
   "metadata": {},
   "source": [
    "<br>"
   ]
  },
  {
   "cell_type": "markdown",
   "metadata": {},
   "source": [
    "<br>\n",
    "\n"
   ]
  },
  {
   "cell_type": "markdown",
   "metadata": {},
   "source": [
    "### 5. Exploring and Visualizing Data\n",
    "---\n",
    "*(Cleanse the data, fill up missing data, and wrangle the data to prepare for analysis. Explain the process and the results.)*\n",
    "\n",
    "### 7. Analyzing Data\n",
    "---\n",
    "*(Analyze the data by applying various data analytics methods. The analysis should be guided by the problem defined earlier. Explain the process and results.)*\n",
    "\n",
    "### 8. Reporting Results\n",
    "---\n",
    "*(Use appropriate methods to present the results including tables, plots, and bullet points. Explain how the analysis process and results solve the problem.)*"
   ]
  },
  {
   "cell_type": "markdown",
   "metadata": {
    "pycharm": {
     "name": "#%%\n"
    }
   },
   "source": [
    "###### We did 5, 7 and 8 in one go."
   ]
  },
  {
   "cell_type": "markdown",
   "metadata": {},
   "source": [
    "### Incidents and Average Income per District"
   ]
  },
  {
   "cell_type": "markdown",
   "metadata": {},
   "source": [
    "In the first step in exploration, we will try to find is the relationships between the average income  and the incident counts per district. In other words, we will see if there is any kinds of connections between those two attributes (districts will only play as a location attribute) such as low average income will lead to high crime incidents. Data visualization is certainly needed, and our first figure will be a column chart of average income per Boston district."
   ]
  },
  {
   "cell_type": "code",
   "execution_count": 13,
   "metadata": {
    "pycharm": {
     "name": "#%%\n"
    }
   },
   "outputs": [
    {
     "data": {
      "text/html": [
       "<div>\n",
       "<style scoped>\n",
       "    .dataframe tbody tr th:only-of-type {\n",
       "        vertical-align: middle;\n",
       "    }\n",
       "\n",
       "    .dataframe tbody tr th {\n",
       "        vertical-align: top;\n",
       "    }\n",
       "\n",
       "    .dataframe thead th {\n",
       "        text-align: right;\n",
       "    }\n",
       "</style>\n",
       "<table border=\"1\" class=\"dataframe\">\n",
       "  <thead>\n",
       "    <tr style=\"text-align: right;\">\n",
       "      <th></th>\n",
       "      <th>ZIPCODE</th>\n",
       "      <th>POPULATION</th>\n",
       "      <th>AVG. INCOME</th>\n",
       "      <th>DISTRICT</th>\n",
       "      <th>AVG. INCOME NUMERIC</th>\n",
       "    </tr>\n",
       "  </thead>\n",
       "  <tbody>\n",
       "    <tr>\n",
       "      <th>1</th>\n",
       "      <td>2114</td>\n",
       "      <td>10,868</td>\n",
       "      <td>$55,678.00</td>\n",
       "      <td>A1</td>\n",
       "      <td>55678.0</td>\n",
       "    </tr>\n",
       "    <tr>\n",
       "      <th>2</th>\n",
       "      <td>2114</td>\n",
       "      <td>10,868</td>\n",
       "      <td>$55,678.00</td>\n",
       "      <td>A15</td>\n",
       "      <td>55678.0</td>\n",
       "    </tr>\n",
       "    <tr>\n",
       "      <th>6</th>\n",
       "      <td>2128</td>\n",
       "      <td>38,413</td>\n",
       "      <td>$31,013.00</td>\n",
       "      <td>A7</td>\n",
       "      <td>31013.0</td>\n",
       "    </tr>\n",
       "    <tr>\n",
       "      <th>7</th>\n",
       "      <td>2119</td>\n",
       "      <td>23,823</td>\n",
       "      <td>$26,120.00</td>\n",
       "      <td>B2</td>\n",
       "      <td>26120.0</td>\n",
       "    </tr>\n",
       "    <tr>\n",
       "      <th>5</th>\n",
       "      <td>2124</td>\n",
       "      <td>50,781</td>\n",
       "      <td>$36,025.00</td>\n",
       "      <td>B3</td>\n",
       "      <td>36025.0</td>\n",
       "    </tr>\n",
       "    <tr>\n",
       "      <th>3</th>\n",
       "      <td>2122</td>\n",
       "      <td>24,548</td>\n",
       "      <td>$40,021.00</td>\n",
       "      <td>C11</td>\n",
       "      <td>40021.0</td>\n",
       "    </tr>\n",
       "    <tr>\n",
       "      <th>4</th>\n",
       "      <td>2127</td>\n",
       "      <td>29,456</td>\n",
       "      <td>$39,625.00</td>\n",
       "      <td>C6</td>\n",
       "      <td>39625.0</td>\n",
       "    </tr>\n",
       "    <tr>\n",
       "      <th>0</th>\n",
       "      <td>2116</td>\n",
       "      <td>19,682</td>\n",
       "      <td>$60,467.00</td>\n",
       "      <td>D4</td>\n",
       "      <td>60467.0</td>\n",
       "    </tr>\n",
       "  </tbody>\n",
       "</table>\n",
       "</div>"
      ],
      "text/plain": [
       "   ZIPCODE POPULATION  AVG. INCOME DISTRICT  AVG. INCOME NUMERIC\n",
       "1     2114     10,868  $55,678.00        A1              55678.0\n",
       "2     2114     10,868  $55,678.00       A15              55678.0\n",
       "6     2128     38,413  $31,013.00        A7              31013.0\n",
       "7     2119     23,823  $26,120.00        B2              26120.0\n",
       "5     2124     50,781  $36,025.00        B3              36025.0\n",
       "3     2122     24,548  $40,021.00       C11              40021.0\n",
       "4     2127     29,456  $39,625.00        C6              39625.0\n",
       "0     2116     19,682  $60,467.00        D4              60467.0"
      ]
     },
     "execution_count": 13,
     "metadata": {},
     "output_type": "execute_result"
    }
   ],
   "source": [
    "# Drop the comma in the income values and turn them into float\n",
    "income_list = [i.replace(\",\",\"\") for i in income_dst[\"AVG. INCOME\"].values]\n",
    "avg_income_num = [float(i[1:10]) for i in income_list]\n",
    "income_dst[\"AVG. INCOME NUMERIC\"] = avg_income_num\n",
    "# Sort values by district name\n",
    "income_dst = income_dst.sort_values(by=['DISTRICT'])\n",
    "\n",
    "income_dst"
   ]
  },
  {
   "cell_type": "code",
   "execution_count": 14,
   "metadata": {
    "pycharm": {
     "name": "#%%\n"
    }
   },
   "outputs": [
    {
     "data": {
      "text/plain": [
       "<Figure size 432x288 with 0 Axes>"
      ]
     },
     "metadata": {},
     "output_type": "display_data"
    },
    {
     "data": {
      "image/png": "[encoded data removed]",
      "text/plain": [
       "<Figure size 864x504 with 1 Axes>"
      ]
     },
     "metadata": {
      "needs_background": "light"
     },
     "output_type": "display_data"
    }
   ],
   "source": [
    "# Plotting\n",
    "fig = plt.figure()\n",
    "ax = income_dst.plot.bar(x=\"DISTRICT\", y=\"AVG. INCOME NUMERIC\", figsize=(12,7), label=\"Average Income\")\n",
    "ax.set_xticklabels(income_dst[\"DISTRICT\"], rotation=360)\n",
    "\n",
    "# Set ytick labels with the dollar sign\n",
    "formatter = ticker.FormatStrFormatter('$%1.0f')\n",
    "ax.yaxis.set_major_formatter(formatter)\n",
    "\n",
    "# Setting labels\n",
    "ax.set_title(\"Average Income per District\", size=14)\n",
    "ax.set_xlabel(\"District\", size=12)\n",
    "ax.set_ylabel(\"Average Income\", size=12)\n",
    "ax.legend()\n",
    "ax.autoscale(tight=False)\n",
    "plt.show()"
   ]
  },
  {
   "cell_type": "markdown",
   "metadata": {},
   "source": [
    "<br>"
   ]
  },
  {
   "cell_type": "markdown",
   "metadata": {},
   "source": [
    "The second figure will also be a column chart but of incident count per Boston district. Before jumping into plotting the data out with matplotlib, a new dataframe will be created using .groupby() method to catch the total number of incidents in each district."
   ]
  },
  {
   "cell_type": "code",
   "execution_count": 15,
   "metadata": {
    "pycharm": {
     "name": "#%%\n"
    }
   },
   "outputs": [
    {
     "data": {
      "text/html": [
       "<div>\n",
       "<style scoped>\n",
       "    .dataframe tbody tr th:only-of-type {\n",
       "        vertical-align: middle;\n",
       "    }\n",
       "\n",
       "    .dataframe tbody tr th {\n",
       "        vertical-align: top;\n",
       "    }\n",
       "\n",
       "    .dataframe thead th {\n",
       "        text-align: right;\n",
       "    }\n",
       "</style>\n",
       "<table border=\"1\" class=\"dataframe\">\n",
       "  <thead>\n",
       "    <tr style=\"text-align: right;\">\n",
       "      <th></th>\n",
       "      <th>DISTRICT</th>\n",
       "      <th>Incident Count</th>\n",
       "    </tr>\n",
       "  </thead>\n",
       "  <tbody>\n",
       "    <tr>\n",
       "      <th>0</th>\n",
       "      <td>A1</td>\n",
       "      <td>36735</td>\n",
       "    </tr>\n",
       "    <tr>\n",
       "      <th>1</th>\n",
       "      <td>A15</td>\n",
       "      <td>6663</td>\n",
       "    </tr>\n",
       "    <tr>\n",
       "      <th>2</th>\n",
       "      <td>A7</td>\n",
       "      <td>13634</td>\n",
       "    </tr>\n",
       "    <tr>\n",
       "      <th>3</th>\n",
       "      <td>B2</td>\n",
       "      <td>51288</td>\n",
       "    </tr>\n",
       "    <tr>\n",
       "      <th>4</th>\n",
       "      <td>B3</td>\n",
       "      <td>36400</td>\n",
       "    </tr>\n",
       "    <tr>\n",
       "      <th>5</th>\n",
       "      <td>C11</td>\n",
       "      <td>43817</td>\n",
       "    </tr>\n",
       "    <tr>\n",
       "      <th>6</th>\n",
       "      <td>C6</td>\n",
       "      <td>24190</td>\n",
       "    </tr>\n",
       "    <tr>\n",
       "      <th>7</th>\n",
       "      <td>D14</td>\n",
       "      <td>20632</td>\n",
       "    </tr>\n",
       "    <tr>\n",
       "      <th>8</th>\n",
       "      <td>D4</td>\n",
       "      <td>43338</td>\n",
       "    </tr>\n",
       "    <tr>\n",
       "      <th>9</th>\n",
       "      <td>E13</td>\n",
       "      <td>17981</td>\n",
       "    </tr>\n",
       "    <tr>\n",
       "      <th>10</th>\n",
       "      <td>E18</td>\n",
       "      <td>17825</td>\n",
       "    </tr>\n",
       "    <tr>\n",
       "      <th>11</th>\n",
       "      <td>E5</td>\n",
       "      <td>13543</td>\n",
       "    </tr>\n",
       "  </tbody>\n",
       "</table>\n",
       "</div>"
      ],
      "text/plain": [
       "   DISTRICT  Incident Count\n",
       "0        A1           36735\n",
       "1       A15            6663\n",
       "2        A7           13634\n",
       "3        B2           51288\n",
       "4        B3           36400\n",
       "5       C11           43817\n",
       "6        C6           24190\n",
       "7       D14           20632\n",
       "8        D4           43338\n",
       "9       E13           17981\n",
       "10      E18           17825\n",
       "11       E5           13543"
      ]
     },
     "execution_count": 15,
     "metadata": {},
     "output_type": "execute_result"
    }
   ],
   "source": [
    "# Create a new dataframe with incident counts per district\n",
    "incident_count = crime_cln.groupby(['DISTRICT']).size().reset_index(name=\"Incident Count\")\n",
    "\n",
    "incident_count"
   ]
  },
  {
   "cell_type": "code",
   "execution_count": 16,
   "metadata": {
    "pycharm": {
     "name": "#%%\n"
    }
   },
   "outputs": [
    {
     "data": {
      "text/plain": [
       "<Figure size 432x288 with 0 Axes>"
      ]
     },
     "metadata": {},
     "output_type": "display_data"
    },
    {
     "data": {
      "image/png": "[encoded data removed]",
      "text/plain": [
       "<Figure size 864x504 with 1 Axes>"
      ]
     },
     "metadata": {
      "needs_background": "light"
     },
     "output_type": "display_data"
    }
   ],
   "source": [
    "# Plotting\n",
    "fig = plt.figure()\n",
    "ax = incident_count.plot.bar(x=\"DISTRICT\", y=\"Incident Count\", color=\"orange\",figsize=(12,7))\n",
    "ax.set_title(\"Incident Count per District\", size=14)\n",
    "ax.set_xticklabels(incident_count[\"DISTRICT\"], rotation=360)\n",
    "ax.set_xlabel(\"District\", size=12)\n",
    "ax.set_ylabel(\"Incident Count\", size=12)\n",
    "ax.autoscale(tight=False)\n",
    "plt.show()"
   ]
  },
  {
   "cell_type": "markdown",
   "metadata": {},
   "source": [
    "<br>"
   ]
  },
  {
   "cell_type": "markdown",
   "metadata": {},
   "source": [
    "After having two seperate charts, what we notice is that the second chart has more districts, or more attributes than the first chart. This difference is resulted from the lack of measurements for more zipcodes in the original income dataset. Therefore, the third figure will be a combination of the first two, and the set of districts will be similar to that of the first figure. A double column chart will be plotted in order to efficiently visualize the difference between two graphs. The color of the graphs will be kept the same. We will also have a double y-axis."
   ]
  },
  {
   "cell_type": "code",
   "execution_count": 17,
   "metadata": {
    "pycharm": {
     "name": "#%%\n"
    }
   },
   "outputs": [
    {
     "data": {
      "text/html": [
       "<div>\n",
       "<style scoped>\n",
       "    .dataframe tbody tr th:only-of-type {\n",
       "        vertical-align: middle;\n",
       "    }\n",
       "\n",
       "    .dataframe tbody tr th {\n",
       "        vertical-align: top;\n",
       "    }\n",
       "\n",
       "    .dataframe thead th {\n",
       "        text-align: right;\n",
       "    }\n",
       "</style>\n",
       "<table border=\"1\" class=\"dataframe\">\n",
       "  <thead>\n",
       "    <tr style=\"text-align: right;\">\n",
       "      <th></th>\n",
       "      <th>index</th>\n",
       "      <th>DISTRICT</th>\n",
       "      <th>Incident Count</th>\n",
       "    </tr>\n",
       "  </thead>\n",
       "  <tbody>\n",
       "    <tr>\n",
       "      <th>0</th>\n",
       "      <td>1</td>\n",
       "      <td>A1</td>\n",
       "      <td>36735</td>\n",
       "    </tr>\n",
       "    <tr>\n",
       "      <th>1</th>\n",
       "      <td>2</td>\n",
       "      <td>A15</td>\n",
       "      <td>6663</td>\n",
       "    </tr>\n",
       "    <tr>\n",
       "      <th>2</th>\n",
       "      <td>6</td>\n",
       "      <td>A7</td>\n",
       "      <td>13634</td>\n",
       "    </tr>\n",
       "    <tr>\n",
       "      <th>3</th>\n",
       "      <td>7</td>\n",
       "      <td>B2</td>\n",
       "      <td>51288</td>\n",
       "    </tr>\n",
       "    <tr>\n",
       "      <th>4</th>\n",
       "      <td>5</td>\n",
       "      <td>B3</td>\n",
       "      <td>36400</td>\n",
       "    </tr>\n",
       "    <tr>\n",
       "      <th>5</th>\n",
       "      <td>3</td>\n",
       "      <td>C11</td>\n",
       "      <td>43817</td>\n",
       "    </tr>\n",
       "    <tr>\n",
       "      <th>6</th>\n",
       "      <td>4</td>\n",
       "      <td>C6</td>\n",
       "      <td>24190</td>\n",
       "    </tr>\n",
       "    <tr>\n",
       "      <th>7</th>\n",
       "      <td>0</td>\n",
       "      <td>D4</td>\n",
       "      <td>43338</td>\n",
       "    </tr>\n",
       "  </tbody>\n",
       "</table>\n",
       "</div>"
      ],
      "text/plain": [
       "   index DISTRICT  Incident Count\n",
       "0      1       A1           36735\n",
       "1      2      A15            6663\n",
       "2      6       A7           13634\n",
       "3      7       B2           51288\n",
       "4      5       B3           36400\n",
       "5      3      C11           43817\n",
       "6      4       C6           24190\n",
       "7      0       D4           43338"
      ]
     },
     "execution_count": 17,
     "metadata": {},
     "output_type": "execute_result"
    }
   ],
   "source": [
    "# Create a new dataframe that contains only incident counts of the districts in income_dst\n",
    "incident_count_cut = incident_count[\"Incident Count\"].values[:7]\n",
    "incident_count_cut = np.append(incident_count_cut, incident_count[\"Incident Count\"].values[8])\n",
    "incident_count_cut = pd.DataFrame(incident_count_cut, columns=['Incident Count'])\n",
    "incident_count_cut = pd.concat([income_dst[\"DISTRICT\"].reset_index(), incident_count_cut], axis=1)\n",
    "\n",
    "incident_count_cut"
   ]
  },
  {
   "cell_type": "code",
   "execution_count": 18,
   "metadata": {
    "pycharm": {
     "name": "#%%\n"
    }
   },
   "outputs": [
    {
     "data": {
      "image/png": "[encoded data removed]",
      "text/plain": [
       "<Figure size 864x504 with 2 Axes>"
      ]
     },
     "metadata": {
      "needs_background": "light"
     },
     "output_type": "display_data"
    }
   ],
   "source": [
    "fig, ax1 = plt.subplots(1,1, figsize=(12,7)) # Create matplotlib figure\n",
    "\n",
    "ax2 = ax1.twinx()  # Instantiate a second axes that shares the same x-axis\n",
    "\n",
    "width = 0.18 # Set the bar width\n",
    "\n",
    "# Plotting for each axes\n",
    "income_dst.plot.bar(x=\"DISTRICT\", y=\"AVG. INCOME NUMERIC\", color=\"blue\", ax=ax1,\n",
    "                    width=width, position=1)\n",
    "ax1.set_xticks([i for i in range(0,8)])\n",
    "ax1.set_xticklabels(income_dst[\"DISTRICT\"], rotation=360)\n",
    "formatter = ticker.FormatStrFormatter('$%1.0f')\n",
    "ax1.yaxis.set_major_formatter(formatter)\n",
    "ax1.set_xlabel(\"District\", size=12)\n",
    "ax1.set_ylabel(\"Average Income\", size=12)\n",
    "ax1.set_title(\"Average Income and Incident Count per District\", size=14)\n",
    "\n",
    "incident_count_cut.plot.bar(x=\"DISTRICT\", y=\"Incident Count\", color=\"orange\", ax=ax2,\n",
    "                       width=width, position=0)\n",
    "ax2.set_ylabel(\"Incident Count\", size=12)\n",
    "\n",
    "fig.tight_layout()\n",
    "\n",
    "plt.show()"
   ]
  },
  {
   "cell_type": "markdown",
   "metadata": {},
   "source": [
    "This graph gives us insight into whether high rates of crime is co-related to income in any dimension(s). According to this graph, there appears to be some correlation between the two, but not a very strong one. District B2, which has the lowest average income in the city, also has the highest number of criminal incidents out of all the districts. Then, if one looks at district A15 and the number of incidents there, one could think that high crime rate is strongly correlated to low incomes. But districts D4 and A1 put an exception to that rule. The average incomes in those two districts are two of the highest in the City, yet the incidents there are higher than most of the districts. Our group is aware that there may be more variables that could predict crime in certain districts based off income but based off our datasets there is no strong correlation."
   ]
  },
  {
   "cell_type": "markdown",
   "metadata": {},
   "source": [
    "<br>"
   ]
  },
  {
   "cell_type": "markdown",
   "metadata": {},
   "source": [
    "### Crime Rate"
   ]
  },
  {
   "cell_type": "markdown",
   "metadata": {},
   "source": [
    "The second exploration will be crime rate in Boston. In this exploration, we will continue to use data visualization with matplotlib and graph analysis just like what we did in the first exploration. This time, we only need one column chart. For the sake of plotting, we will create a new dataframe called \"crime_pop\" from our \"incident_count_cut\" dataframe and the population values from \"income_dst\" dataframe. \"crime_pop\" will contain the incident counts and the population of each district. We then add a \"Crime Rate\" column to this dataframe with the formula:\n",
    "\n",
    "                     Crime Rate = Incident Counts \\ Population\n"
   ]
  },
  {
   "cell_type": "code",
   "execution_count": 19,
   "metadata": {
    "pycharm": {
     "name": "#%%\n"
    }
   },
   "outputs": [
    {
     "data": {
      "text/html": [
       "<div>\n",
       "<style scoped>\n",
       "    .dataframe tbody tr th:only-of-type {\n",
       "        vertical-align: middle;\n",
       "    }\n",
       "\n",
       "    .dataframe tbody tr th {\n",
       "        vertical-align: top;\n",
       "    }\n",
       "\n",
       "    .dataframe thead th {\n",
       "        text-align: right;\n",
       "    }\n",
       "</style>\n",
       "<table border=\"1\" class=\"dataframe\">\n",
       "  <thead>\n",
       "    <tr style=\"text-align: right;\">\n",
       "      <th></th>\n",
       "      <th>index</th>\n",
       "      <th>DISTRICT</th>\n",
       "      <th>Incident Count</th>\n",
       "      <th>Population</th>\n",
       "      <th>Crime Rate</th>\n",
       "    </tr>\n",
       "  </thead>\n",
       "  <tbody>\n",
       "    <tr>\n",
       "      <th>0</th>\n",
       "      <td>1</td>\n",
       "      <td>A1</td>\n",
       "      <td>36735</td>\n",
       "      <td>10868</td>\n",
       "      <td>3.380107</td>\n",
       "    </tr>\n",
       "    <tr>\n",
       "      <th>1</th>\n",
       "      <td>2</td>\n",
       "      <td>A15</td>\n",
       "      <td>6663</td>\n",
       "      <td>10868</td>\n",
       "      <td>0.613084</td>\n",
       "    </tr>\n",
       "    <tr>\n",
       "      <th>2</th>\n",
       "      <td>6</td>\n",
       "      <td>A7</td>\n",
       "      <td>13634</td>\n",
       "      <td>38413</td>\n",
       "      <td>0.354932</td>\n",
       "    </tr>\n",
       "    <tr>\n",
       "      <th>3</th>\n",
       "      <td>7</td>\n",
       "      <td>B2</td>\n",
       "      <td>51288</td>\n",
       "      <td>23823</td>\n",
       "      <td>2.152877</td>\n",
       "    </tr>\n",
       "    <tr>\n",
       "      <th>4</th>\n",
       "      <td>5</td>\n",
       "      <td>B3</td>\n",
       "      <td>36400</td>\n",
       "      <td>50781</td>\n",
       "      <td>0.716804</td>\n",
       "    </tr>\n",
       "    <tr>\n",
       "      <th>5</th>\n",
       "      <td>3</td>\n",
       "      <td>C11</td>\n",
       "      <td>43817</td>\n",
       "      <td>24548</td>\n",
       "      <td>1.784952</td>\n",
       "    </tr>\n",
       "    <tr>\n",
       "      <th>6</th>\n",
       "      <td>4</td>\n",
       "      <td>C6</td>\n",
       "      <td>24190</td>\n",
       "      <td>29456</td>\n",
       "      <td>0.821225</td>\n",
       "    </tr>\n",
       "    <tr>\n",
       "      <th>7</th>\n",
       "      <td>0</td>\n",
       "      <td>D4</td>\n",
       "      <td>43338</td>\n",
       "      <td>19682</td>\n",
       "      <td>2.201910</td>\n",
       "    </tr>\n",
       "  </tbody>\n",
       "</table>\n",
       "</div>"
      ],
      "text/plain": [
       "   index DISTRICT  Incident Count Population  Crime Rate\n",
       "0      1       A1           36735      10868    3.380107\n",
       "1      2      A15            6663      10868    0.613084\n",
       "2      6       A7           13634      38413    0.354932\n",
       "3      7       B2           51288      23823    2.152877\n",
       "4      5       B3           36400      50781    0.716804\n",
       "5      3      C11           43817      24548    1.784952\n",
       "6      4       C6           24190      29456    0.821225\n",
       "7      0       D4           43338      19682    2.201910"
      ]
     },
     "execution_count": 19,
     "metadata": {},
     "output_type": "execute_result"
    }
   ],
   "source": [
    "# Population list\n",
    "pop_list = [i.replace(\",\",\"\") for i in income_dst[\"POPULATION\"].values]\n",
    "\n",
    "crime_pop = incident_count_cut\n",
    "crime_pop[\"Population\"] = pop_list\n",
    "crime_pop[\"Crime Rate\"] = crime_pop[\"Incident Count\"]/crime_pop[\"Population\"].astype('int')\n",
    "\n",
    "crime_pop"
   ]
  },
  {
   "cell_type": "code",
   "execution_count": 20,
   "metadata": {
    "pycharm": {
     "name": "#%%\n"
    }
   },
   "outputs": [
    {
     "data": {
      "text/plain": [
       "<Figure size 432x288 with 0 Axes>"
      ]
     },
     "metadata": {},
     "output_type": "display_data"
    },
    {
     "data": {
      "image/png": "[encoded data removed]",
      "text/plain": [
       "<Figure size 864x504 with 1 Axes>"
      ]
     },
     "metadata": {
      "needs_background": "light"
     },
     "output_type": "display_data"
    }
   ],
   "source": [
    "# Plotting\n",
    "fig = plt.figure()\n",
    "ax = crime_pop.plot.bar(x=\"DISTRICT\", y=\"Crime Rate\", color='blue', figsize=(12,7))\n",
    "ax.set_title(\"Crime Rate per District\", size=14)\n",
    "ax.set_xticklabels(crime_pop[\"DISTRICT\"], rotation=360)\n",
    "ax.set_xlabel(\"District\", size=12)\n",
    "ax.set_ylabel(\"Crime Rate\", size=12)\n",
    "ax.autoscale(tight=False)\n",
    "plt.show()"
   ]
  },
  {
   "cell_type": "markdown",
   "metadata": {},
   "source": [
    "The reason why we chose this graph is because it tells us about the crime rate in each district, which we tried to associate with the high population or the median income in that district. This way, we could also figure out how much of a factor income is in the crime. But, as seen in the previous graph, the rule that high income is associated to low crimes was put to rest.\n",
    "Drawing conclusion from the graph, clearly district A1 has the crime rate out of all the districts with nearly 3.5 crime incidents/person. That is an astonishing rate compared to the lowest rate of just below 0.5 incidents/person in A7 district. Beside A7, B3 and A15 also have one of the lowest crime rates in Boston.\n"
   ]
  },
  {
   "cell_type": "markdown",
   "metadata": {},
   "source": [
    "<br>"
   ]
  },
  {
   "cell_type": "markdown",
   "metadata": {},
   "source": [
    "### Incidents vs Month"
   ]
  },
  {
   "cell_type": "markdown",
   "metadata": {},
   "source": [
    "Next exploration will be to understand if there is any occurrence between the incident counts and the time of the year. The finding from this data could be related to the season and/or temperature.\n",
    "\n",
    "Before plotting, we need to extract the month and year from \"crime_cln\" dataframe, then use .groupby() method to get the incident counts per month, year and put them into a new dataframe. This time, we use a line graph for plotting."
   ]
  },
  {
   "cell_type": "code",
   "execution_count": 21,
   "metadata": {
    "pycharm": {
     "name": "#%%\n"
    }
   },
   "outputs": [],
   "source": [
    "# Extract year and month from the 'DATE' column of crime_cln dataframe\n",
    "crime_cln['year'] = pd.DatetimeIndex(crime_cln[\"DATE\"]).year\n",
    "crime_cln['month'] = pd.DatetimeIndex(crime_cln[\"DATE\"]).month\n",
    "# Convert to month name\n",
    "crime_cln['month name'] = crime_cln['month'].apply(lambda x: calendar.month_abbr[x])\n",
    "# Create a new \"Month Year\" column\n",
    "crime_cln['Month Year'] = crime_cln['month name'] + ' ' + crime_cln['year'].astype('str')\n",
    "# Create a new dataframe containing incident counts per month, year.\n",
    "crime_month = crime_cln.groupby(['Month Year', 'month', 'year']).size().reset_index(name=\"Incident Count\")\n",
    "# Sort values by year then month\n",
    "crime_month = crime_month.sort_values(['year', 'month'])\n",
    "\n",
    "crime_month = crime_month.reset_index(drop=True)\n"
   ]
  },
  {
   "cell_type": "code",
   "execution_count": 22,
   "metadata": {
    "pycharm": {
     "name": "#%%\n"
    }
   },
   "outputs": [
    {
     "data": {
      "text/html": [
       "<div>\n",
       "<style scoped>\n",
       "    .dataframe tbody tr th:only-of-type {\n",
       "        vertical-align: middle;\n",
       "    }\n",
       "\n",
       "    .dataframe tbody tr th {\n",
       "        vertical-align: top;\n",
       "    }\n",
       "\n",
       "    .dataframe thead th {\n",
       "        text-align: right;\n",
       "    }\n",
       "</style>\n",
       "<table border=\"1\" class=\"dataframe\">\n",
       "  <thead>\n",
       "    <tr style=\"text-align: right;\">\n",
       "      <th></th>\n",
       "      <th>Month Year</th>\n",
       "      <th>month</th>\n",
       "      <th>year</th>\n",
       "      <th>Incident Count</th>\n",
       "    </tr>\n",
       "  </thead>\n",
       "  <tbody>\n",
       "    <tr>\n",
       "      <th>0</th>\n",
       "      <td>Jun 2015</td>\n",
       "      <td>6</td>\n",
       "      <td>2015</td>\n",
       "      <td>4191</td>\n",
       "    </tr>\n",
       "    <tr>\n",
       "      <th>1</th>\n",
       "      <td>Jul 2015</td>\n",
       "      <td>7</td>\n",
       "      <td>2015</td>\n",
       "      <td>8326</td>\n",
       "    </tr>\n",
       "    <tr>\n",
       "      <th>2</th>\n",
       "      <td>Aug 2015</td>\n",
       "      <td>8</td>\n",
       "      <td>2015</td>\n",
       "      <td>8343</td>\n",
       "    </tr>\n",
       "    <tr>\n",
       "      <th>3</th>\n",
       "      <td>Sep 2015</td>\n",
       "      <td>9</td>\n",
       "      <td>2015</td>\n",
       "      <td>8415</td>\n",
       "    </tr>\n",
       "    <tr>\n",
       "      <th>4</th>\n",
       "      <td>Oct 2015</td>\n",
       "      <td>10</td>\n",
       "      <td>2015</td>\n",
       "      <td>8308</td>\n",
       "    </tr>\n",
       "    <tr>\n",
       "      <th>5</th>\n",
       "      <td>Nov 2015</td>\n",
       "      <td>11</td>\n",
       "      <td>2015</td>\n",
       "      <td>7818</td>\n",
       "    </tr>\n",
       "    <tr>\n",
       "      <th>6</th>\n",
       "      <td>Dec 2015</td>\n",
       "      <td>12</td>\n",
       "      <td>2015</td>\n",
       "      <td>7991</td>\n",
       "    </tr>\n",
       "    <tr>\n",
       "      <th>7</th>\n",
       "      <td>Jan 2016</td>\n",
       "      <td>1</td>\n",
       "      <td>2016</td>\n",
       "      <td>7837</td>\n",
       "    </tr>\n",
       "    <tr>\n",
       "      <th>8</th>\n",
       "      <td>Feb 2016</td>\n",
       "      <td>2</td>\n",
       "      <td>2016</td>\n",
       "      <td>7310</td>\n",
       "    </tr>\n",
       "    <tr>\n",
       "      <th>9</th>\n",
       "      <td>Mar 2016</td>\n",
       "      <td>3</td>\n",
       "      <td>2016</td>\n",
       "      <td>8199</td>\n",
       "    </tr>\n",
       "  </tbody>\n",
       "</table>\n",
       "</div>"
      ],
      "text/plain": [
       "  Month Year  month  year  Incident Count\n",
       "0   Jun 2015      6  2015            4191\n",
       "1   Jul 2015      7  2015            8326\n",
       "2   Aug 2015      8  2015            8343\n",
       "3   Sep 2015      9  2015            8415\n",
       "4   Oct 2015     10  2015            8308\n",
       "5   Nov 2015     11  2015            7818\n",
       "6   Dec 2015     12  2015            7991\n",
       "7   Jan 2016      1  2016            7837\n",
       "8   Feb 2016      2  2016            7310\n",
       "9   Mar 2016      3  2016            8199"
      ]
     },
     "execution_count": 22,
     "metadata": {},
     "output_type": "execute_result"
    }
   ],
   "source": [
    "# Check the head 10\n",
    "crime_month.head(10)"
   ]
  },
  {
   "cell_type": "code",
   "execution_count": 23,
   "metadata": {
    "pycharm": {
     "name": "#%%\n"
    }
   },
   "outputs": [
    {
     "data": {
      "text/html": [
       "<div>\n",
       "<style scoped>\n",
       "    .dataframe tbody tr th:only-of-type {\n",
       "        vertical-align: middle;\n",
       "    }\n",
       "\n",
       "    .dataframe tbody tr th {\n",
       "        vertical-align: top;\n",
       "    }\n",
       "\n",
       "    .dataframe thead th {\n",
       "        text-align: right;\n",
       "    }\n",
       "</style>\n",
       "<table border=\"1\" class=\"dataframe\">\n",
       "  <thead>\n",
       "    <tr style=\"text-align: right;\">\n",
       "      <th></th>\n",
       "      <th>Month Year</th>\n",
       "      <th>month</th>\n",
       "      <th>year</th>\n",
       "      <th>Incident Count</th>\n",
       "    </tr>\n",
       "  </thead>\n",
       "  <tbody>\n",
       "    <tr>\n",
       "      <th>31</th>\n",
       "      <td>Jan 2018</td>\n",
       "      <td>1</td>\n",
       "      <td>2018</td>\n",
       "      <td>7795</td>\n",
       "    </tr>\n",
       "    <tr>\n",
       "      <th>32</th>\n",
       "      <td>Feb 2018</td>\n",
       "      <td>2</td>\n",
       "      <td>2018</td>\n",
       "      <td>6943</td>\n",
       "    </tr>\n",
       "    <tr>\n",
       "      <th>33</th>\n",
       "      <td>Mar 2018</td>\n",
       "      <td>3</td>\n",
       "      <td>2018</td>\n",
       "      <td>7778</td>\n",
       "    </tr>\n",
       "    <tr>\n",
       "      <th>34</th>\n",
       "      <td>Apr 2018</td>\n",
       "      <td>4</td>\n",
       "      <td>2018</td>\n",
       "      <td>7935</td>\n",
       "    </tr>\n",
       "    <tr>\n",
       "      <th>35</th>\n",
       "      <td>May 2018</td>\n",
       "      <td>5</td>\n",
       "      <td>2018</td>\n",
       "      <td>8939</td>\n",
       "    </tr>\n",
       "    <tr>\n",
       "      <th>36</th>\n",
       "      <td>Jun 2018</td>\n",
       "      <td>6</td>\n",
       "      <td>2018</td>\n",
       "      <td>8883</td>\n",
       "    </tr>\n",
       "    <tr>\n",
       "      <th>37</th>\n",
       "      <td>Jul 2018</td>\n",
       "      <td>7</td>\n",
       "      <td>2018</td>\n",
       "      <td>8617</td>\n",
       "    </tr>\n",
       "    <tr>\n",
       "      <th>38</th>\n",
       "      <td>Aug 2018</td>\n",
       "      <td>8</td>\n",
       "      <td>2018</td>\n",
       "      <td>8645</td>\n",
       "    </tr>\n",
       "    <tr>\n",
       "      <th>39</th>\n",
       "      <td>Sep 2018</td>\n",
       "      <td>9</td>\n",
       "      <td>2018</td>\n",
       "      <td>8132</td>\n",
       "    </tr>\n",
       "    <tr>\n",
       "      <th>40</th>\n",
       "      <td>Oct 2018</td>\n",
       "      <td>10</td>\n",
       "      <td>2018</td>\n",
       "      <td>689</td>\n",
       "    </tr>\n",
       "  </tbody>\n",
       "</table>\n",
       "</div>"
      ],
      "text/plain": [
       "   Month Year  month  year  Incident Count\n",
       "31   Jan 2018      1  2018            7795\n",
       "32   Feb 2018      2  2018            6943\n",
       "33   Mar 2018      3  2018            7778\n",
       "34   Apr 2018      4  2018            7935\n",
       "35   May 2018      5  2018            8939\n",
       "36   Jun 2018      6  2018            8883\n",
       "37   Jul 2018      7  2018            8617\n",
       "38   Aug 2018      8  2018            8645\n",
       "39   Sep 2018      9  2018            8132\n",
       "40   Oct 2018     10  2018             689"
      ]
     },
     "execution_count": 23,
     "metadata": {},
     "output_type": "execute_result"
    }
   ],
   "source": [
    "# Check the tail 10\n",
    "crime_month.tail(10)"
   ]
  },
  {
   "cell_type": "code",
   "execution_count": 24,
   "metadata": {
    "pycharm": {
     "name": "#%%\n"
    }
   },
   "outputs": [
    {
     "data": {
      "text/plain": [
       "<Figure size 432x288 with 0 Axes>"
      ]
     },
     "metadata": {},
     "output_type": "display_data"
    },
    {
     "data": {
      "image/png": "[encoded data removed]",
      "text/plain": [
       "<Figure size 864x504 with 1 Axes>"
      ]
     },
     "metadata": {
      "needs_background": "light"
     },
     "output_type": "display_data"
    }
   ],
   "source": [
    "# Plotting\n",
    "fig = plt.figure()\n",
    "ax = crime_month.plot(x='Month Year', y=\"Incident Count\", color='orange', figsize=(12,7))\n",
    "ax.set_title(\"Monthly Incident Count from June 2015 to October 2018\")\n",
    "ax.set_xlabel(\"Month of Date\", size=12)\n",
    "ax.set_ylabel(\"Incident Count\", size=12)\n",
    "ax.autoscale(tight=False)\n",
    "plt.show()"
   ]
  },
  {
   "cell_type": "markdown",
   "metadata": {},
   "source": [
    "Clearly, the incidents count in Boston was quite consistent through out the months of our three-year span from 2015 to 2018. The number fluctuated around +/-500 of averagely 8000 cases. The two steep drops at the beginning and the end of the graph do not indicate any significant change in June 2015 and October 2018 but rather because the original dataset starts its measurements on June 15, 2015 and ends it on October 3, 2018. In other words, the incident count in June 2015 was approximately reduced by half in this dataset, and that in October 2018 was only the count of the first three days of the month. Statistically, we can actually back this up. There were 4191 cases in June 2015 according to the dataset, and the average was around 8000+/-500, clearly half of the real data was not counted here. Similarly, if we multiply 3 by 10 (since October has 31 days), we will also get nearly 7000 cases in October 2018, and this number is roughly in the range of our average cases.\n",
    "\n",
    "To sum up, despite a shortage of data in the first and last month of our measurements, the crime incidents in Boston was quite consistent through out the months. If we have to draw a conclusion about the ups and downs of the figure, it is noticable that there were moderate rises during the summers and drops during the winters. Perhaps, the incidents count, at some level, relate to the change of temperature."
   ]
  },
  {
   "cell_type": "markdown",
   "metadata": {},
   "source": [
    "<br>"
   ]
  },
  {
   "cell_type": "markdown",
   "metadata": {},
   "source": [
    "### Top 10 Crime Categories"
   ]
  },
  {
   "cell_type": "markdown",
   "metadata": {},
   "source": [
    "There are many types of crime, and in our datasets, we have categorized every crime incident. Our goal is very simple in this exploration, try to plot out the top 10 crime categories, just to provide a somehwhat useful statistics serving as reference for our other explorations below."
   ]
  },
  {
   "cell_type": "code",
   "execution_count": 25,
   "metadata": {
    "pycharm": {
     "name": "#%%\n"
    }
   },
   "outputs": [
    {
     "data": {
      "text/html": [
       "<div>\n",
       "<style scoped>\n",
       "    .dataframe tbody tr th:only-of-type {\n",
       "        vertical-align: middle;\n",
       "    }\n",
       "\n",
       "    .dataframe tbody tr th {\n",
       "        vertical-align: top;\n",
       "    }\n",
       "\n",
       "    .dataframe thead th {\n",
       "        text-align: right;\n",
       "    }\n",
       "</style>\n",
       "<table border=\"1\" class=\"dataframe\">\n",
       "  <thead>\n",
       "    <tr style=\"text-align: right;\">\n",
       "      <th></th>\n",
       "      <th>OFFENSE_CODE_GROUP</th>\n",
       "      <th>Incident Count</th>\n",
       "    </tr>\n",
       "  </thead>\n",
       "  <tbody>\n",
       "    <tr>\n",
       "      <th>0</th>\n",
       "      <td>Motor Vehicle Accident Response</td>\n",
       "      <td>38134</td>\n",
       "    </tr>\n",
       "    <tr>\n",
       "      <th>1</th>\n",
       "      <td>Larceny</td>\n",
       "      <td>26670</td>\n",
       "    </tr>\n",
       "    <tr>\n",
       "      <th>2</th>\n",
       "      <td>Medical Assistance</td>\n",
       "      <td>24226</td>\n",
       "    </tr>\n",
       "    <tr>\n",
       "      <th>3</th>\n",
       "      <td>Investigate Person</td>\n",
       "      <td>19176</td>\n",
       "    </tr>\n",
       "    <tr>\n",
       "      <th>4</th>\n",
       "      <td>Other</td>\n",
       "      <td>18612</td>\n",
       "    </tr>\n",
       "    <tr>\n",
       "      <th>5</th>\n",
       "      <td>Drug Violation</td>\n",
       "      <td>17037</td>\n",
       "    </tr>\n",
       "    <tr>\n",
       "      <th>6</th>\n",
       "      <td>Simple Assault</td>\n",
       "      <td>16263</td>\n",
       "    </tr>\n",
       "    <tr>\n",
       "      <th>7</th>\n",
       "      <td>Vandalism</td>\n",
       "      <td>15810</td>\n",
       "    </tr>\n",
       "    <tr>\n",
       "      <th>8</th>\n",
       "      <td>Verbal Disputes</td>\n",
       "      <td>13478</td>\n",
       "    </tr>\n",
       "    <tr>\n",
       "      <th>9</th>\n",
       "      <td>Towed</td>\n",
       "      <td>11632</td>\n",
       "    </tr>\n",
       "  </tbody>\n",
       "</table>\n",
       "</div>"
      ],
      "text/plain": [
       "                OFFENSE_CODE_GROUP  Incident Count\n",
       "0  Motor Vehicle Accident Response           38134\n",
       "1                          Larceny           26670\n",
       "2               Medical Assistance           24226\n",
       "3               Investigate Person           19176\n",
       "4                            Other           18612\n",
       "5                   Drug Violation           17037\n",
       "6                   Simple Assault           16263\n",
       "7                        Vandalism           15810\n",
       "8                  Verbal Disputes           13478\n",
       "9                            Towed           11632"
      ]
     },
     "execution_count": 25,
     "metadata": {},
     "output_type": "execute_result"
    }
   ],
   "source": [
    "# Extract the total number of incident count for each category and then sort them in descending order\n",
    "top_crimes = crime_cln.groupby(['OFFENSE_CODE_GROUP']).size().reset_index(name=\"Incident Count\").sort_values(by='Incident Count', ascending=False)\n",
    "top_crimes.reset_index(drop=True, inplace=True)\n",
    "top_crimes.head(10)"
   ]
  },
  {
   "cell_type": "code",
   "execution_count": 26,
   "metadata": {
    "pycharm": {
     "name": "#%%\n"
    }
   },
   "outputs": [
    {
     "data": {
      "text/plain": [
       "<Figure size 432x288 with 0 Axes>"
      ]
     },
     "metadata": {},
     "output_type": "display_data"
    },
    {
     "data": {
      "image/png": "[encoded data removed]",
      "text/plain": [
       "<Figure size 864x504 with 1 Axes>"
      ]
     },
     "metadata": {
      "needs_background": "light"
     },
     "output_type": "display_data"
    }
   ],
   "source": [
    "# Plotting\n",
    "fig = plt.figure()\n",
    "ax = top_crimes.head(10).plot.bar(x='OFFENSE_CODE_GROUP', y='Incident Count', color='red',\n",
    "                                  rot=90, figsize=(12,7))\n",
    "ax.set_title(\"Top 10 Crime Categories\", size=14)\n",
    "ax.set_xlabel(\"Offense Code Group\", size=12)\n",
    "ax.set_ylabel(\"Incident Count\", size=12)\n",
    "ax.autoscale(tight=False)\n",
    "plt.show()\n"
   ]
  },
  {
   "cell_type": "markdown",
   "metadata": {},
   "source": [
    "<br>"
   ]
  },
  {
   "cell_type": "markdown",
   "metadata": {},
   "source": [
    "### Temperature and Crime Vs Months (split by UCR part catogerisation)"
   ]
  },
  {
   "cell_type": "markdown",
   "metadata": {},
   "source": [
    "Following the possibility stated by the last exploration, we are going to conduct our next discovery of whether there is a connection between temperature and crime. In addition to our monthly incident counts, we will make use of the temperature data. In this exploration, we will create more than one line graphs as we are intended to visualize the data according to UCR part catogerisation. The four parts of UCR that our visualization will be based on are: UCR Part One, UCR Part Two, UCR Part Three, and UCR Other."
   ]
  },
  {
   "cell_type": "markdown",
   "metadata": {},
   "source": [
    "The first thing is to divide 'weatherCrime' dataframe into four samller dataframes corresponding to the four different UCR parts. We will use simple dataframe slicing technique."
   ]
  },
  {
   "cell_type": "code",
   "execution_count": 27,
   "metadata": {
    "pycharm": {
     "name": "#%%\n"
    }
   },
   "outputs": [],
   "source": [
    "# Add 'year' and 'month' columns to 'weatherCrime' dataframe\n",
    "weatherCrime['year'] = pd.DatetimeIndex(weatherCrime[\"DATE\"]).year\n",
    "weatherCrime['month'] = pd.DatetimeIndex(weatherCrime[\"DATE\"]).month"
   ]
  },
  {
   "cell_type": "code",
   "execution_count": 28,
   "metadata": {
    "pycharm": {
     "name": "#%%\n"
    }
   },
   "outputs": [
    {
     "data": {
      "text/html": [
       "<div>\n",
       "<style scoped>\n",
       "    .dataframe tbody tr th:only-of-type {\n",
       "        vertical-align: middle;\n",
       "    }\n",
       "\n",
       "    .dataframe tbody tr th {\n",
       "        vertical-align: top;\n",
       "    }\n",
       "\n",
       "    .dataframe thead th {\n",
       "        text-align: right;\n",
       "    }\n",
       "</style>\n",
       "<table border=\"1\" class=\"dataframe\">\n",
       "  <thead>\n",
       "    <tr style=\"text-align: right;\">\n",
       "      <th></th>\n",
       "      <th>INCIDENT_NUMBER</th>\n",
       "      <th>OFFENSE_CODE_GROUP</th>\n",
       "      <th>DISTRICT</th>\n",
       "      <th>SHOOTING</th>\n",
       "      <th>DATE</th>\n",
       "      <th>DAY_OF_WEEK</th>\n",
       "      <th>HOUR</th>\n",
       "      <th>UCR_PART</th>\n",
       "      <th>PRCP</th>\n",
       "      <th>SNOW</th>\n",
       "      <th>TAVG</th>\n",
       "      <th>TMAX</th>\n",
       "      <th>TMIN</th>\n",
       "      <th>year</th>\n",
       "      <th>month</th>\n",
       "    </tr>\n",
       "  </thead>\n",
       "  <tbody>\n",
       "    <tr>\n",
       "      <th>2</th>\n",
       "      <td>I182080051</td>\n",
       "      <td>Aggravated Assault</td>\n",
       "      <td>A1</td>\n",
       "      <td>N</td>\n",
       "      <td>2018-10-03</td>\n",
       "      <td>Wednesday</td>\n",
       "      <td>20</td>\n",
       "      <td>Part One</td>\n",
       "      <td>0.21</td>\n",
       "      <td>0.0</td>\n",
       "      <td>59</td>\n",
       "      <td>64</td>\n",
       "      <td>54</td>\n",
       "      <td>2018</td>\n",
       "      <td>10</td>\n",
       "    </tr>\n",
       "    <tr>\n",
       "      <th>17</th>\n",
       "      <td>I182080029</td>\n",
       "      <td>Larceny</td>\n",
       "      <td>D4</td>\n",
       "      <td>N</td>\n",
       "      <td>2018-10-03</td>\n",
       "      <td>Wednesday</td>\n",
       "      <td>19</td>\n",
       "      <td>Part One</td>\n",
       "      <td>0.21</td>\n",
       "      <td>0.0</td>\n",
       "      <td>59</td>\n",
       "      <td>64</td>\n",
       "      <td>54</td>\n",
       "      <td>2018</td>\n",
       "      <td>10</td>\n",
       "    </tr>\n",
       "    <tr>\n",
       "      <th>20</th>\n",
       "      <td>I182080027</td>\n",
       "      <td>Larceny</td>\n",
       "      <td>B2</td>\n",
       "      <td>N</td>\n",
       "      <td>2018-10-03</td>\n",
       "      <td>Wednesday</td>\n",
       "      <td>18</td>\n",
       "      <td>Part One</td>\n",
       "      <td>0.21</td>\n",
       "      <td>0.0</td>\n",
       "      <td>59</td>\n",
       "      <td>64</td>\n",
       "      <td>54</td>\n",
       "      <td>2018</td>\n",
       "      <td>10</td>\n",
       "    </tr>\n",
       "    <tr>\n",
       "      <th>37</th>\n",
       "      <td>I182080005</td>\n",
       "      <td>Auto Theft</td>\n",
       "      <td>B2</td>\n",
       "      <td>N</td>\n",
       "      <td>2018-10-03</td>\n",
       "      <td>Wednesday</td>\n",
       "      <td>7</td>\n",
       "      <td>Part One</td>\n",
       "      <td>0.21</td>\n",
       "      <td>0.0</td>\n",
       "      <td>59</td>\n",
       "      <td>64</td>\n",
       "      <td>54</td>\n",
       "      <td>2018</td>\n",
       "      <td>10</td>\n",
       "    </tr>\n",
       "    <tr>\n",
       "      <th>38</th>\n",
       "      <td>I182080003</td>\n",
       "      <td>Larceny</td>\n",
       "      <td>C6</td>\n",
       "      <td>N</td>\n",
       "      <td>2018-10-03</td>\n",
       "      <td>Wednesday</td>\n",
       "      <td>17</td>\n",
       "      <td>Part One</td>\n",
       "      <td>0.21</td>\n",
       "      <td>0.0</td>\n",
       "      <td>59</td>\n",
       "      <td>64</td>\n",
       "      <td>54</td>\n",
       "      <td>2018</td>\n",
       "      <td>10</td>\n",
       "    </tr>\n",
       "  </tbody>\n",
       "</table>\n",
       "</div>"
      ],
      "text/plain": [
       "   INCIDENT_NUMBER  OFFENSE_CODE_GROUP DISTRICT SHOOTING        DATE  \\\n",
       "2       I182080051  Aggravated Assault       A1        N  2018-10-03   \n",
       "17      I182080029             Larceny       D4        N  2018-10-03   \n",
       "20      I182080027             Larceny       B2        N  2018-10-03   \n",
       "37      I182080005          Auto Theft       B2        N  2018-10-03   \n",
       "38      I182080003             Larceny       C6        N  2018-10-03   \n",
       "\n",
       "   DAY_OF_WEEK  HOUR  UCR_PART  PRCP  SNOW  TAVG  TMAX  TMIN  year  month  \n",
       "2    Wednesday    20  Part One  0.21   0.0    59    64    54  2018     10  \n",
       "17   Wednesday    19  Part One  0.21   0.0    59    64    54  2018     10  \n",
       "20   Wednesday    18  Part One  0.21   0.0    59    64    54  2018     10  \n",
       "37   Wednesday     7  Part One  0.21   0.0    59    64    54  2018     10  \n",
       "38   Wednesday    17  Part One  0.21   0.0    59    64    54  2018     10  "
      ]
     },
     "execution_count": 28,
     "metadata": {},
     "output_type": "execute_result"
    }
   ],
   "source": [
    "# New dataframe only contains UCR Part One\n",
    "UCR_p1 = weatherCrime[weatherCrime[\"UCR_PART\"] == \"Part One\"]\n",
    "UCR_p1.head()"
   ]
  },
  {
   "cell_type": "code",
   "execution_count": 29,
   "metadata": {
    "pycharm": {
     "name": "#%%\n"
    }
   },
   "outputs": [
    {
     "data": {
      "text/html": [
       "<div>\n",
       "<style scoped>\n",
       "    .dataframe tbody tr th:only-of-type {\n",
       "        vertical-align: middle;\n",
       "    }\n",
       "\n",
       "    .dataframe tbody tr th {\n",
       "        vertical-align: top;\n",
       "    }\n",
       "\n",
       "    .dataframe thead th {\n",
       "        text-align: right;\n",
       "    }\n",
       "</style>\n",
       "<table border=\"1\" class=\"dataframe\">\n",
       "  <thead>\n",
       "    <tr style=\"text-align: right;\">\n",
       "      <th></th>\n",
       "      <th>INCIDENT_NUMBER</th>\n",
       "      <th>OFFENSE_CODE_GROUP</th>\n",
       "      <th>DISTRICT</th>\n",
       "      <th>SHOOTING</th>\n",
       "      <th>DATE</th>\n",
       "      <th>DAY_OF_WEEK</th>\n",
       "      <th>HOUR</th>\n",
       "      <th>UCR_PART</th>\n",
       "      <th>PRCP</th>\n",
       "      <th>SNOW</th>\n",
       "      <th>TAVG</th>\n",
       "      <th>TMAX</th>\n",
       "      <th>TMIN</th>\n",
       "      <th>year</th>\n",
       "      <th>month</th>\n",
       "    </tr>\n",
       "  </thead>\n",
       "  <tbody>\n",
       "    <tr>\n",
       "      <th>0</th>\n",
       "      <td>I182080058</td>\n",
       "      <td>Disorderly Conduct</td>\n",
       "      <td>E18</td>\n",
       "      <td>N</td>\n",
       "      <td>2018-10-03</td>\n",
       "      <td>Wednesday</td>\n",
       "      <td>20</td>\n",
       "      <td>Part Two</td>\n",
       "      <td>0.21</td>\n",
       "      <td>0.0</td>\n",
       "      <td>59</td>\n",
       "      <td>64</td>\n",
       "      <td>54</td>\n",
       "      <td>2018</td>\n",
       "      <td>10</td>\n",
       "    </tr>\n",
       "    <tr>\n",
       "      <th>1</th>\n",
       "      <td>I182080052</td>\n",
       "      <td>Other</td>\n",
       "      <td>B2</td>\n",
       "      <td>N</td>\n",
       "      <td>2018-10-03</td>\n",
       "      <td>Wednesday</td>\n",
       "      <td>19</td>\n",
       "      <td>Part Two</td>\n",
       "      <td>0.21</td>\n",
       "      <td>0.0</td>\n",
       "      <td>59</td>\n",
       "      <td>64</td>\n",
       "      <td>54</td>\n",
       "      <td>2018</td>\n",
       "      <td>10</td>\n",
       "    </tr>\n",
       "    <tr>\n",
       "      <th>6</th>\n",
       "      <td>I182080045</td>\n",
       "      <td>Simple Assault</td>\n",
       "      <td>E18</td>\n",
       "      <td>N</td>\n",
       "      <td>2018-10-03</td>\n",
       "      <td>Wednesday</td>\n",
       "      <td>19</td>\n",
       "      <td>Part Two</td>\n",
       "      <td>0.21</td>\n",
       "      <td>0.0</td>\n",
       "      <td>59</td>\n",
       "      <td>64</td>\n",
       "      <td>54</td>\n",
       "      <td>2018</td>\n",
       "      <td>10</td>\n",
       "    </tr>\n",
       "    <tr>\n",
       "      <th>13</th>\n",
       "      <td>I182080037</td>\n",
       "      <td>Other</td>\n",
       "      <td>C11</td>\n",
       "      <td>N</td>\n",
       "      <td>2018-10-03</td>\n",
       "      <td>Wednesday</td>\n",
       "      <td>18</td>\n",
       "      <td>Part Two</td>\n",
       "      <td>0.21</td>\n",
       "      <td>0.0</td>\n",
       "      <td>59</td>\n",
       "      <td>64</td>\n",
       "      <td>54</td>\n",
       "      <td>2018</td>\n",
       "      <td>10</td>\n",
       "    </tr>\n",
       "    <tr>\n",
       "      <th>14</th>\n",
       "      <td>I182080035</td>\n",
       "      <td>Other</td>\n",
       "      <td>B2</td>\n",
       "      <td>N</td>\n",
       "      <td>2018-10-03</td>\n",
       "      <td>Wednesday</td>\n",
       "      <td>19</td>\n",
       "      <td>Part Two</td>\n",
       "      <td>0.21</td>\n",
       "      <td>0.0</td>\n",
       "      <td>59</td>\n",
       "      <td>64</td>\n",
       "      <td>54</td>\n",
       "      <td>2018</td>\n",
       "      <td>10</td>\n",
       "    </tr>\n",
       "  </tbody>\n",
       "</table>\n",
       "</div>"
      ],
      "text/plain": [
       "   INCIDENT_NUMBER  OFFENSE_CODE_GROUP DISTRICT SHOOTING        DATE  \\\n",
       "0       I182080058  Disorderly Conduct      E18        N  2018-10-03   \n",
       "1       I182080052               Other       B2        N  2018-10-03   \n",
       "6       I182080045      Simple Assault      E18        N  2018-10-03   \n",
       "13      I182080037               Other      C11        N  2018-10-03   \n",
       "14      I182080035               Other       B2        N  2018-10-03   \n",
       "\n",
       "   DAY_OF_WEEK  HOUR  UCR_PART  PRCP  SNOW  TAVG  TMAX  TMIN  year  month  \n",
       "0    Wednesday    20  Part Two  0.21   0.0    59    64    54  2018     10  \n",
       "1    Wednesday    19  Part Two  0.21   0.0    59    64    54  2018     10  \n",
       "6    Wednesday    19  Part Two  0.21   0.0    59    64    54  2018     10  \n",
       "13   Wednesday    18  Part Two  0.21   0.0    59    64    54  2018     10  \n",
       "14   Wednesday    19  Part Two  0.21   0.0    59    64    54  2018     10  "
      ]
     },
     "execution_count": 29,
     "metadata": {},
     "output_type": "execute_result"
    }
   ],
   "source": [
    "UCR_p2 = weatherCrime[weatherCrime[\"UCR_PART\"] == \"Part Two\"]\n",
    "UCR_p2.head()"
   ]
  },
  {
   "cell_type": "code",
   "execution_count": 30,
   "metadata": {
    "pycharm": {
     "name": "#%%\n"
    }
   },
   "outputs": [
    {
     "data": {
      "text/html": [
       "<div>\n",
       "<style scoped>\n",
       "    .dataframe tbody tr th:only-of-type {\n",
       "        vertical-align: middle;\n",
       "    }\n",
       "\n",
       "    .dataframe tbody tr th {\n",
       "        vertical-align: top;\n",
       "    }\n",
       "\n",
       "    .dataframe thead th {\n",
       "        text-align: right;\n",
       "    }\n",
       "</style>\n",
       "<table border=\"1\" class=\"dataframe\">\n",
       "  <thead>\n",
       "    <tr style=\"text-align: right;\">\n",
       "      <th></th>\n",
       "      <th>INCIDENT_NUMBER</th>\n",
       "      <th>OFFENSE_CODE_GROUP</th>\n",
       "      <th>DISTRICT</th>\n",
       "      <th>SHOOTING</th>\n",
       "      <th>DATE</th>\n",
       "      <th>DAY_OF_WEEK</th>\n",
       "      <th>HOUR</th>\n",
       "      <th>UCR_PART</th>\n",
       "      <th>PRCP</th>\n",
       "      <th>SNOW</th>\n",
       "      <th>TAVG</th>\n",
       "      <th>TMAX</th>\n",
       "      <th>TMIN</th>\n",
       "      <th>year</th>\n",
       "      <th>month</th>\n",
       "    </tr>\n",
       "  </thead>\n",
       "  <tbody>\n",
       "    <tr>\n",
       "      <th>3</th>\n",
       "      <td>I182080050</td>\n",
       "      <td>Aircraft</td>\n",
       "      <td>A7</td>\n",
       "      <td>N</td>\n",
       "      <td>2018-10-03</td>\n",
       "      <td>Wednesday</td>\n",
       "      <td>20</td>\n",
       "      <td>Part Three</td>\n",
       "      <td>0.21</td>\n",
       "      <td>0.0</td>\n",
       "      <td>59</td>\n",
       "      <td>64</td>\n",
       "      <td>54</td>\n",
       "      <td>2018</td>\n",
       "      <td>10</td>\n",
       "    </tr>\n",
       "    <tr>\n",
       "      <th>5</th>\n",
       "      <td>I182080047</td>\n",
       "      <td>Verbal Disputes</td>\n",
       "      <td>B2</td>\n",
       "      <td>N</td>\n",
       "      <td>2018-10-03</td>\n",
       "      <td>Wednesday</td>\n",
       "      <td>19</td>\n",
       "      <td>Part Three</td>\n",
       "      <td>0.21</td>\n",
       "      <td>0.0</td>\n",
       "      <td>59</td>\n",
       "      <td>64</td>\n",
       "      <td>54</td>\n",
       "      <td>2018</td>\n",
       "      <td>10</td>\n",
       "    </tr>\n",
       "    <tr>\n",
       "      <th>7</th>\n",
       "      <td>I182080044</td>\n",
       "      <td>Towed</td>\n",
       "      <td>D4</td>\n",
       "      <td>N</td>\n",
       "      <td>2018-10-03</td>\n",
       "      <td>Wednesday</td>\n",
       "      <td>20</td>\n",
       "      <td>Part Three</td>\n",
       "      <td>0.21</td>\n",
       "      <td>0.0</td>\n",
       "      <td>59</td>\n",
       "      <td>64</td>\n",
       "      <td>54</td>\n",
       "      <td>2018</td>\n",
       "      <td>10</td>\n",
       "    </tr>\n",
       "    <tr>\n",
       "      <th>8</th>\n",
       "      <td>I182080043</td>\n",
       "      <td>Motor Vehicle Accident Response</td>\n",
       "      <td>D14</td>\n",
       "      <td>N</td>\n",
       "      <td>2018-10-03</td>\n",
       "      <td>Wednesday</td>\n",
       "      <td>19</td>\n",
       "      <td>Part Three</td>\n",
       "      <td>0.21</td>\n",
       "      <td>0.0</td>\n",
       "      <td>59</td>\n",
       "      <td>64</td>\n",
       "      <td>54</td>\n",
       "      <td>2018</td>\n",
       "      <td>10</td>\n",
       "    </tr>\n",
       "    <tr>\n",
       "      <th>9</th>\n",
       "      <td>I182080041</td>\n",
       "      <td>Medical Assistance</td>\n",
       "      <td>E18</td>\n",
       "      <td>N</td>\n",
       "      <td>2018-10-03</td>\n",
       "      <td>Wednesday</td>\n",
       "      <td>17</td>\n",
       "      <td>Part Three</td>\n",
       "      <td>0.21</td>\n",
       "      <td>0.0</td>\n",
       "      <td>59</td>\n",
       "      <td>64</td>\n",
       "      <td>54</td>\n",
       "      <td>2018</td>\n",
       "      <td>10</td>\n",
       "    </tr>\n",
       "  </tbody>\n",
       "</table>\n",
       "</div>"
      ],
      "text/plain": [
       "  INCIDENT_NUMBER               OFFENSE_CODE_GROUP DISTRICT SHOOTING  \\\n",
       "3      I182080050                         Aircraft       A7        N   \n",
       "5      I182080047                  Verbal Disputes       B2        N   \n",
       "7      I182080044                            Towed       D4        N   \n",
       "8      I182080043  Motor Vehicle Accident Response      D14        N   \n",
       "9      I182080041               Medical Assistance      E18        N   \n",
       "\n",
       "         DATE DAY_OF_WEEK  HOUR    UCR_PART  PRCP  SNOW  TAVG  TMAX  TMIN  \\\n",
       "3  2018-10-03   Wednesday    20  Part Three  0.21   0.0    59    64    54   \n",
       "5  2018-10-03   Wednesday    19  Part Three  0.21   0.0    59    64    54   \n",
       "7  2018-10-03   Wednesday    20  Part Three  0.21   0.0    59    64    54   \n",
       "8  2018-10-03   Wednesday    19  Part Three  0.21   0.0    59    64    54   \n",
       "9  2018-10-03   Wednesday    17  Part Three  0.21   0.0    59    64    54   \n",
       "\n",
       "   year  month  \n",
       "3  2018     10  \n",
       "5  2018     10  \n",
       "7  2018     10  \n",
       "8  2018     10  \n",
       "9  2018     10  "
      ]
     },
     "execution_count": 30,
     "metadata": {},
     "output_type": "execute_result"
    }
   ],
   "source": [
    "UCR_p3 = weatherCrime[weatherCrime[\"UCR_PART\"] == \"Part Three\"]\n",
    "UCR_p3.head()"
   ]
  },
  {
   "cell_type": "code",
   "execution_count": 31,
   "metadata": {
    "pycharm": {
     "name": "#%%\n"
    }
   },
   "outputs": [
    {
     "data": {
      "text/html": [
       "<div>\n",
       "<style scoped>\n",
       "    .dataframe tbody tr th:only-of-type {\n",
       "        vertical-align: middle;\n",
       "    }\n",
       "\n",
       "    .dataframe tbody tr th {\n",
       "        vertical-align: top;\n",
       "    }\n",
       "\n",
       "    .dataframe thead th {\n",
       "        text-align: right;\n",
       "    }\n",
       "</style>\n",
       "<table border=\"1\" class=\"dataframe\">\n",
       "  <thead>\n",
       "    <tr style=\"text-align: right;\">\n",
       "      <th></th>\n",
       "      <th>INCIDENT_NUMBER</th>\n",
       "      <th>OFFENSE_CODE_GROUP</th>\n",
       "      <th>DISTRICT</th>\n",
       "      <th>SHOOTING</th>\n",
       "      <th>DATE</th>\n",
       "      <th>DAY_OF_WEEK</th>\n",
       "      <th>HOUR</th>\n",
       "      <th>UCR_PART</th>\n",
       "      <th>PRCP</th>\n",
       "      <th>SNOW</th>\n",
       "      <th>TAVG</th>\n",
       "      <th>TMAX</th>\n",
       "      <th>TMIN</th>\n",
       "      <th>year</th>\n",
       "      <th>month</th>\n",
       "    </tr>\n",
       "  </thead>\n",
       "  <tbody>\n",
       "    <tr>\n",
       "      <th>605</th>\n",
       "      <td>I182079646</td>\n",
       "      <td>Auto Theft Recovery</td>\n",
       "      <td>B2</td>\n",
       "      <td>N</td>\n",
       "      <td>2018-10-02</td>\n",
       "      <td>Tuesday</td>\n",
       "      <td>16</td>\n",
       "      <td>Other</td>\n",
       "      <td>0.29</td>\n",
       "      <td>0.0</td>\n",
       "      <td>58</td>\n",
       "      <td>64</td>\n",
       "      <td>57</td>\n",
       "      <td>2018</td>\n",
       "      <td>10</td>\n",
       "    </tr>\n",
       "    <tr>\n",
       "      <th>659</th>\n",
       "      <td>I182079553</td>\n",
       "      <td>Auto Theft Recovery</td>\n",
       "      <td>B3</td>\n",
       "      <td>N</td>\n",
       "      <td>2018-10-02</td>\n",
       "      <td>Tuesday</td>\n",
       "      <td>9</td>\n",
       "      <td>Other</td>\n",
       "      <td>0.29</td>\n",
       "      <td>0.0</td>\n",
       "      <td>58</td>\n",
       "      <td>64</td>\n",
       "      <td>57</td>\n",
       "      <td>2018</td>\n",
       "      <td>10</td>\n",
       "    </tr>\n",
       "    <tr>\n",
       "      <th>665</th>\n",
       "      <td>I182079545</td>\n",
       "      <td>Auto Theft Recovery</td>\n",
       "      <td>B3</td>\n",
       "      <td>N</td>\n",
       "      <td>2018-10-02</td>\n",
       "      <td>Tuesday</td>\n",
       "      <td>9</td>\n",
       "      <td>Other</td>\n",
       "      <td>0.29</td>\n",
       "      <td>0.0</td>\n",
       "      <td>58</td>\n",
       "      <td>64</td>\n",
       "      <td>57</td>\n",
       "      <td>2018</td>\n",
       "      <td>10</td>\n",
       "    </tr>\n",
       "    <tr>\n",
       "      <th>942</th>\n",
       "      <td>I182079200</td>\n",
       "      <td>Arson</td>\n",
       "      <td>C11</td>\n",
       "      <td>N</td>\n",
       "      <td>2018-10-01</td>\n",
       "      <td>Monday</td>\n",
       "      <td>7</td>\n",
       "      <td>Other</td>\n",
       "      <td>0.06</td>\n",
       "      <td>0.0</td>\n",
       "      <td>62</td>\n",
       "      <td>68</td>\n",
       "      <td>57</td>\n",
       "      <td>2018</td>\n",
       "      <td>10</td>\n",
       "    </tr>\n",
       "    <tr>\n",
       "      <th>1032</th>\n",
       "      <td>I172072294</td>\n",
       "      <td>Auto Theft Recovery</td>\n",
       "      <td>C11</td>\n",
       "      <td>N</td>\n",
       "      <td>2017-08-31</td>\n",
       "      <td>Thursday</td>\n",
       "      <td>19</td>\n",
       "      <td>Other</td>\n",
       "      <td>0.00</td>\n",
       "      <td>0.0</td>\n",
       "      <td>68</td>\n",
       "      <td>79</td>\n",
       "      <td>60</td>\n",
       "      <td>2017</td>\n",
       "      <td>8</td>\n",
       "    </tr>\n",
       "  </tbody>\n",
       "</table>\n",
       "</div>"
      ],
      "text/plain": [
       "     INCIDENT_NUMBER   OFFENSE_CODE_GROUP DISTRICT SHOOTING        DATE  \\\n",
       "605       I182079646  Auto Theft Recovery       B2        N  2018-10-02   \n",
       "659       I182079553  Auto Theft Recovery       B3        N  2018-10-02   \n",
       "665       I182079545  Auto Theft Recovery       B3        N  2018-10-02   \n",
       "942       I182079200                Arson      C11        N  2018-10-01   \n",
       "1032      I172072294  Auto Theft Recovery      C11        N  2017-08-31   \n",
       "\n",
       "     DAY_OF_WEEK  HOUR UCR_PART  PRCP  SNOW  TAVG  TMAX  TMIN  year  month  \n",
       "605      Tuesday    16    Other  0.29   0.0    58    64    57  2018     10  \n",
       "659      Tuesday     9    Other  0.29   0.0    58    64    57  2018     10  \n",
       "665      Tuesday     9    Other  0.29   0.0    58    64    57  2018     10  \n",
       "942       Monday     7    Other  0.06   0.0    62    68    57  2018     10  \n",
       "1032    Thursday    19    Other  0.00   0.0    68    79    60  2017      8  "
      ]
     },
     "execution_count": 31,
     "metadata": {},
     "output_type": "execute_result"
    }
   ],
   "source": [
    "UCR_p4 = weatherCrime[weatherCrime[\"UCR_PART\"] == \"Other\"]\n",
    "UCR_p4.head()"
   ]
  },
  {
   "cell_type": "markdown",
   "metadata": {},
   "source": [
    "The next part is to extract the incidents count for each UCR dataframe. Then we sort the values with same principle as we did with 'crime_month' dataframe. For each UCR dataframe, the incidents count will be put into the 'count' column. Next, we insert 'count' columns into our 'crime_month' dataframe."
   ]
  },
  {
   "cell_type": "code",
   "execution_count": 32,
   "metadata": {
    "pycharm": {
     "name": "#%%\n"
    }
   },
   "outputs": [],
   "source": [
    "# Extract incidents counts\n",
    "UCR_p1_count = UCR_p1.groupby([\"year\",\"month\"]).size().reset_index(name='count')\n",
    "UCR_p2_count = UCR_p2.groupby([\"year\",\"month\"]).size().reset_index(name='count')\n",
    "UCR_p3_count = UCR_p3.groupby([\"year\",\"month\"]).size().reset_index(name='count')\n",
    "UCR_p4_count = UCR_p4.groupby([\"year\",\"month\"]).size().reset_index(name='count')\n",
    "\n",
    "# Sort values\n",
    "UCR_p1_count = UCR_p1_count.sort_values(['year', 'month'])\n",
    "UCR_p2_count = UCR_p2_count.sort_values(['year', 'month'])\n",
    "UCR_p3_count = UCR_p3_count.sort_values(['year', 'month'])\n",
    "UCR_p4_count = UCR_p4_count.sort_values(['year', 'month'])\n",
    "\n",
    "# Insert the columns to 'crime_month'\n",
    "crime_month[\"Incident Count Part One\"] = UCR_p1_count[\"count\"]\n",
    "crime_month[\"Incident Count Part Two\"] = UCR_p2_count[\"count\"]\n",
    "crime_month[\"Incident Count Part Three\"] = UCR_p3_count[\"count\"]\n",
    "crime_month[\"Incident Count Part Other\"] = UCR_p4_count[\"count\"]"
   ]
  },
  {
   "cell_type": "markdown",
   "metadata": {},
   "source": [
    "We still need one more step before drawing out the graphs. That is to include an \"Average Temperature\" column in our dataframe. We will work with 'weather_cln' dataframe. The idea is to divide the dataframe into smaller ones from June 2015 to October 2018. Average temperature will be calculated in by adding up all daily TAVG of that month then dividing it by the number of days of that month."
   ]
  },
  {
   "cell_type": "code",
   "execution_count": 33,
   "metadata": {
    "pycharm": {
     "name": "#%%\n"
    }
   },
   "outputs": [
    {
     "data": {
      "text/html": [
       "<div>\n",
       "<style scoped>\n",
       "    .dataframe tbody tr th:only-of-type {\n",
       "        vertical-align: middle;\n",
       "    }\n",
       "\n",
       "    .dataframe tbody tr th {\n",
       "        vertical-align: top;\n",
       "    }\n",
       "\n",
       "    .dataframe thead th {\n",
       "        text-align: right;\n",
       "    }\n",
       "</style>\n",
       "<table border=\"1\" class=\"dataframe\">\n",
       "  <thead>\n",
       "    <tr style=\"text-align: right;\">\n",
       "      <th></th>\n",
       "      <th>DATE</th>\n",
       "      <th>PRCP</th>\n",
       "      <th>SNOW</th>\n",
       "      <th>TAVG</th>\n",
       "      <th>TMAX</th>\n",
       "      <th>TMIN</th>\n",
       "      <th>year</th>\n",
       "      <th>month</th>\n",
       "      <th>Month Year</th>\n",
       "    </tr>\n",
       "  </thead>\n",
       "  <tbody>\n",
       "    <tr>\n",
       "      <th>165</th>\n",
       "      <td>2015-06-15</td>\n",
       "      <td>0.40</td>\n",
       "      <td>0.0</td>\n",
       "      <td>58</td>\n",
       "      <td>63</td>\n",
       "      <td>54</td>\n",
       "      <td>2015</td>\n",
       "      <td>6</td>\n",
       "      <td>20156</td>\n",
       "    </tr>\n",
       "    <tr>\n",
       "      <th>166</th>\n",
       "      <td>2015-06-16</td>\n",
       "      <td>0.00</td>\n",
       "      <td>0.0</td>\n",
       "      <td>59</td>\n",
       "      <td>71</td>\n",
       "      <td>56</td>\n",
       "      <td>2015</td>\n",
       "      <td>6</td>\n",
       "      <td>20156</td>\n",
       "    </tr>\n",
       "    <tr>\n",
       "      <th>167</th>\n",
       "      <td>2015-06-17</td>\n",
       "      <td>0.00</td>\n",
       "      <td>0.0</td>\n",
       "      <td>66</td>\n",
       "      <td>69</td>\n",
       "      <td>59</td>\n",
       "      <td>2015</td>\n",
       "      <td>6</td>\n",
       "      <td>20156</td>\n",
       "    </tr>\n",
       "    <tr>\n",
       "      <th>168</th>\n",
       "      <td>2015-06-18</td>\n",
       "      <td>0.00</td>\n",
       "      <td>0.0</td>\n",
       "      <td>65</td>\n",
       "      <td>76</td>\n",
       "      <td>57</td>\n",
       "      <td>2015</td>\n",
       "      <td>6</td>\n",
       "      <td>20156</td>\n",
       "    </tr>\n",
       "    <tr>\n",
       "      <th>169</th>\n",
       "      <td>2015-06-19</td>\n",
       "      <td>0.00</td>\n",
       "      <td>0.0</td>\n",
       "      <td>69</td>\n",
       "      <td>86</td>\n",
       "      <td>63</td>\n",
       "      <td>2015</td>\n",
       "      <td>6</td>\n",
       "      <td>20156</td>\n",
       "    </tr>\n",
       "    <tr>\n",
       "      <th>170</th>\n",
       "      <td>2015-06-20</td>\n",
       "      <td>0.04</td>\n",
       "      <td>0.0</td>\n",
       "      <td>65</td>\n",
       "      <td>75</td>\n",
       "      <td>58</td>\n",
       "      <td>2015</td>\n",
       "      <td>6</td>\n",
       "      <td>20156</td>\n",
       "    </tr>\n",
       "    <tr>\n",
       "      <th>171</th>\n",
       "      <td>2015-06-21</td>\n",
       "      <td>1.72</td>\n",
       "      <td>0.0</td>\n",
       "      <td>66</td>\n",
       "      <td>76</td>\n",
       "      <td>60</td>\n",
       "      <td>2015</td>\n",
       "      <td>6</td>\n",
       "      <td>20156</td>\n",
       "    </tr>\n",
       "    <tr>\n",
       "      <th>172</th>\n",
       "      <td>2015-06-22</td>\n",
       "      <td>0.00</td>\n",
       "      <td>0.0</td>\n",
       "      <td>66</td>\n",
       "      <td>77</td>\n",
       "      <td>61</td>\n",
       "      <td>2015</td>\n",
       "      <td>6</td>\n",
       "      <td>20156</td>\n",
       "    </tr>\n",
       "    <tr>\n",
       "      <th>173</th>\n",
       "      <td>2015-06-23</td>\n",
       "      <td>0.01</td>\n",
       "      <td>0.0</td>\n",
       "      <td>72</td>\n",
       "      <td>88</td>\n",
       "      <td>60</td>\n",
       "      <td>2015</td>\n",
       "      <td>6</td>\n",
       "      <td>20156</td>\n",
       "    </tr>\n",
       "    <tr>\n",
       "      <th>174</th>\n",
       "      <td>2015-06-24</td>\n",
       "      <td>0.00</td>\n",
       "      <td>0.0</td>\n",
       "      <td>76</td>\n",
       "      <td>84</td>\n",
       "      <td>67</td>\n",
       "      <td>2015</td>\n",
       "      <td>6</td>\n",
       "      <td>20156</td>\n",
       "    </tr>\n",
       "    <tr>\n",
       "      <th>175</th>\n",
       "      <td>2015-06-25</td>\n",
       "      <td>0.00</td>\n",
       "      <td>0.0</td>\n",
       "      <td>73</td>\n",
       "      <td>81</td>\n",
       "      <td>64</td>\n",
       "      <td>2015</td>\n",
       "      <td>6</td>\n",
       "      <td>20156</td>\n",
       "    </tr>\n",
       "    <tr>\n",
       "      <th>176</th>\n",
       "      <td>2015-06-26</td>\n",
       "      <td>0.00</td>\n",
       "      <td>0.0</td>\n",
       "      <td>68</td>\n",
       "      <td>72</td>\n",
       "      <td>59</td>\n",
       "      <td>2015</td>\n",
       "      <td>6</td>\n",
       "      <td>20156</td>\n",
       "    </tr>\n",
       "    <tr>\n",
       "      <th>177</th>\n",
       "      <td>2015-06-27</td>\n",
       "      <td>0.20</td>\n",
       "      <td>0.0</td>\n",
       "      <td>63</td>\n",
       "      <td>68</td>\n",
       "      <td>57</td>\n",
       "      <td>2015</td>\n",
       "      <td>6</td>\n",
       "      <td>20156</td>\n",
       "    </tr>\n",
       "    <tr>\n",
       "      <th>178</th>\n",
       "      <td>2015-06-28</td>\n",
       "      <td>1.43</td>\n",
       "      <td>0.0</td>\n",
       "      <td>59</td>\n",
       "      <td>59</td>\n",
       "      <td>52</td>\n",
       "      <td>2015</td>\n",
       "      <td>6</td>\n",
       "      <td>20156</td>\n",
       "    </tr>\n",
       "    <tr>\n",
       "      <th>179</th>\n",
       "      <td>2015-06-29</td>\n",
       "      <td>0.00</td>\n",
       "      <td>0.0</td>\n",
       "      <td>60</td>\n",
       "      <td>75</td>\n",
       "      <td>53</td>\n",
       "      <td>2015</td>\n",
       "      <td>6</td>\n",
       "      <td>20156</td>\n",
       "    </tr>\n",
       "    <tr>\n",
       "      <th>180</th>\n",
       "      <td>2015-06-30</td>\n",
       "      <td>0.00</td>\n",
       "      <td>0.0</td>\n",
       "      <td>68</td>\n",
       "      <td>75</td>\n",
       "      <td>60</td>\n",
       "      <td>2015</td>\n",
       "      <td>6</td>\n",
       "      <td>20156</td>\n",
       "    </tr>\n",
       "    <tr>\n",
       "      <th>181</th>\n",
       "      <td>2015-07-01</td>\n",
       "      <td>0.54</td>\n",
       "      <td>0.0</td>\n",
       "      <td>69</td>\n",
       "      <td>82</td>\n",
       "      <td>62</td>\n",
       "      <td>2015</td>\n",
       "      <td>7</td>\n",
       "      <td>20157</td>\n",
       "    </tr>\n",
       "    <tr>\n",
       "      <th>182</th>\n",
       "      <td>2015-07-02</td>\n",
       "      <td>0.00</td>\n",
       "      <td>0.0</td>\n",
       "      <td>72</td>\n",
       "      <td>80</td>\n",
       "      <td>64</td>\n",
       "      <td>2015</td>\n",
       "      <td>7</td>\n",
       "      <td>20157</td>\n",
       "    </tr>\n",
       "    <tr>\n",
       "      <th>183</th>\n",
       "      <td>2015-07-03</td>\n",
       "      <td>0.00</td>\n",
       "      <td>0.0</td>\n",
       "      <td>71</td>\n",
       "      <td>76</td>\n",
       "      <td>63</td>\n",
       "      <td>2015</td>\n",
       "      <td>7</td>\n",
       "      <td>20157</td>\n",
       "    </tr>\n",
       "    <tr>\n",
       "      <th>184</th>\n",
       "      <td>2015-07-04</td>\n",
       "      <td>0.00</td>\n",
       "      <td>0.0</td>\n",
       "      <td>67</td>\n",
       "      <td>72</td>\n",
       "      <td>62</td>\n",
       "      <td>2015</td>\n",
       "      <td>7</td>\n",
       "      <td>20157</td>\n",
       "    </tr>\n",
       "  </tbody>\n",
       "</table>\n",
       "</div>"
      ],
      "text/plain": [
       "           DATE  PRCP  SNOW  TAVG  TMAX  TMIN  year  month Month Year\n",
       "165  2015-06-15  0.40   0.0    58    63    54  2015      6      20156\n",
       "166  2015-06-16  0.00   0.0    59    71    56  2015      6      20156\n",
       "167  2015-06-17  0.00   0.0    66    69    59  2015      6      20156\n",
       "168  2015-06-18  0.00   0.0    65    76    57  2015      6      20156\n",
       "169  2015-06-19  0.00   0.0    69    86    63  2015      6      20156\n",
       "170  2015-06-20  0.04   0.0    65    75    58  2015      6      20156\n",
       "171  2015-06-21  1.72   0.0    66    76    60  2015      6      20156\n",
       "172  2015-06-22  0.00   0.0    66    77    61  2015      6      20156\n",
       "173  2015-06-23  0.01   0.0    72    88    60  2015      6      20156\n",
       "174  2015-06-24  0.00   0.0    76    84    67  2015      6      20156\n",
       "175  2015-06-25  0.00   0.0    73    81    64  2015      6      20156\n",
       "176  2015-06-26  0.00   0.0    68    72    59  2015      6      20156\n",
       "177  2015-06-27  0.20   0.0    63    68    57  2015      6      20156\n",
       "178  2015-06-28  1.43   0.0    59    59    52  2015      6      20156\n",
       "179  2015-06-29  0.00   0.0    60    75    53  2015      6      20156\n",
       "180  2015-06-30  0.00   0.0    68    75    60  2015      6      20156\n",
       "181  2015-07-01  0.54   0.0    69    82    62  2015      7      20157\n",
       "182  2015-07-02  0.00   0.0    72    80    64  2015      7      20157\n",
       "183  2015-07-03  0.00   0.0    71    76    63  2015      7      20157\n",
       "184  2015-07-04  0.00   0.0    67    72    62  2015      7      20157"
      ]
     },
     "execution_count": 33,
     "metadata": {},
     "output_type": "execute_result"
    }
   ],
   "source": [
    "# Create 'year' and 'month' columns\n",
    "weather_cln['year'] = pd.DatetimeIndex(weather_cln[\"DATE\"]).year\n",
    "weather_cln['month'] = pd.DatetimeIndex(weather_cln[\"DATE\"]).month\n",
    "# Combine to get 'Month Year' column\n",
    "weather_cln[\"Month Year\"] = weather_cln['year'].astype(str) + weather_cln['month'].astype(str)\n",
    "# Get index of June 15, 2015 and October 3, 2018\n",
    "startIndex = weather_cln.index[weather_cln[\"Month Year\"] == '20156'][14]\n",
    "endIndex = weather_cln.index[weather_cln[\"Month Year\"] == '201810'][2]\n",
    "\n",
    "# New dataframe contains temperature from June 15, 2015 to October 3, 2018\n",
    "weather_cln_cut = weather_cln[startIndex:endIndex+1]\n",
    "\n",
    "weather_cln_cut.head(20)"
   ]
  },
  {
   "cell_type": "code",
   "execution_count": 34,
   "metadata": {
    "pycharm": {
     "name": "#%%\n"
    }
   },
   "outputs": [],
   "source": [
    "# Create a list of unique \"Month Year\" values\n",
    "month_list = weather_cln_cut[\"Month Year\"].unique().tolist()"
   ]
  },
  {
   "cell_type": "code",
   "execution_count": 35,
   "metadata": {
    "pycharm": {
     "name": "#%%\n"
    }
   },
   "outputs": [],
   "source": [
    "# List for monthly average temperatures\n",
    "tavg_list = []\n",
    "\n",
    "# Create a new 'weather_month' dataframe in each loop. Average temperature will be calculated\n",
    "# in that dataframe, then we append it to the 'tavg_list'.\n",
    "for monthYear in month_list:\n",
    "    weather_month = weather_cln[weather_cln['Month Year'] == monthYear]\n",
    "    tavg = weather_month['TAVG'].mean()\n",
    "    tavg_list.append(int(tavg))"
   ]
  },
  {
   "cell_type": "markdown",
   "metadata": {},
   "source": [
    "Now that we have the list of monthly average temperatures, let's create a new \"Average Temperature\" column for our 'crime_month' dataframe."
   ]
  },
  {
   "cell_type": "code",
   "execution_count": 36,
   "metadata": {
    "pycharm": {
     "name": "#%%\n"
    }
   },
   "outputs": [
    {
     "data": {
      "text/html": [
       "<div>\n",
       "<style scoped>\n",
       "    .dataframe tbody tr th:only-of-type {\n",
       "        vertical-align: middle;\n",
       "    }\n",
       "\n",
       "    .dataframe tbody tr th {\n",
       "        vertical-align: top;\n",
       "    }\n",
       "\n",
       "    .dataframe thead th {\n",
       "        text-align: right;\n",
       "    }\n",
       "</style>\n",
       "<table border=\"1\" class=\"dataframe\">\n",
       "  <thead>\n",
       "    <tr style=\"text-align: right;\">\n",
       "      <th></th>\n",
       "      <th>Month Year</th>\n",
       "      <th>month</th>\n",
       "      <th>year</th>\n",
       "      <th>Incident Count</th>\n",
       "      <th>Incident Count Part One</th>\n",
       "      <th>Incident Count Part Two</th>\n",
       "      <th>Incident Count Part Three</th>\n",
       "      <th>Incident Count Part Other</th>\n",
       "      <th>Average Temperature</th>\n",
       "    </tr>\n",
       "  </thead>\n",
       "  <tbody>\n",
       "    <tr>\n",
       "      <th>0</th>\n",
       "      <td>Jun 2015</td>\n",
       "      <td>6</td>\n",
       "      <td>2015</td>\n",
       "      <td>4191</td>\n",
       "      <td>1020</td>\n",
       "      <td>1365</td>\n",
       "      <td>1737</td>\n",
       "      <td>10</td>\n",
       "      <td>63</td>\n",
       "    </tr>\n",
       "    <tr>\n",
       "      <th>1</th>\n",
       "      <td>Jul 2015</td>\n",
       "      <td>7</td>\n",
       "      <td>2015</td>\n",
       "      <td>8326</td>\n",
       "      <td>1993</td>\n",
       "      <td>2835</td>\n",
       "      <td>3456</td>\n",
       "      <td>28</td>\n",
       "      <td>73</td>\n",
       "    </tr>\n",
       "    <tr>\n",
       "      <th>2</th>\n",
       "      <td>Aug 2015</td>\n",
       "      <td>8</td>\n",
       "      <td>2015</td>\n",
       "      <td>8343</td>\n",
       "      <td>1966</td>\n",
       "      <td>2791</td>\n",
       "      <td>3547</td>\n",
       "      <td>25</td>\n",
       "      <td>73</td>\n",
       "    </tr>\n",
       "    <tr>\n",
       "      <th>3</th>\n",
       "      <td>Sep 2015</td>\n",
       "      <td>9</td>\n",
       "      <td>2015</td>\n",
       "      <td>8415</td>\n",
       "      <td>1893</td>\n",
       "      <td>2798</td>\n",
       "      <td>3687</td>\n",
       "      <td>26</td>\n",
       "      <td>69</td>\n",
       "    </tr>\n",
       "    <tr>\n",
       "      <th>4</th>\n",
       "      <td>Oct 2015</td>\n",
       "      <td>10</td>\n",
       "      <td>2015</td>\n",
       "      <td>8308</td>\n",
       "      <td>1867</td>\n",
       "      <td>2766</td>\n",
       "      <td>3633</td>\n",
       "      <td>27</td>\n",
       "      <td>54</td>\n",
       "    </tr>\n",
       "    <tr>\n",
       "      <th>5</th>\n",
       "      <td>Nov 2015</td>\n",
       "      <td>11</td>\n",
       "      <td>2015</td>\n",
       "      <td>7818</td>\n",
       "      <td>1729</td>\n",
       "      <td>2607</td>\n",
       "      <td>3452</td>\n",
       "      <td>22</td>\n",
       "      <td>48</td>\n",
       "    </tr>\n",
       "    <tr>\n",
       "      <th>6</th>\n",
       "      <td>Dec 2015</td>\n",
       "      <td>12</td>\n",
       "      <td>2015</td>\n",
       "      <td>7991</td>\n",
       "      <td>1768</td>\n",
       "      <td>2522</td>\n",
       "      <td>3668</td>\n",
       "      <td>24</td>\n",
       "      <td>44</td>\n",
       "    </tr>\n",
       "    <tr>\n",
       "      <th>7</th>\n",
       "      <td>Jan 2016</td>\n",
       "      <td>1</td>\n",
       "      <td>2016</td>\n",
       "      <td>7837</td>\n",
       "      <td>1572</td>\n",
       "      <td>2481</td>\n",
       "      <td>3748</td>\n",
       "      <td>32</td>\n",
       "      <td>32</td>\n",
       "    </tr>\n",
       "    <tr>\n",
       "      <th>8</th>\n",
       "      <td>Feb 2016</td>\n",
       "      <td>2</td>\n",
       "      <td>2016</td>\n",
       "      <td>7310</td>\n",
       "      <td>1269</td>\n",
       "      <td>2495</td>\n",
       "      <td>3511</td>\n",
       "      <td>29</td>\n",
       "      <td>34</td>\n",
       "    </tr>\n",
       "    <tr>\n",
       "      <th>9</th>\n",
       "      <td>Mar 2016</td>\n",
       "      <td>3</td>\n",
       "      <td>2016</td>\n",
       "      <td>8199</td>\n",
       "      <td>1510</td>\n",
       "      <td>2873</td>\n",
       "      <td>3772</td>\n",
       "      <td>39</td>\n",
       "      <td>42</td>\n",
       "    </tr>\n",
       "  </tbody>\n",
       "</table>\n",
       "</div>"
      ],
      "text/plain": [
       "  Month Year  month  year  Incident Count  Incident Count Part One  \\\n",
       "0   Jun 2015      6  2015            4191                     1020   \n",
       "1   Jul 2015      7  2015            8326                     1993   \n",
       "2   Aug 2015      8  2015            8343                     1966   \n",
       "3   Sep 2015      9  2015            8415                     1893   \n",
       "4   Oct 2015     10  2015            8308                     1867   \n",
       "5   Nov 2015     11  2015            7818                     1729   \n",
       "6   Dec 2015     12  2015            7991                     1768   \n",
       "7   Jan 2016      1  2016            7837                     1572   \n",
       "8   Feb 2016      2  2016            7310                     1269   \n",
       "9   Mar 2016      3  2016            8199                     1510   \n",
       "\n",
       "   Incident Count Part Two  Incident Count Part Three  \\\n",
       "0                     1365                       1737   \n",
       "1                     2835                       3456   \n",
       "2                     2791                       3547   \n",
       "3                     2798                       3687   \n",
       "4                     2766                       3633   \n",
       "5                     2607                       3452   \n",
       "6                     2522                       3668   \n",
       "7                     2481                       3748   \n",
       "8                     2495                       3511   \n",
       "9                     2873                       3772   \n",
       "\n",
       "   Incident Count Part Other  Average Temperature  \n",
       "0                         10                   63  \n",
       "1                         28                   73  \n",
       "2                         25                   73  \n",
       "3                         26                   69  \n",
       "4                         27                   54  \n",
       "5                         22                   48  \n",
       "6                         24                   44  \n",
       "7                         32                   32  \n",
       "8                         29                   34  \n",
       "9                         39                   42  "
      ]
     },
     "execution_count": 36,
     "metadata": {},
     "output_type": "execute_result"
    }
   ],
   "source": [
    "crime_month[\"Average Temperature\"] = tavg_list\n",
    "crime_month.head(10)"
   ]
  },
  {
   "cell_type": "markdown",
   "metadata": {},
   "source": [
    "Now let's plot them out. But first, since all four graphs will be drawn by the same way, it is more efficient to have a function to do this."
   ]
  },
  {
   "cell_type": "code",
   "execution_count": 37,
   "metadata": {
    "pycharm": {
     "name": "#%%\n"
    }
   },
   "outputs": [],
   "source": [
    "def draw_UCR(df, number):\n",
    "    fig, ax1 = plt.subplots(1,1, figsize=(12,7))\n",
    "    ax1.plot(df[\"Month Year\"], df[\"Average Temperature\"], color='blue')\n",
    "    ax1.set_xticks([i for i in range(0, len(df[\"Month Year\"].values), 5)])\n",
    "    ax1.set_xticklabels([i for i in df[\"Month Year\"]])\n",
    "    ax1.set_xlabel(\"Month of Date\", size=12)\n",
    "    ax1.set_ylabel(\"Temperature (F)\", size=12, color='blue')\n",
    "    ax1.set_title(\"Temperature and Crime vs Time / UCR Part {0}\".format(number), size=14)\n",
    "    ax1.tick_params(axis='y', labelcolor='blue')\n",
    "\n",
    "    ax2 = ax1.twinx() # instantiate a second axes that shares the same x-axis\n",
    "\n",
    "    ax2.plot(df[\"Month Year\"], df[\"Incident Count Part {}\".format(number)], color='orange')\n",
    "    ax2.set_xticks([i for i in range(0, len(df[\"Month Year\"].values), 5)])\n",
    "    ax2.set_xticklabels([i for i in df[\"Month Year\"]])\n",
    "    ax2.set_ylabel(\"Incident Count\", size=12, color='orange')\n",
    "    ax2.tick_params(axis='y', labelcolor='orange')\n",
    "\n",
    "    fig.tight_layout()\n",
    "    return plt.show()"
   ]
  },
  {
   "cell_type": "code",
   "execution_count": 38,
   "metadata": {
    "pycharm": {
     "name": "#%%\n"
    }
   },
   "outputs": [
    {
     "data": {
      "image/png": "[encoded data removed]",
      "text/plain": [
       "<Figure size 864x504 with 2 Axes>"
      ]
     },
     "metadata": {},
     "output_type": "display_data"
    }
   ],
   "source": [
    "# UCR Part One Graph\n",
    "draw_UCR(crime_month, 'One')"
   ]
  },
  {
   "cell_type": "code",
   "execution_count": 39,
   "metadata": {
    "pycharm": {
     "name": "#%%\n"
    }
   },
   "outputs": [
    {
     "data": {
      "image/png": "[encoded data removed]",
      "text/plain": [
       "<Figure size 864x504 with 2 Axes>"
      ]
     },
     "metadata": {},
     "output_type": "display_data"
    }
   ],
   "source": [
    "# UCR Part Two Graph\n",
    "draw_UCR(crime_month, 'Two')"
   ]
  },
  {
   "cell_type": "code",
   "execution_count": 40,
   "metadata": {
    "pycharm": {
     "name": "#%%\n"
    }
   },
   "outputs": [
    {
     "data": {
      "image/png": "[encoded data removed]",
      "text/plain": [
       "<Figure size 864x504 with 2 Axes>"
      ]
     },
     "metadata": {},
     "output_type": "display_data"
    }
   ],
   "source": [
    "# UCR Part Three Graph\n",
    "draw_UCR(crime_month, 'Three')"
   ]
  },
  {
   "cell_type": "code",
   "execution_count": 41,
   "metadata": {
    "pycharm": {
     "name": "#%%\n"
    }
   },
   "outputs": [
    {
     "data": {
      "image/png": "[encoded data removed]",
      "text/plain": [
       "<Figure size 864x504 with 2 Axes>"
      ]
     },
     "metadata": {},
     "output_type": "display_data"
    }
   ],
   "source": [
    "# UCR Part Other Graph\n",
    "draw_UCR(crime_month, 'Other')"
   ]
  },
  {
   "cell_type": "markdown",
   "metadata": {},
   "source": [
    "Categorizion helps to eliminate the fact that, one type of crime, being the majority, might affect the other types. Having four graphs visualized like this, we have a pretty clear view on how temperature influenced crime incidents in all four categories of UCR. As the matter of fact, the strongest correlation can only be seen in the first graph where two lines followed quite the same movements. When temperature raised, the incidents count also raised, and the same trend occured when the temperature dropped.\n",
    "\n",
    "We also notice the same pattern in the second graph, however, it is not as clear as that in the first one. There were more fluctuations. The third and fourth graphs show almost no correlations between the two attributes. On a side note, we did not take into account the quick rise in June 2015 and the steep fall in October 2018.\n",
    "\n",
    "The interesting thing is that in the first three line graphs, the Incident Count pattern, to some extend, resemble that in the \"Monthly Incident Count from June 2015 to October 2018\" in our previous exploration. The last graph owns the strongest fluction through out the time period. Perhaps, this is due to the difference among the types of crime in the four parts of UCR."
   ]
  },
  {
   "cell_type": "markdown",
   "metadata": {},
   "source": [
    "### Optimization"
   ]
  },
  {
   "cell_type": "markdown",
   "metadata": {},
   "source": [
    "This section won't go deep into new explorations but rather find a better way to visualize our old graphs, and hopefully, product a better exploration. As we may have noticed, in the last 4 line graphs that involve in our last exploration, the line charts for Incident Count in each of the UCR part were heavily influenced by the incomplete data of June 2015 and October 2018. As we have stated above, this is due to the incompleteness of the original datasets. The influence caused an extreme extension in the range of y-axis. To be more specific, the rapid rise at the beginning of the chart and the steep drop at the end of it have extended the range to below 250, 500, 1000, and 10 cases in UCR Part One, UCR Part Two, UCR Part Three, and UCR Part Other respectively. This overall has made the changes in complete months less significant than they should have been visually. Therefore, one way to fix this is to drop the first and last month of our time span or June 2015 and October 2018 specifically."
   ]
  },
  {
   "cell_type": "code",
   "execution_count": 42,
   "metadata": {
    "pycharm": {
     "name": "#%%\n"
    }
   },
   "outputs": [],
   "source": [
    "# Drop the first and last row\n",
    "crime_month_drop = crime_month.drop(crime_month.index[0])\n",
    "crime_month_drop.drop(crime_month_drop.index[-1], inplace=True)"
   ]
  },
  {
   "cell_type": "code",
   "execution_count": 43,
   "metadata": {
    "pycharm": {
     "name": "#%%\n"
    }
   },
   "outputs": [
    {
     "data": {
      "text/html": [
       "<div>\n",
       "<style scoped>\n",
       "    .dataframe tbody tr th:only-of-type {\n",
       "        vertical-align: middle;\n",
       "    }\n",
       "\n",
       "    .dataframe tbody tr th {\n",
       "        vertical-align: top;\n",
       "    }\n",
       "\n",
       "    .dataframe thead th {\n",
       "        text-align: right;\n",
       "    }\n",
       "</style>\n",
       "<table border=\"1\" class=\"dataframe\">\n",
       "  <thead>\n",
       "    <tr style=\"text-align: right;\">\n",
       "      <th></th>\n",
       "      <th>Month Year</th>\n",
       "      <th>month</th>\n",
       "      <th>year</th>\n",
       "      <th>Incident Count</th>\n",
       "      <th>Incident Count Part One</th>\n",
       "      <th>Incident Count Part Two</th>\n",
       "      <th>Incident Count Part Three</th>\n",
       "      <th>Incident Count Part Other</th>\n",
       "      <th>Average Temperature</th>\n",
       "    </tr>\n",
       "  </thead>\n",
       "  <tbody>\n",
       "    <tr>\n",
       "      <th>1</th>\n",
       "      <td>Jul 2015</td>\n",
       "      <td>7</td>\n",
       "      <td>2015</td>\n",
       "      <td>8326</td>\n",
       "      <td>1993</td>\n",
       "      <td>2835</td>\n",
       "      <td>3456</td>\n",
       "      <td>28</td>\n",
       "      <td>73</td>\n",
       "    </tr>\n",
       "    <tr>\n",
       "      <th>2</th>\n",
       "      <td>Aug 2015</td>\n",
       "      <td>8</td>\n",
       "      <td>2015</td>\n",
       "      <td>8343</td>\n",
       "      <td>1966</td>\n",
       "      <td>2791</td>\n",
       "      <td>3547</td>\n",
       "      <td>25</td>\n",
       "      <td>73</td>\n",
       "    </tr>\n",
       "    <tr>\n",
       "      <th>3</th>\n",
       "      <td>Sep 2015</td>\n",
       "      <td>9</td>\n",
       "      <td>2015</td>\n",
       "      <td>8415</td>\n",
       "      <td>1893</td>\n",
       "      <td>2798</td>\n",
       "      <td>3687</td>\n",
       "      <td>26</td>\n",
       "      <td>69</td>\n",
       "    </tr>\n",
       "    <tr>\n",
       "      <th>4</th>\n",
       "      <td>Oct 2015</td>\n",
       "      <td>10</td>\n",
       "      <td>2015</td>\n",
       "      <td>8308</td>\n",
       "      <td>1867</td>\n",
       "      <td>2766</td>\n",
       "      <td>3633</td>\n",
       "      <td>27</td>\n",
       "      <td>54</td>\n",
       "    </tr>\n",
       "    <tr>\n",
       "      <th>5</th>\n",
       "      <td>Nov 2015</td>\n",
       "      <td>11</td>\n",
       "      <td>2015</td>\n",
       "      <td>7818</td>\n",
       "      <td>1729</td>\n",
       "      <td>2607</td>\n",
       "      <td>3452</td>\n",
       "      <td>22</td>\n",
       "      <td>48</td>\n",
       "    </tr>\n",
       "  </tbody>\n",
       "</table>\n",
       "</div>"
      ],
      "text/plain": [
       "  Month Year  month  year  Incident Count  Incident Count Part One  \\\n",
       "1   Jul 2015      7  2015            8326                     1993   \n",
       "2   Aug 2015      8  2015            8343                     1966   \n",
       "3   Sep 2015      9  2015            8415                     1893   \n",
       "4   Oct 2015     10  2015            8308                     1867   \n",
       "5   Nov 2015     11  2015            7818                     1729   \n",
       "\n",
       "   Incident Count Part Two  Incident Count Part Three  \\\n",
       "1                     2835                       3456   \n",
       "2                     2791                       3547   \n",
       "3                     2798                       3687   \n",
       "4                     2766                       3633   \n",
       "5                     2607                       3452   \n",
       "\n",
       "   Incident Count Part Other  Average Temperature  \n",
       "1                         28                   73  \n",
       "2                         25                   73  \n",
       "3                         26                   69  \n",
       "4                         27                   54  \n",
       "5                         22                   48  "
      ]
     },
     "execution_count": 43,
     "metadata": {},
     "output_type": "execute_result"
    }
   ],
   "source": [
    "crime_month_drop.head()"
   ]
  },
  {
   "cell_type": "code",
   "execution_count": 44,
   "metadata": {
    "pycharm": {
     "name": "#%%\n"
    }
   },
   "outputs": [
    {
     "data": {
      "text/html": [
       "<div>\n",
       "<style scoped>\n",
       "    .dataframe tbody tr th:only-of-type {\n",
       "        vertical-align: middle;\n",
       "    }\n",
       "\n",
       "    .dataframe tbody tr th {\n",
       "        vertical-align: top;\n",
       "    }\n",
       "\n",
       "    .dataframe thead th {\n",
       "        text-align: right;\n",
       "    }\n",
       "</style>\n",
       "<table border=\"1\" class=\"dataframe\">\n",
       "  <thead>\n",
       "    <tr style=\"text-align: right;\">\n",
       "      <th></th>\n",
       "      <th>Month Year</th>\n",
       "      <th>month</th>\n",
       "      <th>year</th>\n",
       "      <th>Incident Count</th>\n",
       "      <th>Incident Count Part One</th>\n",
       "      <th>Incident Count Part Two</th>\n",
       "      <th>Incident Count Part Three</th>\n",
       "      <th>Incident Count Part Other</th>\n",
       "      <th>Average Temperature</th>\n",
       "    </tr>\n",
       "  </thead>\n",
       "  <tbody>\n",
       "    <tr>\n",
       "      <th>35</th>\n",
       "      <td>May 2018</td>\n",
       "      <td>5</td>\n",
       "      <td>2018</td>\n",
       "      <td>8939</td>\n",
       "      <td>1571</td>\n",
       "      <td>2716</td>\n",
       "      <td>4563</td>\n",
       "      <td>34</td>\n",
       "      <td>60</td>\n",
       "    </tr>\n",
       "    <tr>\n",
       "      <th>36</th>\n",
       "      <td>Jun 2018</td>\n",
       "      <td>6</td>\n",
       "      <td>2018</td>\n",
       "      <td>8883</td>\n",
       "      <td>1661</td>\n",
       "      <td>2581</td>\n",
       "      <td>4539</td>\n",
       "      <td>40</td>\n",
       "      <td>67</td>\n",
       "    </tr>\n",
       "    <tr>\n",
       "      <th>37</th>\n",
       "      <td>Jul 2018</td>\n",
       "      <td>7</td>\n",
       "      <td>2018</td>\n",
       "      <td>8617</td>\n",
       "      <td>1712</td>\n",
       "      <td>2544</td>\n",
       "      <td>4246</td>\n",
       "      <td>36</td>\n",
       "      <td>75</td>\n",
       "    </tr>\n",
       "    <tr>\n",
       "      <th>38</th>\n",
       "      <td>Aug 2018</td>\n",
       "      <td>8</td>\n",
       "      <td>2018</td>\n",
       "      <td>8645</td>\n",
       "      <td>1642</td>\n",
       "      <td>2468</td>\n",
       "      <td>4419</td>\n",
       "      <td>37</td>\n",
       "      <td>76</td>\n",
       "    </tr>\n",
       "    <tr>\n",
       "      <th>39</th>\n",
       "      <td>Sep 2018</td>\n",
       "      <td>9</td>\n",
       "      <td>2018</td>\n",
       "      <td>8132</td>\n",
       "      <td>1480</td>\n",
       "      <td>2374</td>\n",
       "      <td>4179</td>\n",
       "      <td>32</td>\n",
       "      <td>68</td>\n",
       "    </tr>\n",
       "  </tbody>\n",
       "</table>\n",
       "</div>"
      ],
      "text/plain": [
       "   Month Year  month  year  Incident Count  Incident Count Part One  \\\n",
       "35   May 2018      5  2018            8939                     1571   \n",
       "36   Jun 2018      6  2018            8883                     1661   \n",
       "37   Jul 2018      7  2018            8617                     1712   \n",
       "38   Aug 2018      8  2018            8645                     1642   \n",
       "39   Sep 2018      9  2018            8132                     1480   \n",
       "\n",
       "    Incident Count Part Two  Incident Count Part Three  \\\n",
       "35                     2716                       4563   \n",
       "36                     2581                       4539   \n",
       "37                     2544                       4246   \n",
       "38                     2468                       4419   \n",
       "39                     2374                       4179   \n",
       "\n",
       "    Incident Count Part Other  Average Temperature  \n",
       "35                         34                   60  \n",
       "36                         40                   67  \n",
       "37                         36                   75  \n",
       "38                         37                   76  \n",
       "39                         32                   68  "
      ]
     },
     "execution_count": 44,
     "metadata": {},
     "output_type": "execute_result"
    }
   ],
   "source": [
    "crime_month_drop.tail()"
   ]
  },
  {
   "cell_type": "markdown",
   "metadata": {},
   "source": [
    "Let's plot them out using our draw_UCR() function."
   ]
  },
  {
   "cell_type": "code",
   "execution_count": 45,
   "metadata": {
    "pycharm": {
     "name": "#%%\n"
    }
   },
   "outputs": [
    {
     "data": {
      "image/png": "[encoded data removed]",
      "text/plain": [
       "<Figure size 864x504 with 2 Axes>"
      ]
     },
     "metadata": {},
     "output_type": "display_data"
    }
   ],
   "source": [
    "# Plotting\n",
    "draw_UCR(crime_month_drop, \"One\")"
   ]
  },
  {
   "cell_type": "code",
   "execution_count": 46,
   "metadata": {
    "pycharm": {
     "name": "#%%\n"
    }
   },
   "outputs": [
    {
     "data": {
      "image/png": "[encoded data removed]",
      "text/plain": [
       "<Figure size 864x504 with 2 Axes>"
      ]
     },
     "metadata": {},
     "output_type": "display_data"
    }
   ],
   "source": [
    "draw_UCR(crime_month_drop, \"Two\")"
   ]
  },
  {
   "cell_type": "code",
   "execution_count": 47,
   "metadata": {
    "pycharm": {
     "name": "#%%\n"
    }
   },
   "outputs": [
    {
     "data": {
      "image/png": "[encoded data removed]",
      "text/plain": [
       "<Figure size 864x504 with 2 Axes>"
      ]
     },
     "metadata": {},
     "output_type": "display_data"
    }
   ],
   "source": [
    "draw_UCR(crime_month_drop, \"Three\")"
   ]
  },
  {
   "cell_type": "code",
   "execution_count": 48,
   "metadata": {
    "pycharm": {
     "name": "#%%\n"
    }
   },
   "outputs": [
    {
     "data": {
      "image/png": "[encoded data removed]",
      "text/plain": [
       "<Figure size 864x504 with 2 Axes>"
      ]
     },
     "metadata": {},
     "output_type": "display_data"
    }
   ],
   "source": [
    "draw_UCR(crime_month_drop, \"Other\")"
   ]
  },
  {
   "cell_type": "markdown",
   "metadata": {},
   "source": [
    "The first thing that we can point out immediately looking at these for new graphs is that the movements of the two line charts in each graph have significantly followed the same pattern. As the matter of fact, the first three graphs still show a stronger correlation than the last one, but we can notice a lot of increase-together and decrease-together periods in Temperature and Incident Count in the fourth graph, much cleaer than that in our old exploration.\n",
    "\n",
    "All in all, this simple optimazation technique has proved to be surprisingly helpful in displaying dramatically clearer correlations, thus emphasizing the relationship between the two attributes. Now, it is safe to say that we can conclude a strong positive correlation between Temperature and Incident Count."
   ]
  },
  {
   "cell_type": "markdown",
   "metadata": {},
   "source": [
    "<br>\n"
   ]
  },
  {
   "cell_type": "markdown",
   "metadata": {},
   "source": [
    "### 9. Conclusion\n",
    "---\n",
    "*(Briefly describe what you have done and what you discovered. Discuss any shortcomings of the process and results. Propose future work. **Finally, discuss the lessons learned from doing the project**.)*"
   ]
  },
  {
   "cell_type": "markdown",
   "metadata": {
    "pycharm": {
     "name": "#%% md\n"
    }
   },
   "source": [
    "Throughout several visualization and analysis, we firmly believe that we have found the strong positive correlation between the numbe of crime occurrence and the average temperature of the month. The graphs have indicated that in most cases, the incident count increased when the average temperature rose, and the count decreased when the temperature dropped.Income level did not play an influential role in affecting in the pattern of incident count like what we had expected at the beginning of our project. Even though it is logic to say parts of the data have proven that wealthier districts had fewer incidents, but there were not enough to make a concrete conclusion that income level and crime have anything to do with each other, at least in the scope of our project.\n"
   ]
  },
  {
   "cell_type": "markdown",
   "metadata": {},
   "source": [
    "### 10. References"
   ]
  },
  {
   "cell_type": "markdown",
   "metadata": {
    "pycharm": {
     "name": "#%% md\n"
    }
   },
   "source": [
    "AnkurJain. (2018, October 04). Crimes in Boston. Retrieved May 26, 2019, from https://www.kaggle.com/ankkur13/boston-crime-dataNational Institute of Justice. (n.d.).\n",
    "\n",
    "Police Districts. Retrieved from https://bpdnews.com/districts. Boston Police Department. (n.d).\n",
    "\n",
    "Household Income in Boston, MA by Zip Code. Retrieved from http://www.zipatlas.com/us/ma/boston/zip-code-comparison/median-household-income.htm. ZipAtlas.com Development Team. (n.d.).\n"
   ]
  },
  {
   "cell_type": "markdown",
   "metadata": {},
   "source": [
    "---\n",
    "(*Use the following requirements for writing your reports. DO NOT DELETE THE CELLS BELLOW*)"
   ]
  },
  {
   "cell_type": "markdown",
   "metadata": {},
   "source": [
    "# Project Requirements\n",
    "\n",
    "This final project examines the level of knowledge the students have learned from the course. The following course outcomes will be checked against the content of the report:\n",
    "\n",
    "Upon successful completion of this course, a student will be able to:\n",
    "* Describe the main steps and key issues in the process of acquiring and preparing data for data analytics.\n",
    "* Set up data analysis environment by integrating commonly used practical tools and programming packages.   \n",
    "* Explain different types of data storages and formats and apply appropriate tools for extracting and transforming data.\n",
    "* Create interactive and programming code for cleansing, wrangling, reshaping, visualizing and analyzing various data sets. \n",
    "* Explain the concepts of aggregation and grouping, and apply tools and write programs to aggregate and group data.\n",
    "\n",
    "** Marking will be foucsed on both presentation and content.** \n",
    "\n",
    "## Written Presentation Requirements\n",
    "The report will be judged on the basis of visual appearance, grammatical correctness, and quality of writing, as well as its contents. Please make sure that the text of your report is well-structured, using paragraphs, full sentences, and other features of well-written presentation.\n",
    "\n",
    "## Technical Content:\n",
    "* Is the problem well defined and described thoroughly?\n",
    "* Is the size and complexity of the data set used in this project comparable to that of the example data sets used in the lectures and assignments?\n",
    "* Did the report describe the charactriatics of the data?\n",
    "* Did the report describe the goals of the data analysis?\n",
    "* Did the analysis use plotting methods for visualization? Does the visualization convey meaningful messages?\n",
    "* Did the analysis use wrangling, cleaning, and preparation methods? Does the work on wrangling, cleaning, and preparation demonstrate the student's knowlegde about these topics covered in this course?\n",
    "* Did the analysis conduct aggretation and create descriptive statistics? Does the work on aggregation and descriptive statistics demonstrate the student's knowlegde about these topics covered in this course?\n",
    "* Did the report include all related references?\n",
    "* Only those projects that exceed the sophistication of the final data analysis examples and assignments can be marked as the highest level of grade.\n",
    "* Overall, what is the rating of this project?"
   ]
  },
  {
   "cell_type": "code",
   "execution_count": null,
   "metadata": {
    "pycharm": {
     "name": "#%%\n"
    }
   },
   "outputs": [],
   "source": []
  }
 ],
 "metadata": {
  "kernelspec": {
   "display_name": "Python 3",
   "language": "python",
   "name": "python3"
  },
  "language_info": {
   "codemirror_mode": {
    "name": "ipython",
    "version": 3
   },
   "file_extension": ".py",
   "mimetype": "text/x-python",
   "name": "python",
   "nbconvert_exporter": "python",
   "pygments_lexer": "ipython3",
   "version": "3.7.7"
  }
 },
 "nbformat": 4,
 "nbformat_minor": 4
}
